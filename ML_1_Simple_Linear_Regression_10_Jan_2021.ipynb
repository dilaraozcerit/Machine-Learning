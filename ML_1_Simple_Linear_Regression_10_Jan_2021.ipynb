{
  "cells": [
    {
      "cell_type": "markdown",
      "metadata": {
        "id": "view-in-github",
        "colab_type": "text"
      },
      "source": [
        "<a href=\"https://colab.research.google.com/github/dilaraozcerit/Machine-Learning/blob/main/ML_1_Simple_Linear_Regression_10_Jan_2021.ipynb\" target=\"_parent\"><img src=\"https://colab.research.google.com/assets/colab-badge.svg\" alt=\"Open In Colab\"/></a>"
      ]
    },
    {
      "cell_type": "markdown",
      "id": "vocational-shopper",
      "metadata": {
        "id": "vocational-shopper"
      },
      "source": [
        "# Simple Linear Regression - Supervised Model"
      ]
    },
    {
      "cell_type": "markdown",
      "id": "lesbian-fluid",
      "metadata": {
        "id": "lesbian-fluid"
      },
      "source": [
        "## Import Library"
      ]
    },
    {
      "cell_type": "code",
      "execution_count": null,
      "id": "bottom-parish",
      "metadata": {
        "id": "bottom-parish"
      },
      "outputs": [],
      "source": [
        "import numpy as np\n",
        "import pandas as pd\n",
        "import matplotlib.pyplot as plt\n",
        "import seaborn as sns\n",
        "import scipy.stats as stats\n",
        "plt.rcParams[\"figure.figsize\"] = (10,6)\n",
        "import warnings\n",
        "warnings.filterwarnings('ignore')"
      ]
    },
    {
      "cell_type": "markdown",
      "id": "thick-anderson",
      "metadata": {
        "id": "thick-anderson"
      },
      "source": [
        "## Read Dataset"
      ]
    },
    {
      "cell_type": "code",
      "execution_count": null,
      "id": "5545c0d3",
      "metadata": {
        "id": "5545c0d3",
        "outputId": "0bf7961f-20f4-46cd-ea7c-61ff78fa84dd"
      },
      "outputs": [
        {
          "data": {
            "text/html": [
              "<div>\n",
              "<style scoped>\n",
              "    .dataframe tbody tr th:only-of-type {\n",
              "        vertical-align: middle;\n",
              "    }\n",
              "\n",
              "    .dataframe tbody tr th {\n",
              "        vertical-align: top;\n",
              "    }\n",
              "\n",
              "    .dataframe thead th {\n",
              "        text-align: right;\n",
              "    }\n",
              "</style>\n",
              "<table border=\"1\" class=\"dataframe\">\n",
              "  <thead>\n",
              "    <tr style=\"text-align: right;\">\n",
              "      <th></th>\n",
              "      <th>TV</th>\n",
              "      <th>radio</th>\n",
              "      <th>newspaper</th>\n",
              "      <th>sales</th>\n",
              "    </tr>\n",
              "  </thead>\n",
              "  <tbody>\n",
              "    <tr>\n",
              "      <th>0</th>\n",
              "      <td>230.1</td>\n",
              "      <td>37.8</td>\n",
              "      <td>69.2</td>\n",
              "      <td>22.1</td>\n",
              "    </tr>\n",
              "    <tr>\n",
              "      <th>1</th>\n",
              "      <td>44.5</td>\n",
              "      <td>39.3</td>\n",
              "      <td>45.1</td>\n",
              "      <td>10.4</td>\n",
              "    </tr>\n",
              "    <tr>\n",
              "      <th>2</th>\n",
              "      <td>17.2</td>\n",
              "      <td>45.9</td>\n",
              "      <td>69.3</td>\n",
              "      <td>9.3</td>\n",
              "    </tr>\n",
              "    <tr>\n",
              "      <th>3</th>\n",
              "      <td>151.5</td>\n",
              "      <td>41.3</td>\n",
              "      <td>58.5</td>\n",
              "      <td>18.5</td>\n",
              "    </tr>\n",
              "    <tr>\n",
              "      <th>4</th>\n",
              "      <td>180.8</td>\n",
              "      <td>10.8</td>\n",
              "      <td>58.4</td>\n",
              "      <td>12.9</td>\n",
              "    </tr>\n",
              "    <tr>\n",
              "      <th>...</th>\n",
              "      <td>...</td>\n",
              "      <td>...</td>\n",
              "      <td>...</td>\n",
              "      <td>...</td>\n",
              "    </tr>\n",
              "    <tr>\n",
              "      <th>195</th>\n",
              "      <td>38.2</td>\n",
              "      <td>3.7</td>\n",
              "      <td>13.8</td>\n",
              "      <td>7.6</td>\n",
              "    </tr>\n",
              "    <tr>\n",
              "      <th>196</th>\n",
              "      <td>94.2</td>\n",
              "      <td>4.9</td>\n",
              "      <td>8.1</td>\n",
              "      <td>9.7</td>\n",
              "    </tr>\n",
              "    <tr>\n",
              "      <th>197</th>\n",
              "      <td>177.0</td>\n",
              "      <td>9.3</td>\n",
              "      <td>6.4</td>\n",
              "      <td>12.8</td>\n",
              "    </tr>\n",
              "    <tr>\n",
              "      <th>198</th>\n",
              "      <td>283.6</td>\n",
              "      <td>42.0</td>\n",
              "      <td>66.2</td>\n",
              "      <td>25.5</td>\n",
              "    </tr>\n",
              "    <tr>\n",
              "      <th>199</th>\n",
              "      <td>232.1</td>\n",
              "      <td>8.6</td>\n",
              "      <td>8.7</td>\n",
              "      <td>13.4</td>\n",
              "    </tr>\n",
              "  </tbody>\n",
              "</table>\n",
              "<p>200 rows × 4 columns</p>\n",
              "</div>"
            ],
            "text/plain": [
              "        TV  radio  newspaper  sales\n",
              "0    230.1   37.8       69.2   22.1\n",
              "1     44.5   39.3       45.1   10.4\n",
              "2     17.2   45.9       69.3    9.3\n",
              "3    151.5   41.3       58.5   18.5\n",
              "4    180.8   10.8       58.4   12.9\n",
              "..     ...    ...        ...    ...\n",
              "195   38.2    3.7       13.8    7.6\n",
              "196   94.2    4.9        8.1    9.7\n",
              "197  177.0    9.3        6.4   12.8\n",
              "198  283.6   42.0       66.2   25.5\n",
              "199  232.1    8.6        8.7   13.4\n",
              "\n",
              "[200 rows x 4 columns]"
            ]
          },
          "execution_count": 2,
          "metadata": {},
          "output_type": "execute_result"
        }
      ],
      "source": [
        "df = pd.read_csv(\"Advertising.csv\")\n",
        "df"
      ]
    },
    {
      "cell_type": "code",
      "execution_count": null,
      "id": "6b964916",
      "metadata": {
        "id": "6b964916"
      },
      "outputs": [],
      "source": [
        ""
      ]
    },
    {
      "cell_type": "markdown",
      "id": "854f7be2",
      "metadata": {
        "id": "854f7be2"
      },
      "source": [
        "independent variable = feature = estimator = attribute = input\n",
        "\n",
        "dependent variable   = target  = label     = output\n",
        "\n",
        "rows = observation, sample\n",
        "\n",
        "**features** = TV + radio + newspaper\n",
        "\n",
        "**target** = sales"
      ]
    },
    {
      "cell_type": "code",
      "execution_count": null,
      "id": "53641a34",
      "metadata": {
        "id": "53641a34",
        "outputId": "dc443689-0b96-4352-9f7d-e57d604d7b6b"
      },
      "outputs": [
        {
          "name": "stdout",
          "output_type": "stream",
          "text": [
            "<class 'pandas.core.frame.DataFrame'>\n",
            "RangeIndex: 200 entries, 0 to 199\n",
            "Data columns (total 4 columns):\n",
            " #   Column     Non-Null Count  Dtype  \n",
            "---  ------     --------------  -----  \n",
            " 0   TV         200 non-null    float64\n",
            " 1   radio      200 non-null    float64\n",
            " 2   newspaper  200 non-null    float64\n",
            " 3   sales      200 non-null    float64\n",
            "dtypes: float64(4)\n",
            "memory usage: 6.4 KB\n"
          ]
        }
      ],
      "source": [
        "df.info()"
      ]
    },
    {
      "cell_type": "code",
      "execution_count": null,
      "id": "0ab953b7",
      "metadata": {
        "id": "0ab953b7",
        "outputId": "8c2195bf-25ba-48f9-db5d-d4d2d589d5af"
      },
      "outputs": [
        {
          "data": {
            "text/html": [
              "<div>\n",
              "<style scoped>\n",
              "    .dataframe tbody tr th:only-of-type {\n",
              "        vertical-align: middle;\n",
              "    }\n",
              "\n",
              "    .dataframe tbody tr th {\n",
              "        vertical-align: top;\n",
              "    }\n",
              "\n",
              "    .dataframe thead th {\n",
              "        text-align: right;\n",
              "    }\n",
              "</style>\n",
              "<table border=\"1\" class=\"dataframe\">\n",
              "  <thead>\n",
              "    <tr style=\"text-align: right;\">\n",
              "      <th></th>\n",
              "      <th>TV</th>\n",
              "      <th>radio</th>\n",
              "      <th>newspaper</th>\n",
              "      <th>sales</th>\n",
              "    </tr>\n",
              "  </thead>\n",
              "  <tbody>\n",
              "    <tr>\n",
              "      <th>count</th>\n",
              "      <td>200.000000</td>\n",
              "      <td>200.000000</td>\n",
              "      <td>200.000000</td>\n",
              "      <td>200.000000</td>\n",
              "    </tr>\n",
              "    <tr>\n",
              "      <th>mean</th>\n",
              "      <td>147.042500</td>\n",
              "      <td>23.264000</td>\n",
              "      <td>30.554000</td>\n",
              "      <td>14.022500</td>\n",
              "    </tr>\n",
              "    <tr>\n",
              "      <th>std</th>\n",
              "      <td>85.854236</td>\n",
              "      <td>14.846809</td>\n",
              "      <td>21.778621</td>\n",
              "      <td>5.217457</td>\n",
              "    </tr>\n",
              "    <tr>\n",
              "      <th>min</th>\n",
              "      <td>0.700000</td>\n",
              "      <td>0.000000</td>\n",
              "      <td>0.300000</td>\n",
              "      <td>1.600000</td>\n",
              "    </tr>\n",
              "    <tr>\n",
              "      <th>25%</th>\n",
              "      <td>74.375000</td>\n",
              "      <td>9.975000</td>\n",
              "      <td>12.750000</td>\n",
              "      <td>10.375000</td>\n",
              "    </tr>\n",
              "    <tr>\n",
              "      <th>50%</th>\n",
              "      <td>149.750000</td>\n",
              "      <td>22.900000</td>\n",
              "      <td>25.750000</td>\n",
              "      <td>12.900000</td>\n",
              "    </tr>\n",
              "    <tr>\n",
              "      <th>75%</th>\n",
              "      <td>218.825000</td>\n",
              "      <td>36.525000</td>\n",
              "      <td>45.100000</td>\n",
              "      <td>17.400000</td>\n",
              "    </tr>\n",
              "    <tr>\n",
              "      <th>max</th>\n",
              "      <td>296.400000</td>\n",
              "      <td>49.600000</td>\n",
              "      <td>114.000000</td>\n",
              "      <td>27.000000</td>\n",
              "    </tr>\n",
              "  </tbody>\n",
              "</table>\n",
              "</div>"
            ],
            "text/plain": [
              "               TV       radio   newspaper       sales\n",
              "count  200.000000  200.000000  200.000000  200.000000\n",
              "mean   147.042500   23.264000   30.554000   14.022500\n",
              "std     85.854236   14.846809   21.778621    5.217457\n",
              "min      0.700000    0.000000    0.300000    1.600000\n",
              "25%     74.375000    9.975000   12.750000   10.375000\n",
              "50%    149.750000   22.900000   25.750000   12.900000\n",
              "75%    218.825000   36.525000   45.100000   17.400000\n",
              "max    296.400000   49.600000  114.000000   27.000000"
            ]
          },
          "execution_count": 4,
          "metadata": {},
          "output_type": "execute_result"
        }
      ],
      "source": [
        "df.describe()   #Categoric verileri çevirmez, sadece numeric değerleri çevirir. \n",
        "\n",
        "#std sapma meanden büyük ise orada outlier değerler vardır.\n",
        "#1. ve 3. çeyrek arasında uçurum değerler varsa buraya dikkat etmek lazım.\n",
        "\n",
        "#features ile target arasında strong relationship varsa linear regression vardır. "
      ]
    },
    {
      "cell_type": "markdown",
      "id": "spectacular-algebra",
      "metadata": {
        "id": "spectacular-algebra"
      },
      "source": [
        "## Create new independent variable (feature)"
      ]
    },
    {
      "cell_type": "code",
      "execution_count": null,
      "id": "aacaad68",
      "metadata": {
        "id": "aacaad68",
        "outputId": "62f940c3-687f-4dbe-b285-4f598426cff0"
      },
      "outputs": [
        {
          "data": {
            "text/html": [
              "<div>\n",
              "<style scoped>\n",
              "    .dataframe tbody tr th:only-of-type {\n",
              "        vertical-align: middle;\n",
              "    }\n",
              "\n",
              "    .dataframe tbody tr th {\n",
              "        vertical-align: top;\n",
              "    }\n",
              "\n",
              "    .dataframe thead th {\n",
              "        text-align: right;\n",
              "    }\n",
              "</style>\n",
              "<table border=\"1\" class=\"dataframe\">\n",
              "  <thead>\n",
              "    <tr style=\"text-align: right;\">\n",
              "      <th></th>\n",
              "      <th>TV</th>\n",
              "      <th>radio</th>\n",
              "      <th>newspaper</th>\n",
              "      <th>sales</th>\n",
              "      <th>total_spend</th>\n",
              "    </tr>\n",
              "  </thead>\n",
              "  <tbody>\n",
              "    <tr>\n",
              "      <th>0</th>\n",
              "      <td>230.1</td>\n",
              "      <td>37.8</td>\n",
              "      <td>69.2</td>\n",
              "      <td>22.1</td>\n",
              "      <td>337.1</td>\n",
              "    </tr>\n",
              "    <tr>\n",
              "      <th>1</th>\n",
              "      <td>44.5</td>\n",
              "      <td>39.3</td>\n",
              "      <td>45.1</td>\n",
              "      <td>10.4</td>\n",
              "      <td>128.9</td>\n",
              "    </tr>\n",
              "    <tr>\n",
              "      <th>2</th>\n",
              "      <td>17.2</td>\n",
              "      <td>45.9</td>\n",
              "      <td>69.3</td>\n",
              "      <td>9.3</td>\n",
              "      <td>132.4</td>\n",
              "    </tr>\n",
              "    <tr>\n",
              "      <th>3</th>\n",
              "      <td>151.5</td>\n",
              "      <td>41.3</td>\n",
              "      <td>58.5</td>\n",
              "      <td>18.5</td>\n",
              "      <td>251.3</td>\n",
              "    </tr>\n",
              "    <tr>\n",
              "      <th>4</th>\n",
              "      <td>180.8</td>\n",
              "      <td>10.8</td>\n",
              "      <td>58.4</td>\n",
              "      <td>12.9</td>\n",
              "      <td>250.0</td>\n",
              "    </tr>\n",
              "    <tr>\n",
              "      <th>...</th>\n",
              "      <td>...</td>\n",
              "      <td>...</td>\n",
              "      <td>...</td>\n",
              "      <td>...</td>\n",
              "      <td>...</td>\n",
              "    </tr>\n",
              "    <tr>\n",
              "      <th>195</th>\n",
              "      <td>38.2</td>\n",
              "      <td>3.7</td>\n",
              "      <td>13.8</td>\n",
              "      <td>7.6</td>\n",
              "      <td>55.7</td>\n",
              "    </tr>\n",
              "    <tr>\n",
              "      <th>196</th>\n",
              "      <td>94.2</td>\n",
              "      <td>4.9</td>\n",
              "      <td>8.1</td>\n",
              "      <td>9.7</td>\n",
              "      <td>107.2</td>\n",
              "    </tr>\n",
              "    <tr>\n",
              "      <th>197</th>\n",
              "      <td>177.0</td>\n",
              "      <td>9.3</td>\n",
              "      <td>6.4</td>\n",
              "      <td>12.8</td>\n",
              "      <td>192.7</td>\n",
              "    </tr>\n",
              "    <tr>\n",
              "      <th>198</th>\n",
              "      <td>283.6</td>\n",
              "      <td>42.0</td>\n",
              "      <td>66.2</td>\n",
              "      <td>25.5</td>\n",
              "      <td>391.8</td>\n",
              "    </tr>\n",
              "    <tr>\n",
              "      <th>199</th>\n",
              "      <td>232.1</td>\n",
              "      <td>8.6</td>\n",
              "      <td>8.7</td>\n",
              "      <td>13.4</td>\n",
              "      <td>249.4</td>\n",
              "    </tr>\n",
              "  </tbody>\n",
              "</table>\n",
              "<p>200 rows × 5 columns</p>\n",
              "</div>"
            ],
            "text/plain": [
              "        TV  radio  newspaper  sales  total_spend\n",
              "0    230.1   37.8       69.2   22.1        337.1\n",
              "1     44.5   39.3       45.1   10.4        128.9\n",
              "2     17.2   45.9       69.3    9.3        132.4\n",
              "3    151.5   41.3       58.5   18.5        251.3\n",
              "4    180.8   10.8       58.4   12.9        250.0\n",
              "..     ...    ...        ...    ...          ...\n",
              "195   38.2    3.7       13.8    7.6         55.7\n",
              "196   94.2    4.9        8.1    9.7        107.2\n",
              "197  177.0    9.3        6.4   12.8        192.7\n",
              "198  283.6   42.0       66.2   25.5        391.8\n",
              "199  232.1    8.6        8.7   13.4        249.4\n",
              "\n",
              "[200 rows x 5 columns]"
            ]
          },
          "execution_count": 6,
          "metadata": {},
          "output_type": "execute_result"
        }
      ],
      "source": [
        "df[\"total_spend\"] = df[\"TV\"] + df[\"radio\"] + df[\"newspaper\"]  \n",
        "df\n",
        "\n",
        "#tek bir independent variable alabileceğim için, bir kolon haline getirmeyi tercih ediyorum. "
      ]
    },
    {
      "cell_type": "code",
      "execution_count": null,
      "id": "fffefb03",
      "metadata": {
        "id": "fffefb03",
        "outputId": "deac2d38-d7a7-4363-d422-2ac02c9891a3"
      },
      "outputs": [
        {
          "data": {
            "text/html": [
              "<div>\n",
              "<style scoped>\n",
              "    .dataframe tbody tr th:only-of-type {\n",
              "        vertical-align: middle;\n",
              "    }\n",
              "\n",
              "    .dataframe tbody tr th {\n",
              "        vertical-align: top;\n",
              "    }\n",
              "\n",
              "    .dataframe thead th {\n",
              "        text-align: right;\n",
              "    }\n",
              "</style>\n",
              "<table border=\"1\" class=\"dataframe\">\n",
              "  <thead>\n",
              "    <tr style=\"text-align: right;\">\n",
              "      <th></th>\n",
              "      <th>TV</th>\n",
              "      <th>radio</th>\n",
              "      <th>newspaper</th>\n",
              "      <th>total_spend</th>\n",
              "      <th>sales</th>\n",
              "    </tr>\n",
              "  </thead>\n",
              "  <tbody>\n",
              "    <tr>\n",
              "      <th>0</th>\n",
              "      <td>230.1</td>\n",
              "      <td>37.8</td>\n",
              "      <td>69.2</td>\n",
              "      <td>337.1</td>\n",
              "      <td>22.1</td>\n",
              "    </tr>\n",
              "    <tr>\n",
              "      <th>1</th>\n",
              "      <td>44.5</td>\n",
              "      <td>39.3</td>\n",
              "      <td>45.1</td>\n",
              "      <td>128.9</td>\n",
              "      <td>10.4</td>\n",
              "    </tr>\n",
              "    <tr>\n",
              "      <th>2</th>\n",
              "      <td>17.2</td>\n",
              "      <td>45.9</td>\n",
              "      <td>69.3</td>\n",
              "      <td>132.4</td>\n",
              "      <td>9.3</td>\n",
              "    </tr>\n",
              "    <tr>\n",
              "      <th>3</th>\n",
              "      <td>151.5</td>\n",
              "      <td>41.3</td>\n",
              "      <td>58.5</td>\n",
              "      <td>251.3</td>\n",
              "      <td>18.5</td>\n",
              "    </tr>\n",
              "    <tr>\n",
              "      <th>4</th>\n",
              "      <td>180.8</td>\n",
              "      <td>10.8</td>\n",
              "      <td>58.4</td>\n",
              "      <td>250.0</td>\n",
              "      <td>12.9</td>\n",
              "    </tr>\n",
              "  </tbody>\n",
              "</table>\n",
              "</div>"
            ],
            "text/plain": [
              "      TV  radio  newspaper  total_spend  sales\n",
              "0  230.1   37.8       69.2        337.1   22.1\n",
              "1   44.5   39.3       45.1        128.9   10.4\n",
              "2   17.2   45.9       69.3        132.4    9.3\n",
              "3  151.5   41.3       58.5        251.3   18.5\n",
              "4  180.8   10.8       58.4        250.0   12.9"
            ]
          },
          "execution_count": 7,
          "metadata": {},
          "output_type": "execute_result"
        }
      ],
      "source": [
        "df= df.iloc[:,[0,1,2,4,3]]\n",
        "df.head()"
      ]
    },
    {
      "cell_type": "markdown",
      "id": "funky-joseph",
      "metadata": {
        "id": "funky-joseph"
      },
      "source": [
        "## Which feature is more suitable for linear regression?"
      ]
    },
    {
      "cell_type": "code",
      "execution_count": null,
      "id": "f07ad926",
      "metadata": {
        "id": "f07ad926",
        "outputId": "f93c8f48-9bfa-446e-9638-03a03ae75307"
      },
      "outputs": [
        {
          "name": "stdout",
          "output_type": "stream",
          "text": [
            "corr between sales and TV          : 0.7822244248616061\n",
            "corr between sales and radio       : 0.5762225745710551\n",
            "corr between sales and newspaper   : 0.22829902637616528\n",
            "corr between sales and total_spend : 0.8677123027017427\n"
          ]
        }
      ],
      "source": [
        "for i in df.drop(columns= \"sales\"):\n",
        "    print(f\"corr between sales and {i:<12}: {df.sales.corr(df[i])}\")\n",
        "    \n",
        "#sales target olduğu için düşürüldü. Target feature içinde olamaz."
      ]
    },
    {
      "cell_type": "code",
      "execution_count": null,
      "id": "08a29847",
      "metadata": {
        "id": "08a29847",
        "outputId": "36a1a9e8-078d-4ded-e371-c7aa186e5885"
      },
      "outputs": [
        {
          "data": {
            "image/png": "[encoded data removed]",
            "text/plain": [
              "<Figure size 720x432 with 2 Axes>"
            ]
          },
          "metadata": {
            "needs_background": "light"
          },
          "output_type": "display_data"
        }
      ],
      "source": [
        "sns.heatmap(df.corr(), annot=True);"
      ]
    },
    {
      "cell_type": "code",
      "execution_count": null,
      "id": "ae255b40-32eb-40f5-9cb3-ac99850c717d",
      "metadata": {
        "id": "ae255b40-32eb-40f5-9cb3-ac99850c717d",
        "outputId": "bec7b860-cfec-477c-e2e3-d6c3b5c2fbb9"
      },
      "outputs": [
        {
          "data": {
            "text/html": [
              "<div>\n",
              "<style scoped>\n",
              "    .dataframe tbody tr th:only-of-type {\n",
              "        vertical-align: middle;\n",
              "    }\n",
              "\n",
              "    .dataframe tbody tr th {\n",
              "        vertical-align: top;\n",
              "    }\n",
              "\n",
              "    .dataframe thead th {\n",
              "        text-align: right;\n",
              "    }\n",
              "</style>\n",
              "<table border=\"1\" class=\"dataframe\">\n",
              "  <thead>\n",
              "    <tr style=\"text-align: right;\">\n",
              "      <th></th>\n",
              "      <th>total_spend</th>\n",
              "      <th>sales</th>\n",
              "    </tr>\n",
              "  </thead>\n",
              "  <tbody>\n",
              "    <tr>\n",
              "      <th>0</th>\n",
              "      <td>337.1</td>\n",
              "      <td>22.1</td>\n",
              "    </tr>\n",
              "    <tr>\n",
              "      <th>1</th>\n",
              "      <td>128.9</td>\n",
              "      <td>10.4</td>\n",
              "    </tr>\n",
              "    <tr>\n",
              "      <th>2</th>\n",
              "      <td>132.4</td>\n",
              "      <td>9.3</td>\n",
              "    </tr>\n",
              "    <tr>\n",
              "      <th>3</th>\n",
              "      <td>251.3</td>\n",
              "      <td>18.5</td>\n",
              "    </tr>\n",
              "    <tr>\n",
              "      <th>4</th>\n",
              "      <td>250.0</td>\n",
              "      <td>12.9</td>\n",
              "    </tr>\n",
              "    <tr>\n",
              "      <th>...</th>\n",
              "      <td>...</td>\n",
              "      <td>...</td>\n",
              "    </tr>\n",
              "    <tr>\n",
              "      <th>195</th>\n",
              "      <td>55.7</td>\n",
              "      <td>7.6</td>\n",
              "    </tr>\n",
              "    <tr>\n",
              "      <th>196</th>\n",
              "      <td>107.2</td>\n",
              "      <td>9.7</td>\n",
              "    </tr>\n",
              "    <tr>\n",
              "      <th>197</th>\n",
              "      <td>192.7</td>\n",
              "      <td>12.8</td>\n",
              "    </tr>\n",
              "    <tr>\n",
              "      <th>198</th>\n",
              "      <td>391.8</td>\n",
              "      <td>25.5</td>\n",
              "    </tr>\n",
              "    <tr>\n",
              "      <th>199</th>\n",
              "      <td>249.4</td>\n",
              "      <td>13.4</td>\n",
              "    </tr>\n",
              "  </tbody>\n",
              "</table>\n",
              "<p>200 rows × 2 columns</p>\n",
              "</div>"
            ],
            "text/plain": [
              "     total_spend  sales\n",
              "0          337.1   22.1\n",
              "1          128.9   10.4\n",
              "2          132.4    9.3\n",
              "3          251.3   18.5\n",
              "4          250.0   12.9\n",
              "..           ...    ...\n",
              "195         55.7    7.6\n",
              "196        107.2    9.7\n",
              "197        192.7   12.8\n",
              "198        391.8   25.5\n",
              "199        249.4   13.4\n",
              "\n",
              "[200 rows x 2 columns]"
            ]
          },
          "execution_count": 13,
          "metadata": {},
          "output_type": "execute_result"
        }
      ],
      "source": [
        "df= df[[\"total_spend\", \"sales\"]]\n",
        "df"
      ]
    },
    {
      "cell_type": "markdown",
      "id": "regulation-steering",
      "metadata": {
        "id": "regulation-steering"
      },
      "source": [
        "## Plotting the relationship between independent variable and dependent variable "
      ]
    },
    {
      "cell_type": "code",
      "execution_count": null,
      "id": "0630cf1e-734d-44fc-bc68-3999ca95b1c5",
      "metadata": {
        "id": "0630cf1e-734d-44fc-bc68-3999ca95b1c5",
        "outputId": "2131412c-982d-4654-9425-6ea105676f7d"
      },
      "outputs": [
        {
          "data": {
            "image/png": "[encoded data removed]",
            "text/plain": [
              "<Figure size 720x432 with 1 Axes>"
            ]
          },
          "metadata": {
            "needs_background": "light"
          },
          "output_type": "display_data"
        }
      ],
      "source": [
        "sns.scatterplot(x=\"total_spend\", y=\"sales\", data=df);    # + and  strong relationship"
      ]
    },
    {
      "cell_type": "code",
      "execution_count": null,
      "id": "5f3ccd93",
      "metadata": {
        "id": "5f3ccd93"
      },
      "outputs": [],
      "source": [
        "#total_spendeeki bir değişiklilk target da nasıl bir değişikliğe sebep plur? BU regression demek. \n",
        "#İşte burada Regression çizgisi çizerim.  Bu best linedır. Bu bizim tahmin çizgimiz. (Fitting)"
      ]
    },
    {
      "cell_type": "code",
      "execution_count": null,
      "id": "a6dffa97",
      "metadata": {
        "id": "a6dffa97"
      },
      "outputs": [],
      "source": [
        "#kuvvetli bir correlation varsa linear regressiona uygun bir data demek bu. Yani iyi sonuçları bulabilirim demek.  "
      ]
    },
    {
      "cell_type": "markdown",
      "id": "operational-target",
      "metadata": {
        "id": "operational-target"
      },
      "source": [
        "## Correlation between independent variable and dependent variable"
      ]
    },
    {
      "cell_type": "code",
      "execution_count": null,
      "id": "1050e5a3",
      "metadata": {
        "id": "1050e5a3",
        "outputId": "22dc7cfa-de0c-4b86-ca2a-df646e5009bb"
      },
      "outputs": [
        {
          "data": {
            "text/plain": [
              "0.8677123027017427"
            ]
          },
          "execution_count": 15,
          "metadata": {},
          "output_type": "execute_result"
        }
      ],
      "source": [
        "corr= df[\"sales\"].corr(df[\"total_spend\"])\n",
        "corr"
      ]
    },
    {
      "cell_type": "code",
      "execution_count": null,
      "id": "b5dc0def",
      "metadata": {
        "id": "b5dc0def",
        "outputId": "06a07f3b-f0c1-49c1-8d0b-181059fdec04"
      },
      "outputs": [
        {
          "data": {
            "text/plain": [
              "0.8677123027017427"
            ]
          },
          "execution_count": 16,
          "metadata": {},
          "output_type": "execute_result"
        }
      ],
      "source": [
        "df[\"total_spend\"].corr(df[\"sales\"])  #alternatif bir yazım"
      ]
    },
    {
      "cell_type": "markdown",
      "id": "adolescent-mongolia",
      "metadata": {
        "id": "adolescent-mongolia"
      },
      "source": [
        "## Coefficient of determination (R2)"
      ]
    },
    {
      "cell_type": "code",
      "execution_count": null,
      "id": "4637050d",
      "metadata": {
        "id": "4637050d",
        "outputId": "39618a9a-c186-4335-8487-5c640df4cbb8"
      },
      "outputs": [
        {
          "data": {
            "text/plain": [
              "0.7529246402599608"
            ]
          },
          "execution_count": 17,
          "metadata": {},
          "output_type": "execute_result"
        }
      ],
      "source": [
        "R2_score= corr**2   #elimdeki veri %75 oranında yeterli imiş.\n",
        "R2_score\n",
        "\n",
        "#linear regression için kullanılacak bir değer sadece. Targetı doğru tahmn edebilmek için elimde\n",
        "#ne kadar yeterli veri var buna bakmak için hesabını yapıyorum. \n",
        "\n"
      ]
    },
    {
      "cell_type": "code",
      "execution_count": null,
      "id": "2a85b18a-863f-4070-bed9-53a80009b9f1",
      "metadata": {
        "id": "2a85b18a-863f-4070-bed9-53a80009b9f1"
      },
      "outputs": [],
      "source": [
        "\n",
        "#bu örnekte aradaki fiyat farkındaki değişikliği değerlendirmek içindir. Ben ne kadar çok etken bilirsem, feature sayım arttıkça\n",
        "#bağımlı değişkeni bilme olasılığım artacak. Ama gerçek datalar o kadar karmaşık ki, biz birebir tahmin değil, genelleme istiyoruz.\n",
        "\n",
        "#feature fazla veya az olması değil, dengeli olması gerekir. "
      ]
    },
    {
      "cell_type": "markdown",
      "id": "046a6777",
      "metadata": {
        "id": "046a6777"
      },
      "source": [
        "A house price ----> 50.000 USD\n",
        "\n",
        "B house price ----> 60.000 USD\n",
        "\n",
        "\n",
        "A house ----> 2+1\n",
        "\n",
        "B house ----> 3+1\n",
        "\n",
        "\n",
        "If 3,000 USD of the variation in house prices is due to the number of rooms in the houses, what is the Coefficient of determination (R2) of the number of rooms?\n",
        "\n",
        "### R2_score for the number of rooms in the houses\n",
        "\n",
        "r2_score = 3000 / (60000-50000)\n",
        "\n",
        "r2_score = 0.3"
      ]
    },
    {
      "cell_type": "markdown",
      "id": "4ad2afd7",
      "metadata": {
        "id": "4ad2afd7"
      },
      "source": [
        "## Linear Regression"
      ]
    },
    {
      "cell_type": "code",
      "execution_count": null,
      "id": "39bd6c8a",
      "metadata": {
        "id": "39bd6c8a",
        "outputId": "bae3871c-5faa-4bc3-a7c1-3a1028bb2f6b"
      },
      "outputs": [
        {
          "data": {
            "image/png": "[encoded data removed]",
            "text/plain": [
              "<Figure size 720x432 with 1 Axes>"
            ]
          },
          "metadata": {
            "needs_background": "light"
          },
          "output_type": "display_data"
        }
      ],
      "source": [
        "sns.regplot(x=\"total_spend\", y=\"sales\", data= df, ci=None);  #best line çizmek için gerekli code. \n",
        "\n",
        "#ci: güven aralığı. Flu yerleri göstermesin diye none yapmışız.\n",
        "\n",
        "#en minimum hata payı neredeyse o noktaları birleştirip best line çiziyor.\n",
        "#çizilen best linein alt ve üstteki değerlerin toplanması sonucu her zaman 0 çıkar. Biz o yüzden karelerini alacağız. \n"
      ]
    },
    {
      "cell_type": "code",
      "execution_count": null,
      "id": "a6239ff6",
      "metadata": {
        "id": "a6239ff6"
      },
      "outputs": [],
      "source": [
        ""
      ]
    },
    {
      "cell_type": "markdown",
      "id": "perfect-setting",
      "metadata": {
        "id": "perfect-setting"
      },
      "source": [
        "## Splitting the dataset into X(independent variables) and y (dependent variable)"
      ]
    },
    {
      "cell_type": "code",
      "execution_count": null,
      "id": "textile-scholar",
      "metadata": {
        "id": "textile-scholar"
      },
      "outputs": [],
      "source": [
        "# y_pred = b1X + b0   #independent variable is X, dependent is Y"
      ]
    },
    {
      "cell_type": "code",
      "execution_count": null,
      "id": "ca5d3af8",
      "metadata": {
        "id": "ca5d3af8"
      },
      "outputs": [],
      "source": [
        "x= df[\"total_spend\"]\n",
        "y= df[\"sales\"]"
      ]
    },
    {
      "cell_type": "code",
      "execution_count": null,
      "id": "a16906e1-c534-4052-b443-81018ef2ef2e",
      "metadata": {
        "id": "a16906e1-c534-4052-b443-81018ef2ef2e"
      },
      "outputs": [],
      "source": [
        "#linear regressionda relationshipe ihtiyaç var bu yüzden bunları seçtik."
      ]
    },
    {
      "cell_type": "code",
      "execution_count": null,
      "id": "22e64468-8894-470b-9b45-1d6206fa6358",
      "metadata": {
        "id": "22e64468-8894-470b-9b45-1d6206fa6358"
      },
      "outputs": [],
      "source": [
        ""
      ]
    },
    {
      "cell_type": "markdown",
      "id": "printable-exhaust",
      "metadata": {
        "id": "printable-exhaust"
      },
      "source": [
        "## Determination of coefficients (slope and intercept)"
      ]
    },
    {
      "cell_type": "code",
      "execution_count": null,
      "id": "c52ff048-2606-4c6a-9633-7611ba55482b",
      "metadata": {
        "id": "c52ff048-2606-4c6a-9633-7611ba55482b",
        "outputId": "327f8d0e-4055-4830-a65d-8bfda2947818"
      },
      "outputs": [
        {
          "data": {
            "text/plain": [
              "array([0.04868788, 4.24302822])"
            ]
          },
          "execution_count": 25,
          "metadata": {},
          "output_type": "execute_result"
        }
      ],
      "source": [
        "np.polyfit(x,y, deg=1)               #bugüne özel kullandık sadece. Normalde scipy kullanacağız\n",
        "\n",
        "#deg degree demek. 1 olduğu yer linear regression demek zaten\n",
        "\n",
        "#bu çıkan değer, hiç bir şey yapmasan bile ödeyeceğin ya da kazanacağın şeydir. Tksimetre başlar başlamaz alınan değer gibi\n",
        "\n",
        "#ilk değer x'in katsayısı (b1): [slope] , [intercept]: 2. değer sabit değer (bo)"
      ]
    },
    {
      "cell_type": "code",
      "execution_count": null,
      "id": "87b43b27",
      "metadata": {
        "id": "87b43b27"
      },
      "outputs": [],
      "source": [
        "slope, intercept= np.polyfit(x,y, deg=1)"
      ]
    },
    {
      "cell_type": "code",
      "execution_count": null,
      "id": "68c84193",
      "metadata": {
        "id": "68c84193",
        "outputId": "4c0af6bc-c0f5-4df7-bb79-88d1e2bd2ff8"
      },
      "outputs": [
        {
          "name": "stdout",
          "output_type": "stream",
          "text": [
            "slope    : 0.04868787931904817\n",
            "intercept: 4.243028216036326\n"
          ]
        }
      ],
      "source": [
        "print(\"slope    :\", slope)\n",
        "print(\"intercept:\", intercept)"
      ]
    },
    {
      "cell_type": "markdown",
      "id": "environmental-platform",
      "metadata": {
        "id": "environmental-platform"
      },
      "source": [
        "## Why do we use the least squares error method to find the regression line that best fits the data?"
      ]
    },
    {
      "cell_type": "code",
      "execution_count": null,
      "id": "04f559e3",
      "metadata": {
        "id": "04f559e3"
      },
      "outputs": [],
      "source": [
        "b1, b0 = np.polyfit(x, y, deg=1)"
      ]
    },
    {
      "cell_type": "code",
      "execution_count": null,
      "id": "a2bc95af",
      "metadata": {
        "id": "a2bc95af",
        "outputId": "752d96c6-5b4f-4f3c-f3d5-4b2d4a330b60"
      },
      "outputs": [
        {
          "name": "stdout",
          "output_type": "stream",
          "text": [
            "b1 : 0.04868787931904817\n",
            "b0 : 4.243028216036326\n"
          ]
        }
      ],
      "source": [
        "print(\"b1 :\", b1)\n",
        "print(\"b0 :\", b0)"
      ]
    },
    {
      "cell_type": "code",
      "execution_count": null,
      "id": "metropolitan-stretch",
      "metadata": {
        "id": "metropolitan-stretch"
      },
      "outputs": [],
      "source": [
        "y_pred = b1*x + b0   # b2*X2 + b1*X + b0  "
      ]
    },
    {
      "cell_type": "code",
      "execution_count": null,
      "id": "78747159-6d57-4b41-befd-f31a0b65e883",
      "metadata": {
        "id": "78747159-6d57-4b41-befd-f31a0b65e883",
        "outputId": "7f523945-02b0-4740-e711-ad79ddb95acf"
      },
      "outputs": [
        {
          "data": {
            "text/html": [
              "<div>\n",
              "<style scoped>\n",
              "    .dataframe tbody tr th:only-of-type {\n",
              "        vertical-align: middle;\n",
              "    }\n",
              "\n",
              "    .dataframe tbody tr th {\n",
              "        vertical-align: top;\n",
              "    }\n",
              "\n",
              "    .dataframe thead th {\n",
              "        text-align: right;\n",
              "    }\n",
              "</style>\n",
              "<table border=\"1\" class=\"dataframe\">\n",
              "  <thead>\n",
              "    <tr style=\"text-align: right;\">\n",
              "      <th></th>\n",
              "      <th>actual</th>\n",
              "      <th>predicted</th>\n",
              "      <th>residual</th>\n",
              "      <th>LSE</th>\n",
              "    </tr>\n",
              "  </thead>\n",
              "  <tbody>\n",
              "    <tr>\n",
              "      <th>0</th>\n",
              "      <td>22.1</td>\n",
              "      <td>20.655712</td>\n",
              "      <td>1.444288</td>\n",
              "      <td>2.085967</td>\n",
              "    </tr>\n",
              "    <tr>\n",
              "      <th>1</th>\n",
              "      <td>10.4</td>\n",
              "      <td>10.518896</td>\n",
              "      <td>-0.118896</td>\n",
              "      <td>0.014136</td>\n",
              "    </tr>\n",
              "    <tr>\n",
              "      <th>2</th>\n",
              "      <td>9.3</td>\n",
              "      <td>10.689303</td>\n",
              "      <td>-1.389303</td>\n",
              "      <td>1.930164</td>\n",
              "    </tr>\n",
              "    <tr>\n",
              "      <th>3</th>\n",
              "      <td>18.5</td>\n",
              "      <td>16.478292</td>\n",
              "      <td>2.021708</td>\n",
              "      <td>4.087302</td>\n",
              "    </tr>\n",
              "    <tr>\n",
              "      <th>4</th>\n",
              "      <td>12.9</td>\n",
              "      <td>16.414998</td>\n",
              "      <td>-3.514998</td>\n",
              "      <td>12.355211</td>\n",
              "    </tr>\n",
              "    <tr>\n",
              "      <th>...</th>\n",
              "      <td>...</td>\n",
              "      <td>...</td>\n",
              "      <td>...</td>\n",
              "      <td>...</td>\n",
              "    </tr>\n",
              "    <tr>\n",
              "      <th>195</th>\n",
              "      <td>7.6</td>\n",
              "      <td>6.954943</td>\n",
              "      <td>0.645057</td>\n",
              "      <td>0.416098</td>\n",
              "    </tr>\n",
              "    <tr>\n",
              "      <th>196</th>\n",
              "      <td>9.7</td>\n",
              "      <td>9.462369</td>\n",
              "      <td>0.237631</td>\n",
              "      <td>0.056469</td>\n",
              "    </tr>\n",
              "    <tr>\n",
              "      <th>197</th>\n",
              "      <td>12.8</td>\n",
              "      <td>13.625183</td>\n",
              "      <td>-0.825183</td>\n",
              "      <td>0.680926</td>\n",
              "    </tr>\n",
              "    <tr>\n",
              "      <th>198</th>\n",
              "      <td>25.5</td>\n",
              "      <td>23.318939</td>\n",
              "      <td>2.181061</td>\n",
              "      <td>4.757026</td>\n",
              "    </tr>\n",
              "    <tr>\n",
              "      <th>199</th>\n",
              "      <td>13.4</td>\n",
              "      <td>16.385785</td>\n",
              "      <td>-2.985785</td>\n",
              "      <td>8.914914</td>\n",
              "    </tr>\n",
              "  </tbody>\n",
              "</table>\n",
              "<p>200 rows × 4 columns</p>\n",
              "</div>"
            ],
            "text/plain": [
              "     actual  predicted  residual        LSE\n",
              "0      22.1  20.655712  1.444288   2.085967\n",
              "1      10.4  10.518896 -0.118896   0.014136\n",
              "2       9.3  10.689303 -1.389303   1.930164\n",
              "3      18.5  16.478292  2.021708   4.087302\n",
              "4      12.9  16.414998 -3.514998  12.355211\n",
              "..      ...        ...       ...        ...\n",
              "195     7.6   6.954943  0.645057   0.416098\n",
              "196     9.7   9.462369  0.237631   0.056469\n",
              "197    12.8  13.625183 -0.825183   0.680926\n",
              "198    25.5  23.318939  2.181061   4.757026\n",
              "199    13.4  16.385785 -2.985785   8.914914\n",
              "\n",
              "[200 rows x 4 columns]"
            ]
          },
          "execution_count": 31,
          "metadata": {},
          "output_type": "execute_result"
        }
      ],
      "source": [
        "values = {\"actual\": y, \"predicted\": y_pred, \"residual\":y-y_pred, \"LSE\": (y-y_pred)**2}\n",
        "df_2 = pd.DataFrame(values)\n",
        "df_2\n",
        "\n",
        "#neden residualdaki verileri kullanmıyoruz direk?\n",
        "\n",
        "#residual: best lineın altında ve üstünde kalan değerler\n",
        "#LSE(square error): resudialin karesi"
      ]
    },
    {
      "cell_type": "code",
      "execution_count": null,
      "id": "122d0146-0aae-4976-8f23-06c61e7db044",
      "metadata": {
        "id": "122d0146-0aae-4976-8f23-06c61e7db044",
        "outputId": "6ee9efda-bbdd-48d7-c315-18dba1532d5f"
      },
      "outputs": [
        {
          "data": {
            "text/plain": [
              "-0.0"
            ]
          },
          "execution_count": 32,
          "metadata": {},
          "output_type": "execute_result"
        }
      ],
      "source": [
        "df_2.residual.sum().round()  #toplamları 0 yapar demiştik. Yani eğer 0 çıkıyorsa, best line benim için bulunmuş demektir. "
      ]
    },
    {
      "cell_type": "code",
      "execution_count": null,
      "id": "ef349a97-0d7a-4b05-bc81-48763721ded0",
      "metadata": {
        "id": "ef349a97-0d7a-4b05-bc81-48763721ded0",
        "outputId": "2cfb2042-2fee-4139-9e99-5fda1f086257"
      },
      "outputs": [
        {
          "data": {
            "text/plain": [
              "1338.4439761715594"
            ]
          },
          "execution_count": 33,
          "metadata": {},
          "output_type": "execute_result"
        }
      ],
      "source": [
        "df_2.LSE.sum()   #bu en düşük scoru veren değerin bu olduğunu biliyorum\n",
        "\n",
        "#çok anlaşılmadı"
      ]
    },
    {
      "cell_type": "code",
      "execution_count": null,
      "id": "5bbf8679-792a-4483-8bcd-a07453bbf886",
      "metadata": {
        "id": "5bbf8679-792a-4483-8bcd-a07453bbf886"
      },
      "outputs": [],
      "source": [
        "#biz bundan sonra bütün modellere verip en iyi scoru hangisi verirse onu kullanacağız. "
      ]
    },
    {
      "cell_type": "markdown",
      "id": "steady-desktop",
      "metadata": {
        "id": "steady-desktop"
      },
      "source": [
        "## Prediction with simple linear regression"
      ]
    },
    {
      "cell_type": "code",
      "execution_count": null,
      "id": "4cff7f60",
      "metadata": {
        "id": "4cff7f60",
        "outputId": "51a06425-a142-4dbf-8901-b17942d286ff"
      },
      "outputs": [
        {
          "data": {
            "text/plain": [
              "array([  0.        ,   5.05050505,  10.1010101 ,  15.15151515,\n",
              "        20.2020202 ,  25.25252525,  30.3030303 ,  35.35353535,\n",
              "        40.4040404 ,  45.45454545,  50.50505051,  55.55555556,\n",
              "        60.60606061,  65.65656566,  70.70707071,  75.75757576,\n",
              "        80.80808081,  85.85858586,  90.90909091,  95.95959596,\n",
              "       101.01010101, 106.06060606, 111.11111111, 116.16161616,\n",
              "       121.21212121, 126.26262626, 131.31313131, 136.36363636,\n",
              "       141.41414141, 146.46464646, 151.51515152, 156.56565657,\n",
              "       161.61616162, 166.66666667, 171.71717172, 176.76767677,\n",
              "       181.81818182, 186.86868687, 191.91919192, 196.96969697,\n",
              "       202.02020202, 207.07070707, 212.12121212, 217.17171717,\n",
              "       222.22222222, 227.27272727, 232.32323232, 237.37373737,\n",
              "       242.42424242, 247.47474747, 252.52525253, 257.57575758,\n",
              "       262.62626263, 267.67676768, 272.72727273, 277.77777778,\n",
              "       282.82828283, 287.87878788, 292.92929293, 297.97979798,\n",
              "       303.03030303, 308.08080808, 313.13131313, 318.18181818,\n",
              "       323.23232323, 328.28282828, 333.33333333, 338.38383838,\n",
              "       343.43434343, 348.48484848, 353.53535354, 358.58585859,\n",
              "       363.63636364, 368.68686869, 373.73737374, 378.78787879,\n",
              "       383.83838384, 388.88888889, 393.93939394, 398.98989899,\n",
              "       404.04040404, 409.09090909, 414.14141414, 419.19191919,\n",
              "       424.24242424, 429.29292929, 434.34343434, 439.39393939,\n",
              "       444.44444444, 449.49494949, 454.54545455, 459.5959596 ,\n",
              "       464.64646465, 469.6969697 , 474.74747475, 479.7979798 ,\n",
              "       484.84848485, 489.8989899 , 494.94949495, 500.        ])"
            ]
          },
          "execution_count": 34,
          "metadata": {},
          "output_type": "execute_result"
        }
      ],
      "source": [
        "potential_spend = np.linspace(0, 500, 100)\n",
        "potential_spend                                 #eşit aralıklarla bölünmüş 100 farklı değer veriyor."
      ]
    },
    {
      "cell_type": "code",
      "execution_count": null,
      "id": "85a4cf05",
      "metadata": {
        "id": "85a4cf05",
        "outputId": "1f3fa0d4-2956-42d0-9fca-187401086ebf"
      },
      "outputs": [
        {
          "data": {
            "text/plain": [
              "array([ 4.24302822,  4.4889266 ,  4.73482498,  4.98072336,  5.22662174,\n",
              "        5.47252012,  5.7184185 ,  5.96431688,  6.21021526,  6.45611364,\n",
              "        6.70201202,  6.9479104 ,  7.19380878,  7.43970716,  7.68560554,\n",
              "        7.93150392,  8.1774023 ,  8.42330068,  8.66919906,  8.91509744,\n",
              "        9.16099582,  9.4068942 ,  9.65279258,  9.89869097, 10.14458935,\n",
              "       10.39048773, 10.63638611, 10.88228449, 11.12818287, 11.37408125,\n",
              "       11.61997963, 11.86587801, 12.11177639, 12.35767477, 12.60357315,\n",
              "       12.84947153, 13.09536991, 13.34126829, 13.58716667, 13.83306505,\n",
              "       14.07896343, 14.32486181, 14.57076019, 14.81665857, 15.06255695,\n",
              "       15.30845533, 15.55435371, 15.80025209, 16.04615048, 16.29204886,\n",
              "       16.53794724, 16.78384562, 17.029744  , 17.27564238, 17.52154076,\n",
              "       17.76743914, 18.01333752, 18.2592359 , 18.50513428, 18.75103266,\n",
              "       18.99693104, 19.24282942, 19.4887278 , 19.73462618, 19.98052456,\n",
              "       20.22642294, 20.47232132, 20.7182197 , 20.96411808, 21.21001646,\n",
              "       21.45591484, 21.70181322, 21.9477116 , 22.19360999, 22.43950837,\n",
              "       22.68540675, 22.93130513, 23.17720351, 23.42310189, 23.66900027,\n",
              "       23.91489865, 24.16079703, 24.40669541, 24.65259379, 24.89849217,\n",
              "       25.14439055, 25.39028893, 25.63618731, 25.88208569, 26.12798407,\n",
              "       26.37388245, 26.61978083, 26.86567921, 27.11157759, 27.35747597,\n",
              "       27.60337435, 27.84927273, 28.09517111, 28.3410695 , 28.58696788])"
            ]
          },
          "execution_count": 35,
          "metadata": {},
          "output_type": "execute_result"
        }
      ],
      "source": [
        "predicted_sales_lin = b1* potential_spend + b0\n",
        "predicted_sales_lin\n",
        "\n",
        "#potansiyel harcama şeyimi aldım, 4.24 intercept değeriydi. Hiç harcama yapmadan olan durumda 4.24 ü verdi. "
      ]
    },
    {
      "cell_type": "code",
      "execution_count": null,
      "id": "1db2c3f1-56ae-4bb4-91e1-0edadc605676",
      "metadata": {
        "id": "1db2c3f1-56ae-4bb4-91e1-0edadc605676",
        "outputId": "f345c810-98d1-453a-9e48-60295c26e6e3"
      },
      "outputs": [
        {
          "data": {
            "text/plain": [
              "[<matplotlib.lines.Line2D at 0x1a6986018b0>]"
            ]
          },
          "execution_count": 38,
          "metadata": {},
          "output_type": "execute_result"
        },
        {
          "data": {
            "image/png": "[encoded data removed]",
            "text/plain": [
              "<Figure size 720x432 with 1 Axes>"
            ]
          },
          "metadata": {
            "needs_background": "light"
          },
          "output_type": "display_data"
        }
      ],
      "source": [
        "plt.plot(potential_spend, predicted_sales_lin)\n",
        "#sns.scatterplot(x='total_spend',y='sales',data=df);"
      ]
    },
    {
      "cell_type": "code",
      "execution_count": null,
      "id": "c1091cf2-39e2-4654-9da4-1e91ce2103b3",
      "metadata": {
        "id": "c1091cf2-39e2-4654-9da4-1e91ce2103b3",
        "outputId": "ca8ae58d-2438-47dd-db28-03663488abd6"
      },
      "outputs": [
        {
          "data": {
            "image/png": "[encoded data removed]",
            "text/plain": [
              "<Figure size 720x432 with 1 Axes>"
            ]
          },
          "metadata": {
            "needs_background": "light"
          },
          "output_type": "display_data"
        }
      ],
      "source": [
        "plt.plot(potential_spend, predicted_sales_lin)\n",
        "sns.scatterplot(x='total_spend',y='sales',data=df);"
      ]
    },
    {
      "cell_type": "markdown",
      "id": "curious-kinase",
      "metadata": {
        "id": "curious-kinase"
      },
      "source": [
        "## How can we improve our predictions?"
      ]
    },
    {
      "cell_type": "code",
      "execution_count": null,
      "id": "noticed-indication",
      "metadata": {
        "id": "noticed-indication"
      },
      "outputs": [],
      "source": [
        ""
      ]
    }
  ],
  "metadata": {
    "kernelspec": {
      "display_name": "Python 3",
      "language": "python",
      "name": "python3"
    },
    "language_info": {
      "codemirror_mode": {
        "name": "ipython",
        "version": 3
      },
      "file_extension": ".py",
      "mimetype": "text/x-python",
      "name": "python",
      "nbconvert_exporter": "python",
      "pygments_lexer": "ipython3",
      "version": "3.8.8"
    },
    "colab": {
      "name": "ML-1(Simple Linear Regression)(TR) Student-10 Jan 2021_mine.ipynb",
      "provenance": [],
      "include_colab_link": true
    }
  },
  "nbformat": 4,
  "nbformat_minor": 5
}