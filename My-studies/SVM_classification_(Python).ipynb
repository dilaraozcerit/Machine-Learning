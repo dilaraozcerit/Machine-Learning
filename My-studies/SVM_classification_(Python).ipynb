{
  "cells": [
    {
      "cell_type": "markdown",
      "metadata": {
        "id": "view-in-github",
        "colab_type": "text"
      },
      "source": [
        "<a href=\"https://colab.research.google.com/github/dilaraozcerit/Machine-Learning/blob/main/SVM_classification_(Python).ipynb\" target=\"_parent\"><img src=\"https://colab.research.google.com/assets/colab-badge.svg\" alt=\"Open In Colab\"/></a>"
      ]
    },
    {
      "cell_type": "markdown",
      "metadata": {
        "id": "03En_37JZfdL"
      },
      "source": [
        "<img src=\"logo.jpg\" />\n",
        "\n",
        "## [Prof. Pedram Jahangiry](https://huntsman.usu.edu/directory/jahangiry-pedram) \n",
        "[GitHub account](https://github.com/PJalgotrader) \n",
        "\n",
        "[YouTube Channel](https://www.youtube.com/channel/UCNDElcuuyX-2pSatVBDpJJQ/playlists) "
      ]
    },
    {
      "cell_type": "markdown",
      "metadata": {
        "id": "PqXXwuAwZfdR"
      },
      "source": [
        "# Support Vector Machines (SVM) - Classification"
      ]
    },
    {
      "cell_type": "code",
      "execution_count": null,
      "metadata": {
        "id": "sqVmH6PFZfdS"
      },
      "outputs": [],
      "source": [
        "import numpy as np\n",
        "import pandas as pd\n",
        "import matplotlib.pyplot as plt\n",
        "import seaborn as sns\n",
        "sns.set()  #if you want to use seaborn themes with matplotlib functions\n",
        "import warnings\n",
        "warnings.filterwarnings('ignore')"
      ]
    },
    {
      "cell_type": "code",
      "execution_count": null,
      "metadata": {
        "id": "T-A5UI71ZfdT"
      },
      "outputs": [],
      "source": [
        "rand_state = 1000"
      ]
    },
    {
      "cell_type": "code",
      "execution_count": null,
      "metadata": {
        "id": "yAnrPcjPZfdU"
      },
      "outputs": [],
      "source": [
        "df = pd.read_csv(\"bikeshare.csv\")"
      ]
    },
    {
      "cell_type": "code",
      "execution_count": null,
      "metadata": {
        "id": "vayRUjFeZfdV",
        "outputId": "527f2b43-23f4-46ca-cb5d-4cbc998117fc"
      },
      "outputs": [
        {
          "data": {
            "text/html": [
              "<div>\n",
              "<style scoped>\n",
              "    .dataframe tbody tr th:only-of-type {\n",
              "        vertical-align: middle;\n",
              "    }\n",
              "\n",
              "    .dataframe tbody tr th {\n",
              "        vertical-align: top;\n",
              "    }\n",
              "\n",
              "    .dataframe thead th {\n",
              "        text-align: right;\n",
              "    }\n",
              "</style>\n",
              "<table border=\"1\" class=\"dataframe\">\n",
              "  <thead>\n",
              "    <tr style=\"text-align: right;\">\n",
              "      <th></th>\n",
              "      <th>season</th>\n",
              "      <th>yr</th>\n",
              "      <th>mnth</th>\n",
              "      <th>hr</th>\n",
              "      <th>holiday</th>\n",
              "      <th>weekday</th>\n",
              "      <th>notbizday</th>\n",
              "      <th>weathersit</th>\n",
              "      <th>temp</th>\n",
              "      <th>hum</th>\n",
              "      <th>windspeed</th>\n",
              "      <th>dteday</th>\n",
              "      <th>cnt</th>\n",
              "    </tr>\n",
              "  </thead>\n",
              "  <tbody>\n",
              "    <tr>\n",
              "      <th>0</th>\n",
              "      <td>1</td>\n",
              "      <td>0</td>\n",
              "      <td>1</td>\n",
              "      <td>0</td>\n",
              "      <td>0</td>\n",
              "      <td>6</td>\n",
              "      <td>1</td>\n",
              "      <td>1</td>\n",
              "      <td>-1.334609</td>\n",
              "      <td>0.947345</td>\n",
              "      <td>-1.553844</td>\n",
              "      <td>2011-01-01</td>\n",
              "      <td>16</td>\n",
              "    </tr>\n",
              "    <tr>\n",
              "      <th>1</th>\n",
              "      <td>1</td>\n",
              "      <td>0</td>\n",
              "      <td>1</td>\n",
              "      <td>1</td>\n",
              "      <td>0</td>\n",
              "      <td>6</td>\n",
              "      <td>1</td>\n",
              "      <td>1</td>\n",
              "      <td>-1.438475</td>\n",
              "      <td>0.895513</td>\n",
              "      <td>-1.553844</td>\n",
              "      <td>2011-01-01</td>\n",
              "      <td>40</td>\n",
              "    </tr>\n",
              "    <tr>\n",
              "      <th>2</th>\n",
              "      <td>1</td>\n",
              "      <td>0</td>\n",
              "      <td>1</td>\n",
              "      <td>2</td>\n",
              "      <td>0</td>\n",
              "      <td>6</td>\n",
              "      <td>1</td>\n",
              "      <td>1</td>\n",
              "      <td>-1.438475</td>\n",
              "      <td>0.895513</td>\n",
              "      <td>-1.553844</td>\n",
              "      <td>2011-01-01</td>\n",
              "      <td>32</td>\n",
              "    </tr>\n",
              "    <tr>\n",
              "      <th>3</th>\n",
              "      <td>1</td>\n",
              "      <td>0</td>\n",
              "      <td>1</td>\n",
              "      <td>3</td>\n",
              "      <td>0</td>\n",
              "      <td>6</td>\n",
              "      <td>1</td>\n",
              "      <td>1</td>\n",
              "      <td>-1.334609</td>\n",
              "      <td>0.636351</td>\n",
              "      <td>-1.553844</td>\n",
              "      <td>2011-01-01</td>\n",
              "      <td>13</td>\n",
              "    </tr>\n",
              "    <tr>\n",
              "      <th>4</th>\n",
              "      <td>1</td>\n",
              "      <td>0</td>\n",
              "      <td>1</td>\n",
              "      <td>4</td>\n",
              "      <td>0</td>\n",
              "      <td>6</td>\n",
              "      <td>1</td>\n",
              "      <td>1</td>\n",
              "      <td>-1.334609</td>\n",
              "      <td>0.636351</td>\n",
              "      <td>-1.553844</td>\n",
              "      <td>2011-01-01</td>\n",
              "      <td>1</td>\n",
              "    </tr>\n",
              "  </tbody>\n",
              "</table>\n",
              "</div>"
            ],
            "text/plain": [
              "   season  yr  mnth  hr  holiday  weekday  notbizday  weathersit      temp  \\\n",
              "0       1   0     1   0        0        6          1           1 -1.334609   \n",
              "1       1   0     1   1        0        6          1           1 -1.438475   \n",
              "2       1   0     1   2        0        6          1           1 -1.438475   \n",
              "3       1   0     1   3        0        6          1           1 -1.334609   \n",
              "4       1   0     1   4        0        6          1           1 -1.334609   \n",
              "\n",
              "        hum  windspeed      dteday  cnt  \n",
              "0  0.947345  -1.553844  2011-01-01   16  \n",
              "1  0.895513  -1.553844  2011-01-01   40  \n",
              "2  0.895513  -1.553844  2011-01-01   32  \n",
              "3  0.636351  -1.553844  2011-01-01   13  \n",
              "4  0.636351  -1.553844  2011-01-01    1  "
            ]
          },
          "execution_count": 119,
          "metadata": {},
          "output_type": "execute_result"
        }
      ],
      "source": [
        "df.head()"
      ]
    },
    {
      "cell_type": "markdown",
      "metadata": {
        "id": "ETDHrPlFZfdW"
      },
      "source": [
        "## Data preprocessing "
      ]
    },
    {
      "cell_type": "code",
      "execution_count": null,
      "metadata": {
        "id": "HyW_scAwZfdX",
        "outputId": "ee5b51e6-28c7-45f2-ca13-7057b015d9af"
      },
      "outputs": [
        {
          "data": {
            "text/plain": [
              "season        0\n",
              "yr            0\n",
              "mnth          0\n",
              "hr            0\n",
              "holiday       0\n",
              "weekday       0\n",
              "notbizday     0\n",
              "weathersit    0\n",
              "temp          0\n",
              "hum           0\n",
              "windspeed     0\n",
              "dteday        0\n",
              "cnt           0\n",
              "dtype: int64"
            ]
          },
          "execution_count": 120,
          "metadata": {},
          "output_type": "execute_result"
        }
      ],
      "source": [
        "df.isna().sum()  "
      ]
    },
    {
      "cell_type": "code",
      "execution_count": null,
      "metadata": {
        "id": "cITwWDwtZfdY",
        "outputId": "98cc6af9-df4c-43aa-eacb-922d4167eaa3"
      },
      "outputs": [
        {
          "name": "stdout",
          "output_type": "stream",
          "text": [
            "<class 'pandas.core.frame.DataFrame'>\n",
            "RangeIndex: 17379 entries, 0 to 17378\n",
            "Data columns (total 13 columns):\n",
            "season        17379 non-null int64\n",
            "yr            17379 non-null int64\n",
            "mnth          17379 non-null int64\n",
            "hr            17379 non-null int64\n",
            "holiday       17379 non-null int64\n",
            "weekday       17379 non-null int64\n",
            "notbizday     17379 non-null int64\n",
            "weathersit    17379 non-null int64\n",
            "temp          17379 non-null float64\n",
            "hum           17379 non-null float64\n",
            "windspeed     17379 non-null float64\n",
            "dteday        17379 non-null object\n",
            "cnt           17379 non-null int64\n",
            "dtypes: float64(3), int64(9), object(1)\n",
            "memory usage: 1.7+ MB\n"
          ]
        }
      ],
      "source": [
        "df.info()"
      ]
    },
    {
      "cell_type": "markdown",
      "metadata": {
        "id": "s7uT5DkDZfdZ"
      },
      "source": [
        "The managers of Capital Bikeshare have found that the system works smoothly until more than 500 bikes are rented in any one hour. At that point, it becomes necessary to insert extra bikes into the system and move them across stations to balance loads."
      ]
    },
    {
      "cell_type": "code",
      "execution_count": null,
      "metadata": {
        "id": "_W_HKa1pZfda"
      },
      "outputs": [],
      "source": [
        "overload = np.where(df['cnt']>500,1,0) # eğer count 500'den büyükse 1 ata yoksa 0 ata demek."
      ]
    },
    {
      "cell_type": "code",
      "execution_count": null,
      "metadata": {
        "id": "A0AmpDRnZfdb",
        "outputId": "968d44d3-0791-4c40-b0aa-2ff8991831d0"
      },
      "outputs": [
        {
          "data": {
            "text/html": [
              "<div>\n",
              "<style scoped>\n",
              "    .dataframe tbody tr th:only-of-type {\n",
              "        vertical-align: middle;\n",
              "    }\n",
              "\n",
              "    .dataframe tbody tr th {\n",
              "        vertical-align: top;\n",
              "    }\n",
              "\n",
              "    .dataframe thead th {\n",
              "        text-align: right;\n",
              "    }\n",
              "</style>\n",
              "<table border=\"1\" class=\"dataframe\">\n",
              "  <thead>\n",
              "    <tr style=\"text-align: right;\">\n",
              "      <th>col_0</th>\n",
              "      <th>0</th>\n",
              "      <th>1</th>\n",
              "    </tr>\n",
              "    <tr>\n",
              "      <th>row_0</th>\n",
              "      <th></th>\n",
              "      <th></th>\n",
              "    </tr>\n",
              "  </thead>\n",
              "  <tbody>\n",
              "    <tr>\n",
              "      <th>0</th>\n",
              "      <td>92.640543</td>\n",
              "      <td>0.000000</td>\n",
              "    </tr>\n",
              "    <tr>\n",
              "      <th>1</th>\n",
              "      <td>0.000000</td>\n",
              "      <td>7.359457</td>\n",
              "    </tr>\n",
              "  </tbody>\n",
              "</table>\n",
              "</div>"
            ],
            "text/plain": [
              "col_0          0         1\n",
              "row_0                     \n",
              "0      92.640543  0.000000\n",
              "1       0.000000  7.359457"
            ]
          },
          "execution_count": 123,
          "metadata": {},
          "output_type": "execute_result"
        }
      ],
      "source": [
        "pd.crosstab(overload,overload, normalize='all')*100 # datamız balance mı değil mi ona bakıyoruz. this dataset is relatively imbalanced."
      ]
    },
    {
      "cell_type": "markdown",
      "metadata": {
        "id": "Dl3ugp_vZfdb"
      },
      "source": [
        "The dataset is relatively imbalanced. "
      ]
    },
    {
      "cell_type": "code",
      "execution_count": null,
      "metadata": {
        "id": "CyF8UkXIZfdc",
        "outputId": "9e114fbf-1102-4d80-995e-2d09526dc3be"
      },
      "outputs": [
        {
          "data": {
            "text/plain": [
              "Index(['season', 'yr', 'mnth', 'hr', 'holiday', 'weekday', 'notbizday',\n",
              "       'weathersit', 'temp', 'hum', 'windspeed', 'dteday', 'overload'],\n",
              "      dtype='object')"
            ]
          },
          "execution_count": 124,
          "metadata": {},
          "output_type": "execute_result"
        }
      ],
      "source": [
        "df['overload']=overload\n",
        "df.drop('cnt', axis=1, inplace=True)\n",
        "df.columns"
      ]
    },
    {
      "cell_type": "markdown",
      "metadata": {
        "id": "-h2uclP5Zfdc"
      },
      "source": [
        "We need to change the type of categorical variables: "
      ]
    },
    {
      "cell_type": "code",
      "execution_count": null,
      "metadata": {
        "id": "bCEcjNR5Zfdd"
      },
      "outputs": [],
      "source": [
        "categorical = ['season', 'yr', 'mnth', 'hr', 'holiday', 'weekday', 'notbizday','weathersit',]\n",
        "\n",
        "for col in categorical: \n",
        "    df[col] = df[col].astype(\"category\")"
      ]
    },
    {
      "cell_type": "code",
      "execution_count": null,
      "metadata": {
        "id": "of7HZp-7Zfde",
        "outputId": "60284270-6f74-43f1-a517-9d39f641afe9"
      },
      "outputs": [
        {
          "name": "stdout",
          "output_type": "stream",
          "text": [
            "<class 'pandas.core.frame.DataFrame'>\n",
            "RangeIndex: 17379 entries, 0 to 17378\n",
            "Data columns (total 13 columns):\n",
            "season        17379 non-null category\n",
            "yr            17379 non-null category\n",
            "mnth          17379 non-null category\n",
            "hr            17379 non-null category\n",
            "holiday       17379 non-null category\n",
            "weekday       17379 non-null category\n",
            "notbizday     17379 non-null category\n",
            "weathersit    17379 non-null category\n",
            "temp          17379 non-null float64\n",
            "hum           17379 non-null float64\n",
            "windspeed     17379 non-null float64\n",
            "dteday        17379 non-null object\n",
            "overload      17379 non-null int32\n",
            "dtypes: category(8), float64(3), int32(1), object(1)\n",
            "memory usage: 749.1+ KB\n"
          ]
        }
      ],
      "source": [
        "df.info()"
      ]
    },
    {
      "cell_type": "code",
      "execution_count": null,
      "metadata": {
        "id": "V_OD_K0EZfde"
      },
      "outputs": [],
      "source": [
        "df.drop('dteday',axis=1, inplace=True)"
      ]
    },
    {
      "cell_type": "code",
      "execution_count": null,
      "metadata": {
        "id": "EPfb8MXvZfdf",
        "outputId": "7dbff6ab-f92b-4163-bd6d-0d705591a135"
      },
      "outputs": [
        {
          "data": {
            "text/plain": [
              "Index(['season', 'yr', 'mnth', 'hr', 'holiday', 'weekday', 'notbizday',\n",
              "       'weathersit', 'temp', 'hum', 'windspeed', 'overload'],\n",
              "      dtype='object')"
            ]
          },
          "execution_count": 128,
          "metadata": {},
          "output_type": "execute_result"
        }
      ],
      "source": [
        "df.columns"
      ]
    },
    {
      "cell_type": "code",
      "execution_count": null,
      "metadata": {
        "id": "XXm8YHeuZfdg",
        "outputId": "2e54a2f1-140b-4a0b-a85c-c1dd34f25ea9"
      },
      "outputs": [
        {
          "data": {
            "text/plain": [
              "Index(['hum', 'overload', 'temp', 'windspeed'], dtype='object')"
            ]
          },
          "execution_count": 129,
          "metadata": {},
          "output_type": "execute_result"
        }
      ],
      "source": [
        "df.columns.difference(categorical)"
      ]
    },
    {
      "cell_type": "code",
      "execution_count": null,
      "metadata": {
        "id": "BtO4lkkNZfdg",
        "outputId": "790d0906-7ab5-4785-878f-4dbca856a729"
      },
      "outputs": [
        {
          "data": {
            "text/plain": [
              "<seaborn.axisgrid.PairGrid at 0x291292a05c0>"
            ]
          },
          "execution_count": 130,
          "metadata": {},
          "output_type": "execute_result"
        },
        {
          "data": {
            "image/png": "[encoded data removed]",
            "text/plain": [
              "<Figure size 767.925x720 with 20 Axes>"
            ]
          },
          "metadata": {},
          "output_type": "display_data"
        }
      ],
      "source": [
        "sns.set_style('whitegrid')\n",
        "sns.pairplot(df[df.columns.difference(categorical)], hue='overload')\n",
        "# pair plot classification'da önemlidir, regression'da çok önemsemeyiz, correlation baksak yeterli olur.\n",
        "# ama classification için önemli. burada continuous random variable'lara bakıyoruz.\n",
        "# eğer farklı iki renkteki dağılımlar birbirinden ayrıysa ---> it is a good sign. classifier'ımız iyi diyebiliriz"
      ]
    },
    {
      "cell_type": "markdown",
      "metadata": {
        "id": "6Zy9eeKLZfdh"
      },
      "source": [
        "## Scaling the features: \n",
        "\n",
        "Scaling the variables is a very important step in SVM. Because any variable on the larger scale, has a larger effect on the **distance** between observations. \n",
        "\n",
        "for this data set we are going to use standardization as our scaling strategy. \n"
      ]
    },
    {
      "cell_type": "code",
      "execution_count": null,
      "metadata": {
        "id": "4DYZNSvnZfdi"
      },
      "outputs": [],
      "source": [
        "df = pd.get_dummies(df, drop_first=True)"
      ]
    },
    {
      "cell_type": "code",
      "execution_count": null,
      "metadata": {
        "id": "Poc58HNjZfdi",
        "outputId": "3047e8ef-61eb-42bc-b7f3-d9a6b398fd71"
      },
      "outputs": [
        {
          "data": {
            "text/plain": [
              "Index(['temp', 'hum', 'windspeed', 'overload', 'season_2', 'season_3',\n",
              "       'season_4', 'yr_1', 'mnth_2', 'mnth_3', 'mnth_4', 'mnth_5', 'mnth_6',\n",
              "       'mnth_7', 'mnth_8', 'mnth_9', 'mnth_10', 'mnth_11', 'mnth_12', 'hr_1',\n",
              "       'hr_2', 'hr_3', 'hr_4', 'hr_5', 'hr_6', 'hr_7', 'hr_8', 'hr_9', 'hr_10',\n",
              "       'hr_11', 'hr_12', 'hr_13', 'hr_14', 'hr_15', 'hr_16', 'hr_17', 'hr_18',\n",
              "       'hr_19', 'hr_20', 'hr_21', 'hr_22', 'hr_23', 'holiday_1', 'weekday_1',\n",
              "       'weekday_2', 'weekday_3', 'weekday_4', 'weekday_5', 'weekday_6',\n",
              "       'notbizday_1', 'weathersit_2', 'weathersit_3', 'weathersit_4'],\n",
              "      dtype='object')"
            ]
          },
          "execution_count": 132,
          "metadata": {},
          "output_type": "execute_result"
        }
      ],
      "source": [
        "df.columns"
      ]
    },
    {
      "cell_type": "code",
      "execution_count": null,
      "metadata": {
        "id": "oooeEEU2Zfdj",
        "outputId": "32cb7f11-a349-433b-b749-7d6b0f6c1b4f"
      },
      "outputs": [
        {
          "data": {
            "text/plain": [
              "(17379, 53)"
            ]
          },
          "execution_count": 133,
          "metadata": {},
          "output_type": "execute_result"
        }
      ],
      "source": [
        "df.shape"
      ]
    },
    {
      "cell_type": "code",
      "execution_count": null,
      "metadata": {
        "id": "mYANQOQYZfdj",
        "outputId": "b768654d-285e-40a6-b2dd-3ed363c2c61f"
      },
      "outputs": [
        {
          "data": {
            "text/html": [
              "<div>\n",
              "<style scoped>\n",
              "    .dataframe tbody tr th:only-of-type {\n",
              "        vertical-align: middle;\n",
              "    }\n",
              "\n",
              "    .dataframe tbody tr th {\n",
              "        vertical-align: top;\n",
              "    }\n",
              "\n",
              "    .dataframe thead th {\n",
              "        text-align: right;\n",
              "    }\n",
              "</style>\n",
              "<table border=\"1\" class=\"dataframe\">\n",
              "  <thead>\n",
              "    <tr style=\"text-align: right;\">\n",
              "      <th></th>\n",
              "      <th>temp</th>\n",
              "      <th>hum</th>\n",
              "      <th>windspeed</th>\n",
              "      <th>overload</th>\n",
              "      <th>season_2</th>\n",
              "      <th>season_3</th>\n",
              "      <th>season_4</th>\n",
              "      <th>yr_1</th>\n",
              "      <th>mnth_2</th>\n",
              "      <th>mnth_3</th>\n",
              "      <th>...</th>\n",
              "      <th>weekday_1</th>\n",
              "      <th>weekday_2</th>\n",
              "      <th>weekday_3</th>\n",
              "      <th>weekday_4</th>\n",
              "      <th>weekday_5</th>\n",
              "      <th>weekday_6</th>\n",
              "      <th>notbizday_1</th>\n",
              "      <th>weathersit_2</th>\n",
              "      <th>weathersit_3</th>\n",
              "      <th>weathersit_4</th>\n",
              "    </tr>\n",
              "  </thead>\n",
              "  <tbody>\n",
              "    <tr>\n",
              "      <th>0</th>\n",
              "      <td>-1.334609</td>\n",
              "      <td>0.947345</td>\n",
              "      <td>-1.553844</td>\n",
              "      <td>0</td>\n",
              "      <td>0</td>\n",
              "      <td>0</td>\n",
              "      <td>0</td>\n",
              "      <td>0</td>\n",
              "      <td>0</td>\n",
              "      <td>0</td>\n",
              "      <td>...</td>\n",
              "      <td>0</td>\n",
              "      <td>0</td>\n",
              "      <td>0</td>\n",
              "      <td>0</td>\n",
              "      <td>0</td>\n",
              "      <td>1</td>\n",
              "      <td>1</td>\n",
              "      <td>0</td>\n",
              "      <td>0</td>\n",
              "      <td>0</td>\n",
              "    </tr>\n",
              "    <tr>\n",
              "      <th>1</th>\n",
              "      <td>-1.438475</td>\n",
              "      <td>0.895513</td>\n",
              "      <td>-1.553844</td>\n",
              "      <td>0</td>\n",
              "      <td>0</td>\n",
              "      <td>0</td>\n",
              "      <td>0</td>\n",
              "      <td>0</td>\n",
              "      <td>0</td>\n",
              "      <td>0</td>\n",
              "      <td>...</td>\n",
              "      <td>0</td>\n",
              "      <td>0</td>\n",
              "      <td>0</td>\n",
              "      <td>0</td>\n",
              "      <td>0</td>\n",
              "      <td>1</td>\n",
              "      <td>1</td>\n",
              "      <td>0</td>\n",
              "      <td>0</td>\n",
              "      <td>0</td>\n",
              "    </tr>\n",
              "    <tr>\n",
              "      <th>2</th>\n",
              "      <td>-1.438475</td>\n",
              "      <td>0.895513</td>\n",
              "      <td>-1.553844</td>\n",
              "      <td>0</td>\n",
              "      <td>0</td>\n",
              "      <td>0</td>\n",
              "      <td>0</td>\n",
              "      <td>0</td>\n",
              "      <td>0</td>\n",
              "      <td>0</td>\n",
              "      <td>...</td>\n",
              "      <td>0</td>\n",
              "      <td>0</td>\n",
              "      <td>0</td>\n",
              "      <td>0</td>\n",
              "      <td>0</td>\n",
              "      <td>1</td>\n",
              "      <td>1</td>\n",
              "      <td>0</td>\n",
              "      <td>0</td>\n",
              "      <td>0</td>\n",
              "    </tr>\n",
              "    <tr>\n",
              "      <th>3</th>\n",
              "      <td>-1.334609</td>\n",
              "      <td>0.636351</td>\n",
              "      <td>-1.553844</td>\n",
              "      <td>0</td>\n",
              "      <td>0</td>\n",
              "      <td>0</td>\n",
              "      <td>0</td>\n",
              "      <td>0</td>\n",
              "      <td>0</td>\n",
              "      <td>0</td>\n",
              "      <td>...</td>\n",
              "      <td>0</td>\n",
              "      <td>0</td>\n",
              "      <td>0</td>\n",
              "      <td>0</td>\n",
              "      <td>0</td>\n",
              "      <td>1</td>\n",
              "      <td>1</td>\n",
              "      <td>0</td>\n",
              "      <td>0</td>\n",
              "      <td>0</td>\n",
              "    </tr>\n",
              "    <tr>\n",
              "      <th>4</th>\n",
              "      <td>-1.334609</td>\n",
              "      <td>0.636351</td>\n",
              "      <td>-1.553844</td>\n",
              "      <td>0</td>\n",
              "      <td>0</td>\n",
              "      <td>0</td>\n",
              "      <td>0</td>\n",
              "      <td>0</td>\n",
              "      <td>0</td>\n",
              "      <td>0</td>\n",
              "      <td>...</td>\n",
              "      <td>0</td>\n",
              "      <td>0</td>\n",
              "      <td>0</td>\n",
              "      <td>0</td>\n",
              "      <td>0</td>\n",
              "      <td>1</td>\n",
              "      <td>1</td>\n",
              "      <td>0</td>\n",
              "      <td>0</td>\n",
              "      <td>0</td>\n",
              "    </tr>\n",
              "  </tbody>\n",
              "</table>\n",
              "<p>5 rows × 53 columns</p>\n",
              "</div>"
            ],
            "text/plain": [
              "       temp       hum  windspeed  overload  season_2  season_3  season_4  \\\n",
              "0 -1.334609  0.947345  -1.553844         0         0         0         0   \n",
              "1 -1.438475  0.895513  -1.553844         0         0         0         0   \n",
              "2 -1.438475  0.895513  -1.553844         0         0         0         0   \n",
              "3 -1.334609  0.636351  -1.553844         0         0         0         0   \n",
              "4 -1.334609  0.636351  -1.553844         0         0         0         0   \n",
              "\n",
              "   yr_1  mnth_2  mnth_3  ...  weekday_1  weekday_2  weekday_3  weekday_4  \\\n",
              "0     0       0       0  ...          0          0          0          0   \n",
              "1     0       0       0  ...          0          0          0          0   \n",
              "2     0       0       0  ...          0          0          0          0   \n",
              "3     0       0       0  ...          0          0          0          0   \n",
              "4     0       0       0  ...          0          0          0          0   \n",
              "\n",
              "   weekday_5  weekday_6  notbizday_1  weathersit_2  weathersit_3  weathersit_4  \n",
              "0          0          1            1             0             0             0  \n",
              "1          0          1            1             0             0             0  \n",
              "2          0          1            1             0             0             0  \n",
              "3          0          1            1             0             0             0  \n",
              "4          0          1            1             0             0             0  \n",
              "\n",
              "[5 rows x 53 columns]"
            ]
          },
          "execution_count": 134,
          "metadata": {},
          "output_type": "execute_result"
        }
      ],
      "source": [
        "df.head()"
      ]
    },
    {
      "cell_type": "code",
      "execution_count": null,
      "metadata": {
        "id": "spLo5i9lZfdk"
      },
      "outputs": [],
      "source": [
        "from sklearn.preprocessing import StandardScaler"
      ]
    },
    {
      "cell_type": "code",
      "execution_count": null,
      "metadata": {
        "id": "F89gOHa6Zfdk"
      },
      "outputs": [],
      "source": [
        "scale = StandardScaler()\n",
        "df_sc = scale.fit_transform(df)  # tüm dataya transform yaptık\n",
        "df_sc = pd.DataFrame(df_sc, columns=df.columns)\n",
        "df_sc['overload']=df['overload'] # target variable'mız scale edilemez, bu yüzden ilk halimi tekrardan atadık."
      ]
    },
    {
      "cell_type": "code",
      "execution_count": null,
      "metadata": {
        "id": "ENXZIJsfZfdk",
        "outputId": "4b388d4d-fc67-425b-bbf1-a2475fa3be4b"
      },
      "outputs": [
        {
          "data": {
            "text/html": [
              "<div>\n",
              "<style scoped>\n",
              "    .dataframe tbody tr th:only-of-type {\n",
              "        vertical-align: middle;\n",
              "    }\n",
              "\n",
              "    .dataframe tbody tr th {\n",
              "        vertical-align: top;\n",
              "    }\n",
              "\n",
              "    .dataframe thead th {\n",
              "        text-align: right;\n",
              "    }\n",
              "</style>\n",
              "<table border=\"1\" class=\"dataframe\">\n",
              "  <thead>\n",
              "    <tr style=\"text-align: right;\">\n",
              "      <th></th>\n",
              "      <th>temp</th>\n",
              "      <th>hum</th>\n",
              "      <th>windspeed</th>\n",
              "      <th>overload</th>\n",
              "      <th>season_2</th>\n",
              "      <th>season_3</th>\n",
              "      <th>season_4</th>\n",
              "      <th>yr_1</th>\n",
              "      <th>mnth_2</th>\n",
              "      <th>mnth_3</th>\n",
              "      <th>...</th>\n",
              "      <th>weekday_1</th>\n",
              "      <th>weekday_2</th>\n",
              "      <th>weekday_3</th>\n",
              "      <th>weekday_4</th>\n",
              "      <th>weekday_5</th>\n",
              "      <th>weekday_6</th>\n",
              "      <th>notbizday_1</th>\n",
              "      <th>weathersit_2</th>\n",
              "      <th>weathersit_3</th>\n",
              "      <th>weathersit_4</th>\n",
              "    </tr>\n",
              "  </thead>\n",
              "  <tbody>\n",
              "    <tr>\n",
              "      <th>0</th>\n",
              "      <td>-1.334648</td>\n",
              "      <td>0.947372</td>\n",
              "      <td>-1.553889</td>\n",
              "      <td>0</td>\n",
              "      <td>-0.583042</td>\n",
              "      <td>-0.590751</td>\n",
              "      <td>-0.567361</td>\n",
              "      <td>-1.005134</td>\n",
              "      <td>-0.289161</td>\n",
              "      <td>-0.304313</td>\n",
              "      <td>...</td>\n",
              "      <td>-0.407892</td>\n",
              "      <td>-0.405394</td>\n",
              "      <td>-0.407508</td>\n",
              "      <td>-0.407124</td>\n",
              "      <td>-0.408659</td>\n",
              "      <td>2.432774</td>\n",
              "      <td>1.4669</td>\n",
              "      <td>-0.595006</td>\n",
              "      <td>-0.298177</td>\n",
              "      <td>-0.01314</td>\n",
              "    </tr>\n",
              "    <tr>\n",
              "      <th>1</th>\n",
              "      <td>-1.438516</td>\n",
              "      <td>0.895539</td>\n",
              "      <td>-1.553889</td>\n",
              "      <td>0</td>\n",
              "      <td>-0.583042</td>\n",
              "      <td>-0.590751</td>\n",
              "      <td>-0.567361</td>\n",
              "      <td>-1.005134</td>\n",
              "      <td>-0.289161</td>\n",
              "      <td>-0.304313</td>\n",
              "      <td>...</td>\n",
              "      <td>-0.407892</td>\n",
              "      <td>-0.405394</td>\n",
              "      <td>-0.407508</td>\n",
              "      <td>-0.407124</td>\n",
              "      <td>-0.408659</td>\n",
              "      <td>2.432774</td>\n",
              "      <td>1.4669</td>\n",
              "      <td>-0.595006</td>\n",
              "      <td>-0.298177</td>\n",
              "      <td>-0.01314</td>\n",
              "    </tr>\n",
              "    <tr>\n",
              "      <th>2</th>\n",
              "      <td>-1.438516</td>\n",
              "      <td>0.895539</td>\n",
              "      <td>-1.553889</td>\n",
              "      <td>0</td>\n",
              "      <td>-0.583042</td>\n",
              "      <td>-0.590751</td>\n",
              "      <td>-0.567361</td>\n",
              "      <td>-1.005134</td>\n",
              "      <td>-0.289161</td>\n",
              "      <td>-0.304313</td>\n",
              "      <td>...</td>\n",
              "      <td>-0.407892</td>\n",
              "      <td>-0.405394</td>\n",
              "      <td>-0.407508</td>\n",
              "      <td>-0.407124</td>\n",
              "      <td>-0.408659</td>\n",
              "      <td>2.432774</td>\n",
              "      <td>1.4669</td>\n",
              "      <td>-0.595006</td>\n",
              "      <td>-0.298177</td>\n",
              "      <td>-0.01314</td>\n",
              "    </tr>\n",
              "    <tr>\n",
              "      <th>3</th>\n",
              "      <td>-1.334648</td>\n",
              "      <td>0.636370</td>\n",
              "      <td>-1.553889</td>\n",
              "      <td>0</td>\n",
              "      <td>-0.583042</td>\n",
              "      <td>-0.590751</td>\n",
              "      <td>-0.567361</td>\n",
              "      <td>-1.005134</td>\n",
              "      <td>-0.289161</td>\n",
              "      <td>-0.304313</td>\n",
              "      <td>...</td>\n",
              "      <td>-0.407892</td>\n",
              "      <td>-0.405394</td>\n",
              "      <td>-0.407508</td>\n",
              "      <td>-0.407124</td>\n",
              "      <td>-0.408659</td>\n",
              "      <td>2.432774</td>\n",
              "      <td>1.4669</td>\n",
              "      <td>-0.595006</td>\n",
              "      <td>-0.298177</td>\n",
              "      <td>-0.01314</td>\n",
              "    </tr>\n",
              "    <tr>\n",
              "      <th>4</th>\n",
              "      <td>-1.334648</td>\n",
              "      <td>0.636370</td>\n",
              "      <td>-1.553889</td>\n",
              "      <td>0</td>\n",
              "      <td>-0.583042</td>\n",
              "      <td>-0.590751</td>\n",
              "      <td>-0.567361</td>\n",
              "      <td>-1.005134</td>\n",
              "      <td>-0.289161</td>\n",
              "      <td>-0.304313</td>\n",
              "      <td>...</td>\n",
              "      <td>-0.407892</td>\n",
              "      <td>-0.405394</td>\n",
              "      <td>-0.407508</td>\n",
              "      <td>-0.407124</td>\n",
              "      <td>-0.408659</td>\n",
              "      <td>2.432774</td>\n",
              "      <td>1.4669</td>\n",
              "      <td>-0.595006</td>\n",
              "      <td>-0.298177</td>\n",
              "      <td>-0.01314</td>\n",
              "    </tr>\n",
              "  </tbody>\n",
              "</table>\n",
              "<p>5 rows × 53 columns</p>\n",
              "</div>"
            ],
            "text/plain": [
              "       temp       hum  windspeed  overload  season_2  season_3  season_4  \\\n",
              "0 -1.334648  0.947372  -1.553889         0 -0.583042 -0.590751 -0.567361   \n",
              "1 -1.438516  0.895539  -1.553889         0 -0.583042 -0.590751 -0.567361   \n",
              "2 -1.438516  0.895539  -1.553889         0 -0.583042 -0.590751 -0.567361   \n",
              "3 -1.334648  0.636370  -1.553889         0 -0.583042 -0.590751 -0.567361   \n",
              "4 -1.334648  0.636370  -1.553889         0 -0.583042 -0.590751 -0.567361   \n",
              "\n",
              "       yr_1    mnth_2    mnth_3  ...  weekday_1  weekday_2  weekday_3  \\\n",
              "0 -1.005134 -0.289161 -0.304313  ...  -0.407892  -0.405394  -0.407508   \n",
              "1 -1.005134 -0.289161 -0.304313  ...  -0.407892  -0.405394  -0.407508   \n",
              "2 -1.005134 -0.289161 -0.304313  ...  -0.407892  -0.405394  -0.407508   \n",
              "3 -1.005134 -0.289161 -0.304313  ...  -0.407892  -0.405394  -0.407508   \n",
              "4 -1.005134 -0.289161 -0.304313  ...  -0.407892  -0.405394  -0.407508   \n",
              "\n",
              "   weekday_4  weekday_5  weekday_6  notbizday_1  weathersit_2  weathersit_3  \\\n",
              "0  -0.407124  -0.408659   2.432774       1.4669     -0.595006     -0.298177   \n",
              "1  -0.407124  -0.408659   2.432774       1.4669     -0.595006     -0.298177   \n",
              "2  -0.407124  -0.408659   2.432774       1.4669     -0.595006     -0.298177   \n",
              "3  -0.407124  -0.408659   2.432774       1.4669     -0.595006     -0.298177   \n",
              "4  -0.407124  -0.408659   2.432774       1.4669     -0.595006     -0.298177   \n",
              "\n",
              "   weathersit_4  \n",
              "0      -0.01314  \n",
              "1      -0.01314  \n",
              "2      -0.01314  \n",
              "3      -0.01314  \n",
              "4      -0.01314  \n",
              "\n",
              "[5 rows x 53 columns]"
            ]
          },
          "execution_count": 137,
          "metadata": {},
          "output_type": "execute_result"
        }
      ],
      "source": [
        "df_sc.head()"
      ]
    },
    {
      "cell_type": "markdown",
      "metadata": {
        "id": "aFrcIcsIZfdl"
      },
      "source": [
        "### Defining the variables and splitting the data"
      ]
    },
    {
      "cell_type": "code",
      "execution_count": null,
      "metadata": {
        "id": "yw6KrVKzZfdl"
      },
      "outputs": [],
      "source": [
        "y = df_sc['overload']\n",
        "X = df_sc.drop('overload', axis=1) # becareful inplace= False\n",
        "\n",
        "from sklearn.model_selection import train_test_split\n",
        "X_train, X_test, y_train, y_test = train_test_split(X, y, test_size=0.3, random_state=rand_state)"
      ]
    },
    {
      "cell_type": "markdown",
      "metadata": {
        "id": "zvMJxmtzZfdm"
      },
      "source": [
        "---"
      ]
    },
    {
      "cell_type": "markdown",
      "metadata": {
        "id": "2Y9V3bYzZfdm"
      },
      "source": [
        "###  SVM Classification with Sklearn"
      ]
    },
    {
      "cell_type": "code",
      "execution_count": null,
      "metadata": {
        "id": "TOlGbC_GZfdm"
      },
      "outputs": [],
      "source": [
        "from sklearn.svm import SVC"
      ]
    },
    {
      "cell_type": "code",
      "execution_count": null,
      "metadata": {
        "id": "aGvjN91qZfdn",
        "outputId": "706e6fb1-d526-41c3-c3b6-a1a18a68e440"
      },
      "outputs": [
        {
          "data": {
            "text/plain": [
              "SVC()"
            ]
          },
          "execution_count": 140,
          "metadata": {},
          "output_type": "execute_result"
        }
      ],
      "source": [
        "# Fitting SVM regression to the Training set\n",
        "SVM_classification = SVC()\n",
        "SVM_classification.fit(X_train, y_train)"
      ]
    },
    {
      "cell_type": "code",
      "execution_count": null,
      "metadata": {
        "id": "plvgs49hZfdn"
      },
      "outputs": [],
      "source": [
        "# Predicting the Test set results\n",
        "y_hat = SVM_classification.predict(X_test)\n"
      ]
    },
    {
      "cell_type": "code",
      "execution_count": null,
      "metadata": {
        "id": "1AXWLay7Zfdo",
        "outputId": "4ec89db0-bd72-4d5d-e8d8-d4fc8526edb5"
      },
      "outputs": [
        {
          "data": {
            "text/html": [
              "<div>\n",
              "<style scoped>\n",
              "    .dataframe tbody tr th:only-of-type {\n",
              "        vertical-align: middle;\n",
              "    }\n",
              "\n",
              "    .dataframe tbody tr th {\n",
              "        vertical-align: top;\n",
              "    }\n",
              "\n",
              "    .dataframe thead th {\n",
              "        text-align: right;\n",
              "    }\n",
              "</style>\n",
              "<table border=\"1\" class=\"dataframe\">\n",
              "  <thead>\n",
              "    <tr style=\"text-align: right;\">\n",
              "      <th></th>\n",
              "      <th>y_test</th>\n",
              "      <th>y_hat</th>\n",
              "    </tr>\n",
              "  </thead>\n",
              "  <tbody>\n",
              "    <tr>\n",
              "      <th>17161</th>\n",
              "      <td>0</td>\n",
              "      <td>0</td>\n",
              "    </tr>\n",
              "    <tr>\n",
              "      <th>10948</th>\n",
              "      <td>1</td>\n",
              "      <td>1</td>\n",
              "    </tr>\n",
              "    <tr>\n",
              "      <th>4579</th>\n",
              "      <td>1</td>\n",
              "      <td>0</td>\n",
              "    </tr>\n",
              "    <tr>\n",
              "      <th>7639</th>\n",
              "      <td>0</td>\n",
              "      <td>0</td>\n",
              "    </tr>\n",
              "    <tr>\n",
              "      <th>13180</th>\n",
              "      <td>0</td>\n",
              "      <td>0</td>\n",
              "    </tr>\n",
              "    <tr>\n",
              "      <th>13129</th>\n",
              "      <td>0</td>\n",
              "      <td>0</td>\n",
              "    </tr>\n",
              "    <tr>\n",
              "      <th>852</th>\n",
              "      <td>0</td>\n",
              "      <td>0</td>\n",
              "    </tr>\n",
              "    <tr>\n",
              "      <th>15113</th>\n",
              "      <td>0</td>\n",
              "      <td>0</td>\n",
              "    </tr>\n",
              "    <tr>\n",
              "      <th>5733</th>\n",
              "      <td>0</td>\n",
              "      <td>0</td>\n",
              "    </tr>\n",
              "    <tr>\n",
              "      <th>13623</th>\n",
              "      <td>0</td>\n",
              "      <td>0</td>\n",
              "    </tr>\n",
              "    <tr>\n",
              "      <th>10101</th>\n",
              "      <td>0</td>\n",
              "      <td>0</td>\n",
              "    </tr>\n",
              "    <tr>\n",
              "      <th>5791</th>\n",
              "      <td>0</td>\n",
              "      <td>0</td>\n",
              "    </tr>\n",
              "    <tr>\n",
              "      <th>9353</th>\n",
              "      <td>0</td>\n",
              "      <td>0</td>\n",
              "    </tr>\n",
              "    <tr>\n",
              "      <th>2305</th>\n",
              "      <td>0</td>\n",
              "      <td>0</td>\n",
              "    </tr>\n",
              "    <tr>\n",
              "      <th>13309</th>\n",
              "      <td>1</td>\n",
              "      <td>1</td>\n",
              "    </tr>\n",
              "    <tr>\n",
              "      <th>2447</th>\n",
              "      <td>0</td>\n",
              "      <td>0</td>\n",
              "    </tr>\n",
              "    <tr>\n",
              "      <th>10818</th>\n",
              "      <td>0</td>\n",
              "      <td>0</td>\n",
              "    </tr>\n",
              "    <tr>\n",
              "      <th>3131</th>\n",
              "      <td>0</td>\n",
              "      <td>0</td>\n",
              "    </tr>\n",
              "    <tr>\n",
              "      <th>3890</th>\n",
              "      <td>0</td>\n",
              "      <td>0</td>\n",
              "    </tr>\n",
              "    <tr>\n",
              "      <th>10858</th>\n",
              "      <td>0</td>\n",
              "      <td>0</td>\n",
              "    </tr>\n",
              "  </tbody>\n",
              "</table>\n",
              "</div>"
            ],
            "text/plain": [
              "       y_test  y_hat\n",
              "17161       0      0\n",
              "10948       1      1\n",
              "4579        1      0\n",
              "7639        0      0\n",
              "13180       0      0\n",
              "13129       0      0\n",
              "852         0      0\n",
              "15113       0      0\n",
              "5733        0      0\n",
              "13623       0      0\n",
              "10101       0      0\n",
              "5791        0      0\n",
              "9353        0      0\n",
              "2305        0      0\n",
              "13309       1      1\n",
              "2447        0      0\n",
              "10818       0      0\n",
              "3131        0      0\n",
              "3890        0      0\n",
              "10858       0      0"
            ]
          },
          "execution_count": 142,
          "metadata": {},
          "output_type": "execute_result"
        }
      ],
      "source": [
        "predictions = pd.DataFrame({ 'y_test':y_test,'y_hat':y_hat})\n",
        "predictions.tail(20)"
      ]
    },
    {
      "cell_type": "markdown",
      "metadata": {
        "id": "90q-OlAlZfdo"
      },
      "source": [
        "### Evaluating the model on test dataset¶"
      ]
    },
    {
      "cell_type": "markdown",
      "metadata": {
        "id": "ukNgijzhZfdo"
      },
      "source": [
        "---"
      ]
    },
    {
      "cell_type": "code",
      "execution_count": null,
      "metadata": {
        "id": "cOwXAS55Zfdp"
      },
      "outputs": [],
      "source": [
        "from sklearn.metrics import confusion_matrix\n",
        "from sklearn.metrics import accuracy_score, recall_score, precision_score, f1_score\n",
        "\n",
        "\n",
        "\n",
        "def my_SVM_report(X_train, y_train, X_test,y_test, C=1,gamma='scale' ,kernel='rbf'):\n",
        "    svc= SVC(C=C, gamma=gamma, kernel=kernel)\n",
        "    svc.fit(X_train, y_train)\n",
        "    y_hat = svc.predict(X_test)\n",
        "    \n",
        "    cm = confusion_matrix(y_test, y_hat)\n",
        "    accuracy = round(accuracy_score(y_test,y_hat) ,4)\n",
        "    error_rate = round(1-accuracy,4)\n",
        "    precision = round(precision_score(y_test,y_hat),2)\n",
        "    recall = round(recall_score(y_test,y_hat),2)\n",
        "    f1score = round(f1_score(y_test,y_hat),2)\n",
        "    cm_labled = pd.DataFrame(cm, index=['Actual : negative ','Actual : positive'], columns=['Predict : negative','Predict :positive '])\n",
        "    \n",
        "    print(\"-----------------------------------------\")\n",
        "    print('Accuracy  = {}'.format(accuracy))\n",
        "    print('Error_rate  = {}'.format(error_rate))\n",
        "    print('Precision = {}'.format(precision))\n",
        "    print('Recall    = {}'.format(recall))\n",
        "    print('f1_score  = {}'.format(f1score))\n",
        "    print(\"-----------------------------------------\")\n",
        "    return cm_labled\n",
        " "
      ]
    },
    {
      "cell_type": "code",
      "execution_count": null,
      "metadata": {
        "id": "cO3L3xd3Zfdq",
        "outputId": "f45921dc-2823-4c46-ba64-efb15a544859"
      },
      "outputs": [
        {
          "name": "stdout",
          "output_type": "stream",
          "text": [
            "-----------------------------------------\n",
            "Accuracy  = 0.9701\n",
            "Error_rate  = 0.0299\n",
            "Precision = 0.88\n",
            "Recall    = 0.7\n",
            "f1_score  = 0.78\n",
            "-----------------------------------------\n"
          ]
        },
        {
          "data": {
            "text/html": [
              "<div>\n",
              "<style scoped>\n",
              "    .dataframe tbody tr th:only-of-type {\n",
              "        vertical-align: middle;\n",
              "    }\n",
              "\n",
              "    .dataframe tbody tr th {\n",
              "        vertical-align: top;\n",
              "    }\n",
              "\n",
              "    .dataframe thead th {\n",
              "        text-align: right;\n",
              "    }\n",
              "</style>\n",
              "<table border=\"1\" class=\"dataframe\">\n",
              "  <thead>\n",
              "    <tr style=\"text-align: right;\">\n",
              "      <th></th>\n",
              "      <th>Predict : negative</th>\n",
              "      <th>Predict :positive</th>\n",
              "    </tr>\n",
              "  </thead>\n",
              "  <tbody>\n",
              "    <tr>\n",
              "      <th>Actual : negative</th>\n",
              "      <td>4782</td>\n",
              "      <td>37</td>\n",
              "    </tr>\n",
              "    <tr>\n",
              "      <th>Actual : positive</th>\n",
              "      <td>119</td>\n",
              "      <td>276</td>\n",
              "    </tr>\n",
              "  </tbody>\n",
              "</table>\n",
              "</div>"
            ],
            "text/plain": [
              "                    Predict : negative  Predict :positive \n",
              "Actual : negative                 4782                  37\n",
              "Actual : positive                  119                 276"
            ]
          },
          "execution_count": 144,
          "metadata": {},
          "output_type": "execute_result"
        }
      ],
      "source": [
        "my_SVM_report(X_train, y_train, X_test,y_test, kernel='rbf')"
      ]
    },
    {
      "cell_type": "markdown",
      "metadata": {
        "id": "n1yEJqSiZfdr"
      },
      "source": [
        "### ROC and AUC "
      ]
    },
    {
      "cell_type": "markdown",
      "metadata": {
        "id": "l0uOZJ5LZfds"
      },
      "source": [
        "We cannot define ROC and AUC in SVM. Why?"
      ]
    },
    {
      "cell_type": "markdown",
      "metadata": {
        "id": "mn1O5cRdZfds"
      },
      "source": [
        "---"
      ]
    },
    {
      "cell_type": "markdown",
      "metadata": {
        "id": "A8V_CUopZfdt"
      },
      "source": [
        "## Tuning hyperparameters: \n",
        "### Gridsearch\n",
        "Finding the right hyper parameters (like C, gamma and the Kernel function) is a tricky task! But luckily, we can be a little lazy and just try a bunch of combinations and see what works best! This idea of creating a 'grid' of parameters and just trying out all the possible combinations is called a **Gridsearch**, this method is common enough that Scikit-learn has this functionality built in with GridSearchCV! The CV stands for cross-validation.\n",
        "\n",
        "GridSearchCV takes a dictionary that describes the parameters that should be tried and a model to train. The grid of parameters is defined as a dictionary, where the keys are the parameters and the values are the settings to be tested."
      ]
    },
    {
      "cell_type": "markdown",
      "metadata": {
        "id": "4Y1pWBeQZfdu"
      },
      "source": [
        ". **C** represents **cost** of misclassification. A large C means that you are penalizing the errors more restricly so the margin will be narrower ie overfitting (small bias, big variance) https://scikit-learn.org/stable/modules/svm.html\n",
        "\n",
        ". **gamma** is the free prameter in the radial basis function (rbf). Intuitively, the gamma parameter (inverse of variance) defines how far the influence of a single training example reaches with low values meaning ‘far’ and high values meaning ‘close’. \n",
        "https://scikit-learn.org/stable/auto_examples/svm/plot_rbf_parameters.html"
      ]
    },
    {
      "cell_type": "code",
      "execution_count": null,
      "metadata": {
        "id": "JoGRhOAyZfdu"
      },
      "outputs": [],
      "source": [
        "my_param_grid = {'C': [10,100,1000], 'gamma': ['scale',0.01,0.001], 'kernel': ['rbf']} "
      ]
    },
    {
      "cell_type": "code",
      "execution_count": null,
      "metadata": {
        "id": "gdelgWYwZfdu"
      },
      "outputs": [],
      "source": [
        "from sklearn.model_selection import GridSearchCV"
      ]
    },
    {
      "cell_type": "code",
      "execution_count": null,
      "metadata": {
        "id": "RbvIZYt0Zfdu",
        "outputId": "ad1a8787-e304-45be-99a8-c5d46dd79c91"
      },
      "outputs": [
        {
          "data": {
            "text/plain": [
              "GridSearchCV(cv=5, estimator=SVC(),\n",
              "             param_grid={'C': [10, 100, 1000], 'gamma': ['scale', 0.01, 0.001],\n",
              "                         'kernel': ['rbf']},\n",
              "             verbose=2)"
            ]
          },
          "execution_count": 148,
          "metadata": {},
          "output_type": "execute_result"
        }
      ],
      "source": [
        "GridSearchCV(estimator=SVC(),param_grid= my_param_grid, refit = True, verbose=2, cv=5 )"
      ]
    },
    {
      "cell_type": "code",
      "execution_count": null,
      "metadata": {
        "id": "wBA3vtCkZfdv"
      },
      "outputs": [],
      "source": [
        "grid = GridSearchCV(estimator=SVC(),param_grid= my_param_grid, refit = True, verbose=2, cv=5 )\n",
        "# verbose just means the text output describing the process.  (the greater the number the more detail you will get)."
      ]
    },
    {
      "cell_type": "code",
      "execution_count": null,
      "metadata": {
        "id": "-vGVLC4GZfdv",
        "outputId": "cf473826-8e03-4dfd-aad6-672f709f87be"
      },
      "outputs": [
        {
          "name": "stdout",
          "output_type": "stream",
          "text": [
            "Fitting 5 folds for each of 9 candidates, totalling 45 fits\n",
            "[CV] END ......................C=10, gamma=scale, kernel=rbf; total time=   0.9s\n",
            "[CV] END ......................C=10, gamma=scale, kernel=rbf; total time=   0.8s\n",
            "[CV] END ......................C=10, gamma=scale, kernel=rbf; total time=   0.8s\n",
            "[CV] END ......................C=10, gamma=scale, kernel=rbf; total time=   0.8s\n",
            "[CV] END ......................C=10, gamma=scale, kernel=rbf; total time=   0.8s\n",
            "[CV] END .......................C=10, gamma=0.01, kernel=rbf; total time=   0.8s\n",
            "[CV] END .......................C=10, gamma=0.01, kernel=rbf; total time=   0.7s\n",
            "[CV] END .......................C=10, gamma=0.01, kernel=rbf; total time=   0.8s\n",
            "[CV] END .......................C=10, gamma=0.01, kernel=rbf; total time=   0.7s\n",
            "[CV] END .......................C=10, gamma=0.01, kernel=rbf; total time=   0.7s\n",
            "[CV] END ......................C=10, gamma=0.001, kernel=rbf; total time=   1.0s\n",
            "[CV] END ......................C=10, gamma=0.001, kernel=rbf; total time=   1.0s\n",
            "[CV] END ......................C=10, gamma=0.001, kernel=rbf; total time=   1.0s\n",
            "[CV] END ......................C=10, gamma=0.001, kernel=rbf; total time=   1.0s\n",
            "[CV] END ......................C=10, gamma=0.001, kernel=rbf; total time=   1.0s\n",
            "[CV] END .....................C=100, gamma=scale, kernel=rbf; total time=   0.7s\n",
            "[CV] END .....................C=100, gamma=scale, kernel=rbf; total time=   0.7s\n",
            "[CV] END .....................C=100, gamma=scale, kernel=rbf; total time=   0.7s\n",
            "[CV] END .....................C=100, gamma=scale, kernel=rbf; total time=   0.7s\n",
            "[CV] END .....................C=100, gamma=scale, kernel=rbf; total time=   0.7s\n",
            "[CV] END ......................C=100, gamma=0.01, kernel=rbf; total time=   0.7s\n",
            "[CV] END ......................C=100, gamma=0.01, kernel=rbf; total time=   0.7s\n",
            "[CV] END ......................C=100, gamma=0.01, kernel=rbf; total time=   0.6s\n",
            "[CV] END ......................C=100, gamma=0.01, kernel=rbf; total time=   0.7s\n",
            "[CV] END ......................C=100, gamma=0.01, kernel=rbf; total time=   0.7s\n",
            "[CV] END .....................C=100, gamma=0.001, kernel=rbf; total time=   1.0s\n",
            "[CV] END .....................C=100, gamma=0.001, kernel=rbf; total time=   1.0s\n",
            "[CV] END .....................C=100, gamma=0.001, kernel=rbf; total time=   0.9s\n",
            "[CV] END .....................C=100, gamma=0.001, kernel=rbf; total time=   1.0s\n",
            "[CV] END .....................C=100, gamma=0.001, kernel=rbf; total time=   0.9s\n",
            "[CV] END ....................C=1000, gamma=scale, kernel=rbf; total time=   0.7s\n",
            "[CV] END ....................C=1000, gamma=scale, kernel=rbf; total time=   0.6s\n",
            "[CV] END ....................C=1000, gamma=scale, kernel=rbf; total time=   0.7s\n",
            "[CV] END ....................C=1000, gamma=scale, kernel=rbf; total time=   0.7s\n",
            "[CV] END ....................C=1000, gamma=scale, kernel=rbf; total time=   0.6s\n",
            "[CV] END .....................C=1000, gamma=0.01, kernel=rbf; total time=   0.7s\n",
            "[CV] END .....................C=1000, gamma=0.01, kernel=rbf; total time=   0.6s\n",
            "[CV] END .....................C=1000, gamma=0.01, kernel=rbf; total time=   0.6s\n",
            "[CV] END .....................C=1000, gamma=0.01, kernel=rbf; total time=   0.7s\n",
            "[CV] END .....................C=1000, gamma=0.01, kernel=rbf; total time=   0.6s\n",
            "[CV] END ....................C=1000, gamma=0.001, kernel=rbf; total time=   1.1s\n",
            "[CV] END ....................C=1000, gamma=0.001, kernel=rbf; total time=   1.1s\n",
            "[CV] END ....................C=1000, gamma=0.001, kernel=rbf; total time=   1.1s\n",
            "[CV] END ....................C=1000, gamma=0.001, kernel=rbf; total time=   1.1s\n",
            "[CV] END ....................C=1000, gamma=0.001, kernel=rbf; total time=   1.2s\n"
          ]
        },
        {
          "data": {
            "text/plain": [
              "GridSearchCV(cv=5, estimator=SVC(),\n",
              "             param_grid={'C': [10, 100, 1000], 'gamma': ['scale', 0.01, 0.001],\n",
              "                         'kernel': ['rbf']},\n",
              "             verbose=2)"
            ]
          },
          "execution_count": 150,
          "metadata": {},
          "output_type": "execute_result"
        }
      ],
      "source": [
        "# May take a while!\n",
        "grid.fit(X_train,y_train)"
      ]
    },
    {
      "cell_type": "markdown",
      "metadata": {
        "id": "lS_Wykl0Zfdv"
      },
      "source": [
        "What **fit** does is a bit more involved than usual. First, it tries multiple combinations from param_grid by cross-validation to find the best parameter combination. Once it has the best combination, it retrain the model using optimal hyperparameters on the entire train set."
      ]
    },
    {
      "cell_type": "code",
      "execution_count": null,
      "metadata": {
        "id": "lbwl2YiYZfdv",
        "outputId": "fda8e707-2cdd-4ea3-a6a4-c1a856ea3f06"
      },
      "outputs": [
        {
          "data": {
            "text/plain": [
              "{'C': 1000, 'gamma': 0.001, 'kernel': 'rbf'}"
            ]
          },
          "execution_count": 151,
          "metadata": {},
          "output_type": "execute_result"
        }
      ],
      "source": [
        "grid.best_params_"
      ]
    },
    {
      "cell_type": "code",
      "execution_count": null,
      "metadata": {
        "id": "rTvytns0Zfdv",
        "outputId": "52e2f763-0b51-494c-b44c-fc4730e5770f"
      },
      "outputs": [
        {
          "data": {
            "text/plain": [
              "SVC(C=1000, gamma=0.001)"
            ]
          },
          "execution_count": 152,
          "metadata": {},
          "output_type": "execute_result"
        }
      ],
      "source": [
        "grid.best_estimator_"
      ]
    },
    {
      "cell_type": "code",
      "execution_count": null,
      "metadata": {
        "id": "aApR5OjCZfdw"
      },
      "outputs": [],
      "source": [
        "y_hat_optimized = grid.predict(X_test)"
      ]
    },
    {
      "cell_type": "code",
      "execution_count": null,
      "metadata": {
        "id": "gsxHNH6sZfdw",
        "outputId": "c1000a03-ad2d-4727-cfac-1cacec09e475"
      },
      "outputs": [
        {
          "data": {
            "text/html": [
              "<div>\n",
              "<style scoped>\n",
              "    .dataframe tbody tr th:only-of-type {\n",
              "        vertical-align: middle;\n",
              "    }\n",
              "\n",
              "    .dataframe tbody tr th {\n",
              "        vertical-align: top;\n",
              "    }\n",
              "\n",
              "    .dataframe thead th {\n",
              "        text-align: right;\n",
              "    }\n",
              "</style>\n",
              "<table border=\"1\" class=\"dataframe\">\n",
              "  <thead>\n",
              "    <tr style=\"text-align: right;\">\n",
              "      <th></th>\n",
              "      <th>y_test</th>\n",
              "      <th>y_hat</th>\n",
              "      <th>y_hat_optimized</th>\n",
              "    </tr>\n",
              "  </thead>\n",
              "  <tbody>\n",
              "    <tr>\n",
              "      <th>17161</th>\n",
              "      <td>0</td>\n",
              "      <td>0</td>\n",
              "      <td>0</td>\n",
              "    </tr>\n",
              "    <tr>\n",
              "      <th>10948</th>\n",
              "      <td>1</td>\n",
              "      <td>1</td>\n",
              "      <td>1</td>\n",
              "    </tr>\n",
              "    <tr>\n",
              "      <th>4579</th>\n",
              "      <td>1</td>\n",
              "      <td>0</td>\n",
              "      <td>1</td>\n",
              "    </tr>\n",
              "    <tr>\n",
              "      <th>7639</th>\n",
              "      <td>0</td>\n",
              "      <td>0</td>\n",
              "      <td>0</td>\n",
              "    </tr>\n",
              "    <tr>\n",
              "      <th>13180</th>\n",
              "      <td>0</td>\n",
              "      <td>0</td>\n",
              "      <td>0</td>\n",
              "    </tr>\n",
              "    <tr>\n",
              "      <th>13129</th>\n",
              "      <td>0</td>\n",
              "      <td>0</td>\n",
              "      <td>0</td>\n",
              "    </tr>\n",
              "    <tr>\n",
              "      <th>852</th>\n",
              "      <td>0</td>\n",
              "      <td>0</td>\n",
              "      <td>0</td>\n",
              "    </tr>\n",
              "    <tr>\n",
              "      <th>15113</th>\n",
              "      <td>0</td>\n",
              "      <td>0</td>\n",
              "      <td>0</td>\n",
              "    </tr>\n",
              "    <tr>\n",
              "      <th>5733</th>\n",
              "      <td>0</td>\n",
              "      <td>0</td>\n",
              "      <td>0</td>\n",
              "    </tr>\n",
              "    <tr>\n",
              "      <th>13623</th>\n",
              "      <td>0</td>\n",
              "      <td>0</td>\n",
              "      <td>0</td>\n",
              "    </tr>\n",
              "    <tr>\n",
              "      <th>10101</th>\n",
              "      <td>0</td>\n",
              "      <td>0</td>\n",
              "      <td>0</td>\n",
              "    </tr>\n",
              "    <tr>\n",
              "      <th>5791</th>\n",
              "      <td>0</td>\n",
              "      <td>0</td>\n",
              "      <td>0</td>\n",
              "    </tr>\n",
              "    <tr>\n",
              "      <th>9353</th>\n",
              "      <td>0</td>\n",
              "      <td>0</td>\n",
              "      <td>0</td>\n",
              "    </tr>\n",
              "    <tr>\n",
              "      <th>2305</th>\n",
              "      <td>0</td>\n",
              "      <td>0</td>\n",
              "      <td>0</td>\n",
              "    </tr>\n",
              "    <tr>\n",
              "      <th>13309</th>\n",
              "      <td>1</td>\n",
              "      <td>1</td>\n",
              "      <td>1</td>\n",
              "    </tr>\n",
              "    <tr>\n",
              "      <th>2447</th>\n",
              "      <td>0</td>\n",
              "      <td>0</td>\n",
              "      <td>0</td>\n",
              "    </tr>\n",
              "    <tr>\n",
              "      <th>10818</th>\n",
              "      <td>0</td>\n",
              "      <td>0</td>\n",
              "      <td>0</td>\n",
              "    </tr>\n",
              "    <tr>\n",
              "      <th>3131</th>\n",
              "      <td>0</td>\n",
              "      <td>0</td>\n",
              "      <td>0</td>\n",
              "    </tr>\n",
              "    <tr>\n",
              "      <th>3890</th>\n",
              "      <td>0</td>\n",
              "      <td>0</td>\n",
              "      <td>0</td>\n",
              "    </tr>\n",
              "    <tr>\n",
              "      <th>10858</th>\n",
              "      <td>0</td>\n",
              "      <td>0</td>\n",
              "      <td>0</td>\n",
              "    </tr>\n",
              "  </tbody>\n",
              "</table>\n",
              "</div>"
            ],
            "text/plain": [
              "       y_test  y_hat  y_hat_optimized\n",
              "17161       0      0                0\n",
              "10948       1      1                1\n",
              "4579        1      0                1\n",
              "7639        0      0                0\n",
              "13180       0      0                0\n",
              "13129       0      0                0\n",
              "852         0      0                0\n",
              "15113       0      0                0\n",
              "5733        0      0                0\n",
              "13623       0      0                0\n",
              "10101       0      0                0\n",
              "5791        0      0                0\n",
              "9353        0      0                0\n",
              "2305        0      0                0\n",
              "13309       1      1                1\n",
              "2447        0      0                0\n",
              "10818       0      0                0\n",
              "3131        0      0                0\n",
              "3890        0      0                0\n",
              "10858       0      0                0"
            ]
          },
          "execution_count": 154,
          "metadata": {},
          "output_type": "execute_result"
        }
      ],
      "source": [
        "predictions['y_hat_optimized'] = y_hat_optimized\n",
        "predictions.tail(20)"
      ]
    },
    {
      "cell_type": "code",
      "execution_count": null,
      "metadata": {
        "id": "Ai-QAg9SZfdw",
        "outputId": "b610b13a-86cb-401e-947f-cceba1165ab1"
      },
      "outputs": [
        {
          "name": "stdout",
          "output_type": "stream",
          "text": [
            "-----------------------------------------\n",
            "Accuracy  = 0.9737\n",
            "Error_rate  = 0.0263\n",
            "Precision = 0.84\n",
            "Recall    = 0.81\n",
            "f1_score  = 0.82\n",
            "-----------------------------------------\n"
          ]
        },
        {
          "data": {
            "text/html": [
              "<div>\n",
              "<style scoped>\n",
              "    .dataframe tbody tr th:only-of-type {\n",
              "        vertical-align: middle;\n",
              "    }\n",
              "\n",
              "    .dataframe tbody tr th {\n",
              "        vertical-align: top;\n",
              "    }\n",
              "\n",
              "    .dataframe thead th {\n",
              "        text-align: right;\n",
              "    }\n",
              "</style>\n",
              "<table border=\"1\" class=\"dataframe\">\n",
              "  <thead>\n",
              "    <tr style=\"text-align: right;\">\n",
              "      <th></th>\n",
              "      <th>Predict : negative</th>\n",
              "      <th>Predict :positive</th>\n",
              "    </tr>\n",
              "  </thead>\n",
              "  <tbody>\n",
              "    <tr>\n",
              "      <th>Actual : negative</th>\n",
              "      <td>4758</td>\n",
              "      <td>61</td>\n",
              "    </tr>\n",
              "    <tr>\n",
              "      <th>Actual : positive</th>\n",
              "      <td>76</td>\n",
              "      <td>319</td>\n",
              "    </tr>\n",
              "  </tbody>\n",
              "</table>\n",
              "</div>"
            ],
            "text/plain": [
              "                    Predict : negative  Predict :positive \n",
              "Actual : negative                 4758                  61\n",
              "Actual : positive                   76                 319"
            ]
          },
          "execution_count": 155,
          "metadata": {},
          "output_type": "execute_result"
        }
      ],
      "source": [
        "my_SVM_report(X_train, y_train, X_test,y_test,C=1000, gamma=0.001)"
      ]
    },
    {
      "cell_type": "markdown",
      "metadata": {
        "id": "5WumircRZfdw"
      },
      "source": [
        "---"
      ]
    },
    {
      "cell_type": "markdown",
      "metadata": {
        "id": "qw_yTAReZfdx"
      },
      "source": [
        "#### Cross validation\n",
        "We will use Cross validation to estimate performance metrics in the test set. "
      ]
    },
    {
      "cell_type": "markdown",
      "source": [
        "Cross validation amaçlar:\n",
        "1) tuning hyper parameters\n",
        "2) estimating the performance metrics of the test set"
      ],
      "metadata": {
        "id": "RbQKraDGzAQn"
      }
    },
    {
      "cell_type": "code",
      "execution_count": null,
      "metadata": {
        "id": "bwyaZJDpZfdx"
      },
      "outputs": [],
      "source": [
        "from sklearn.model_selection import cross_val_score"
      ]
    },
    {
      "cell_type": "code",
      "execution_count": null,
      "metadata": {
        "id": "ZKfUFPZzZfdx"
      },
      "outputs": [],
      "source": [
        "# 6.1\n",
        "f1_score = cross_val_score(estimator = SVC(C=1000, gamma=0.001), X = X_train, y = y_train, cv = 5 , scoring=\"f1\" )"
      ]
    },
    {
      "cell_type": "code",
      "execution_count": null,
      "metadata": {
        "id": "SbWhayZyZfdx",
        "outputId": "47337241-49b9-4900-fa84-f2c00b5ca9ad"
      },
      "outputs": [
        {
          "data": {
            "text/plain": [
              "array([0.820059  , 0.83775811, 0.84813754, 0.82253521, 0.7877095 ])"
            ]
          },
          "execution_count": 157,
          "metadata": {},
          "output_type": "execute_result"
        }
      ],
      "source": [
        "f1_score"
      ]
    },
    {
      "cell_type": "code",
      "execution_count": null,
      "metadata": {
        "id": "BcOU5of4Zfdx",
        "outputId": "d307beb2-0984-4489-9e58-2cc69c8d083e"
      },
      "outputs": [
        {
          "data": {
            "text/plain": [
              "0.8232"
            ]
          },
          "execution_count": 159,
          "metadata": {},
          "output_type": "execute_result"
        }
      ],
      "source": [
        "f1_CV=round(f1_score.mean(),4)\n",
        "f1_CV"
      ]
    },
    {
      "cell_type": "markdown",
      "metadata": {
        "id": "bI1hqIuKZfdy"
      },
      "source": [
        "---\n",
        "### Advance Visualization (this part is optional) \n",
        "\n",
        "Visualising the Training set results (in 2D of course!). We have to rerun the whole model with 2 explanatory variables"
      ]
    },
    {
      "cell_type": "markdown",
      "metadata": {
        "id": "pZXw1u1OZfdy"
      },
      "source": [
        "Let's balance our target variables first!"
      ]
    },
    {
      "cell_type": "code",
      "execution_count": null,
      "metadata": {
        "id": "LuKi0YySZfdy"
      },
      "outputs": [],
      "source": [
        "df_vis = df_sc[['overload', 'temp', 'windspeed']]"
      ]
    },
    {
      "cell_type": "code",
      "execution_count": null,
      "metadata": {
        "id": "s8cky3UwZfdy",
        "outputId": "585674ea-8f6d-46fd-d1a9-c9afc14cf883"
      },
      "outputs": [
        {
          "data": {
            "text/html": [
              "<div>\n",
              "<style scoped>\n",
              "    .dataframe tbody tr th:only-of-type {\n",
              "        vertical-align: middle;\n",
              "    }\n",
              "\n",
              "    .dataframe tbody tr th {\n",
              "        vertical-align: top;\n",
              "    }\n",
              "\n",
              "    .dataframe thead th {\n",
              "        text-align: right;\n",
              "    }\n",
              "</style>\n",
              "<table border=\"1\" class=\"dataframe\">\n",
              "  <thead>\n",
              "    <tr style=\"text-align: right;\">\n",
              "      <th>overload</th>\n",
              "      <th>0</th>\n",
              "      <th>1</th>\n",
              "    </tr>\n",
              "    <tr>\n",
              "      <th>overload</th>\n",
              "      <th></th>\n",
              "      <th></th>\n",
              "    </tr>\n",
              "  </thead>\n",
              "  <tbody>\n",
              "    <tr>\n",
              "      <th>0</th>\n",
              "      <td>16100</td>\n",
              "      <td>0</td>\n",
              "    </tr>\n",
              "    <tr>\n",
              "      <th>1</th>\n",
              "      <td>0</td>\n",
              "      <td>1279</td>\n",
              "    </tr>\n",
              "  </tbody>\n",
              "</table>\n",
              "</div>"
            ],
            "text/plain": [
              "overload      0     1\n",
              "overload             \n",
              "0         16100     0\n",
              "1             0  1279"
            ]
          },
          "execution_count": 164,
          "metadata": {},
          "output_type": "execute_result"
        }
      ],
      "source": [
        "pd.crosstab(df_vis['overload'], df_vis['overload'])"
      ]
    },
    {
      "cell_type": "code",
      "execution_count": null,
      "metadata": {
        "id": "gN3UvqnnZfdy",
        "outputId": "6f57b1e0-2033-46e7-e798-005d8e1b33ca"
      },
      "outputs": [
        {
          "data": {
            "text/html": [
              "<div>\n",
              "<style scoped>\n",
              "    .dataframe tbody tr th:only-of-type {\n",
              "        vertical-align: middle;\n",
              "    }\n",
              "\n",
              "    .dataframe tbody tr th {\n",
              "        vertical-align: top;\n",
              "    }\n",
              "\n",
              "    .dataframe thead th {\n",
              "        text-align: right;\n",
              "    }\n",
              "</style>\n",
              "<table border=\"1\" class=\"dataframe\">\n",
              "  <thead>\n",
              "    <tr style=\"text-align: right;\">\n",
              "      <th></th>\n",
              "      <th>overload</th>\n",
              "      <th>temp</th>\n",
              "      <th>windspeed</th>\n",
              "    </tr>\n",
              "  </thead>\n",
              "  <tbody>\n",
              "    <tr>\n",
              "      <th>2659</th>\n",
              "      <td>1</td>\n",
              "      <td>1.054335</td>\n",
              "      <td>0.886099</td>\n",
              "    </tr>\n",
              "    <tr>\n",
              "      <th>2683</th>\n",
              "      <td>1</td>\n",
              "      <td>0.950466</td>\n",
              "      <td>1.374096</td>\n",
              "    </tr>\n",
              "    <tr>\n",
              "      <th>2684</th>\n",
              "      <td>1</td>\n",
              "      <td>0.950466</td>\n",
              "      <td>2.106501</td>\n",
              "    </tr>\n",
              "    <tr>\n",
              "      <th>2707</th>\n",
              "      <td>1</td>\n",
              "      <td>0.846597</td>\n",
              "      <td>1.618504</td>\n",
              "    </tr>\n",
              "    <tr>\n",
              "      <th>2732</th>\n",
              "      <td>1</td>\n",
              "      <td>0.742729</td>\n",
              "      <td>1.374096</td>\n",
              "    </tr>\n",
              "  </tbody>\n",
              "</table>\n",
              "</div>"
            ],
            "text/plain": [
              "      overload      temp  windspeed\n",
              "2659         1  1.054335   0.886099\n",
              "2683         1  0.950466   1.374096\n",
              "2684         1  0.950466   2.106501\n",
              "2707         1  0.846597   1.618504\n",
              "2732         1  0.742729   1.374096"
            ]
          },
          "execution_count": 165,
          "metadata": {},
          "output_type": "execute_result"
        }
      ],
      "source": [
        "df_vis.loc[df_vis['overload']==1,].head()"
      ]
    },
    {
      "cell_type": "code",
      "execution_count": null,
      "metadata": {
        "id": "fANyWEfAZfdz",
        "outputId": "56b70066-710e-4725-c365-9230e96ea45f"
      },
      "outputs": [
        {
          "data": {
            "text/plain": [
              "[4, 10, 2]"
            ]
          },
          "execution_count": 167,
          "metadata": {},
          "output_type": "execute_result"
        }
      ],
      "source": [
        "sample(df_vis.index, 3)"
      ]
    },
    {
      "cell_type": "code",
      "execution_count": null,
      "metadata": {
        "id": "kWopV_6XZfdz",
        "outputId": "f360df38-5ece-4fcf-a505-670ee16260c1"
      },
      "outputs": [
        {
          "data": {
            "text/plain": [
              "[12030, 6955, 3624, 900, 11837]"
            ]
          },
          "execution_count": 174,
          "metadata": {},
          "output_type": "execute_result"
        }
      ],
      "source": [
        "from random import sample\n",
        "sample(list(df_vis.loc[df_vis['overload']==0,].index),5)"
      ]
    },
    {
      "cell_type": "code",
      "execution_count": null,
      "metadata": {
        "id": "5rtbqZJDZfdz"
      },
      "outputs": [],
      "source": [
        "overloads_only     = sample(list(df_vis.loc[df_vis['overload']==1,].index),100)\n",
        "non_overloads_only = sample(list(df_vis.loc[df_vis['overload']==0,].index),100)\n",
        "df1 = df_vis.iloc[overloads_only,]\n",
        "df0 = df_vis.iloc[non_overloads_only,]"
      ]
    },
    {
      "cell_type": "code",
      "execution_count": null,
      "metadata": {
        "id": "1oPyVH9QZfdz",
        "outputId": "817f6a6b-8f79-45d3-9238-62e695da65b0"
      },
      "outputs": [
        {
          "data": {
            "text/html": [
              "<div>\n",
              "<style scoped>\n",
              "    .dataframe tbody tr th:only-of-type {\n",
              "        vertical-align: middle;\n",
              "    }\n",
              "\n",
              "    .dataframe tbody tr th {\n",
              "        vertical-align: top;\n",
              "    }\n",
              "\n",
              "    .dataframe thead th {\n",
              "        text-align: right;\n",
              "    }\n",
              "</style>\n",
              "<table border=\"1\" class=\"dataframe\">\n",
              "  <thead>\n",
              "    <tr style=\"text-align: right;\">\n",
              "      <th></th>\n",
              "      <th>overload</th>\n",
              "      <th>temp</th>\n",
              "      <th>windspeed</th>\n",
              "    </tr>\n",
              "  </thead>\n",
              "  <tbody>\n",
              "    <tr>\n",
              "      <th>10240</th>\n",
              "      <td>1</td>\n",
              "      <td>0.327253</td>\n",
              "      <td>2.228296</td>\n",
              "    </tr>\n",
              "    <tr>\n",
              "      <th>16368</th>\n",
              "      <td>1</td>\n",
              "      <td>-0.503697</td>\n",
              "      <td>0.519896</td>\n",
              "    </tr>\n",
              "    <tr>\n",
              "      <th>11955</th>\n",
              "      <td>1</td>\n",
              "      <td>0.119516</td>\n",
              "      <td>-0.456099</td>\n",
              "    </tr>\n",
              "    <tr>\n",
              "      <th>13572</th>\n",
              "      <td>1</td>\n",
              "      <td>1.573679</td>\n",
              "      <td>1.130506</td>\n",
              "    </tr>\n",
              "    <tr>\n",
              "      <th>16382</th>\n",
              "      <td>1</td>\n",
              "      <td>-0.815304</td>\n",
              "      <td>-0.456099</td>\n",
              "    </tr>\n",
              "    <tr>\n",
              "      <th>16056</th>\n",
              "      <td>1</td>\n",
              "      <td>-0.919172</td>\n",
              "      <td>0.276306</td>\n",
              "    </tr>\n",
              "    <tr>\n",
              "      <th>15179</th>\n",
              "      <td>1</td>\n",
              "      <td>0.638860</td>\n",
              "      <td>0.519896</td>\n",
              "    </tr>\n",
              "    <tr>\n",
              "      <th>5564</th>\n",
              "      <td>1</td>\n",
              "      <td>1.262073</td>\n",
              "      <td>0.886099</td>\n",
              "    </tr>\n",
              "    <tr>\n",
              "      <th>11916</th>\n",
              "      <td>1</td>\n",
              "      <td>1.158204</td>\n",
              "      <td>0.031899</td>\n",
              "    </tr>\n",
              "    <tr>\n",
              "      <th>14868</th>\n",
              "      <td>1</td>\n",
              "      <td>0.846597</td>\n",
              "      <td>-1.553889</td>\n",
              "    </tr>\n",
              "    <tr>\n",
              "      <th>13525</th>\n",
              "      <td>1</td>\n",
              "      <td>1.262073</td>\n",
              "      <td>-0.211691</td>\n",
              "    </tr>\n",
              "    <tr>\n",
              "      <th>15344</th>\n",
              "      <td>1</td>\n",
              "      <td>0.742729</td>\n",
              "      <td>2.716293</td>\n",
              "    </tr>\n",
              "    <tr>\n",
              "      <th>16392</th>\n",
              "      <td>1</td>\n",
              "      <td>-0.503697</td>\n",
              "      <td>-0.821484</td>\n",
              "    </tr>\n",
              "    <tr>\n",
              "      <th>14700</th>\n",
              "      <td>1</td>\n",
              "      <td>1.054335</td>\n",
              "      <td>0.519896</td>\n",
              "    </tr>\n",
              "    <tr>\n",
              "      <th>15961</th>\n",
              "      <td>1</td>\n",
              "      <td>-0.607566</td>\n",
              "      <td>1.130506</td>\n",
              "    </tr>\n",
              "    <tr>\n",
              "      <th>14026</th>\n",
              "      <td>1</td>\n",
              "      <td>1.365942</td>\n",
              "      <td>-0.456099</td>\n",
              "    </tr>\n",
              "    <tr>\n",
              "      <th>13909</th>\n",
              "      <td>1</td>\n",
              "      <td>1.365942</td>\n",
              "      <td>-0.211691</td>\n",
              "    </tr>\n",
              "    <tr>\n",
              "      <th>6219</th>\n",
              "      <td>1</td>\n",
              "      <td>0.846597</td>\n",
              "      <td>-0.211691</td>\n",
              "    </tr>\n",
              "    <tr>\n",
              "      <th>5443</th>\n",
              "      <td>1</td>\n",
              "      <td>1.365942</td>\n",
              "      <td>2.716293</td>\n",
              "    </tr>\n",
              "    <tr>\n",
              "      <th>16630</th>\n",
              "      <td>1</td>\n",
              "      <td>-0.711435</td>\n",
              "      <td>0.031899</td>\n",
              "    </tr>\n",
              "    <tr>\n",
              "      <th>6172</th>\n",
              "      <td>1</td>\n",
              "      <td>0.327253</td>\n",
              "      <td>-0.456099</td>\n",
              "    </tr>\n",
              "    <tr>\n",
              "      <th>17053</th>\n",
              "      <td>1</td>\n",
              "      <td>-0.607566</td>\n",
              "      <td>-1.553889</td>\n",
              "    </tr>\n",
              "    <tr>\n",
              "      <th>10766</th>\n",
              "      <td>1</td>\n",
              "      <td>0.119516</td>\n",
              "      <td>1.618504</td>\n",
              "    </tr>\n",
              "    <tr>\n",
              "      <th>15459</th>\n",
              "      <td>1</td>\n",
              "      <td>-0.607566</td>\n",
              "      <td>1.618504</td>\n",
              "    </tr>\n",
              "    <tr>\n",
              "      <th>7514</th>\n",
              "      <td>1</td>\n",
              "      <td>0.638860</td>\n",
              "      <td>0.519896</td>\n",
              "    </tr>\n",
              "    <tr>\n",
              "      <th>14002</th>\n",
              "      <td>1</td>\n",
              "      <td>1.573679</td>\n",
              "      <td>0.764304</td>\n",
              "    </tr>\n",
              "    <tr>\n",
              "      <th>5515</th>\n",
              "      <td>1</td>\n",
              "      <td>1.262073</td>\n",
              "      <td>1.130506</td>\n",
              "    </tr>\n",
              "    <tr>\n",
              "      <th>8915</th>\n",
              "      <td>1</td>\n",
              "      <td>-0.919172</td>\n",
              "      <td>0.031899</td>\n",
              "    </tr>\n",
              "    <tr>\n",
              "      <th>9250</th>\n",
              "      <td>1</td>\n",
              "      <td>-1.126910</td>\n",
              "      <td>-0.821484</td>\n",
              "    </tr>\n",
              "    <tr>\n",
              "      <th>12468</th>\n",
              "      <td>1</td>\n",
              "      <td>1.365942</td>\n",
              "      <td>0.031899</td>\n",
              "    </tr>\n",
              "    <tr>\n",
              "      <th>...</th>\n",
              "      <td>...</td>\n",
              "      <td>...</td>\n",
              "      <td>...</td>\n",
              "    </tr>\n",
              "    <tr>\n",
              "      <th>5827</th>\n",
              "      <td>0</td>\n",
              "      <td>0.846597</td>\n",
              "      <td>-0.456099</td>\n",
              "    </tr>\n",
              "    <tr>\n",
              "      <th>7322</th>\n",
              "      <td>0</td>\n",
              "      <td>-0.295959</td>\n",
              "      <td>-0.211691</td>\n",
              "    </tr>\n",
              "    <tr>\n",
              "      <th>14129</th>\n",
              "      <td>0</td>\n",
              "      <td>1.158204</td>\n",
              "      <td>-0.211691</td>\n",
              "    </tr>\n",
              "    <tr>\n",
              "      <th>10369</th>\n",
              "      <td>0</td>\n",
              "      <td>-0.192091</td>\n",
              "      <td>0.031899</td>\n",
              "    </tr>\n",
              "    <tr>\n",
              "      <th>9462</th>\n",
              "      <td>0</td>\n",
              "      <td>-1.334648</td>\n",
              "      <td>-0.821484</td>\n",
              "    </tr>\n",
              "    <tr>\n",
              "      <th>6206</th>\n",
              "      <td>0</td>\n",
              "      <td>0.223385</td>\n",
              "      <td>-0.456099</td>\n",
              "    </tr>\n",
              "    <tr>\n",
              "      <th>13168</th>\n",
              "      <td>0</td>\n",
              "      <td>1.989154</td>\n",
              "      <td>0.031899</td>\n",
              "    </tr>\n",
              "    <tr>\n",
              "      <th>4837</th>\n",
              "      <td>0</td>\n",
              "      <td>1.781417</td>\n",
              "      <td>0.031899</td>\n",
              "    </tr>\n",
              "    <tr>\n",
              "      <th>12626</th>\n",
              "      <td>0</td>\n",
              "      <td>0.327253</td>\n",
              "      <td>-0.211691</td>\n",
              "    </tr>\n",
              "    <tr>\n",
              "      <th>3552</th>\n",
              "      <td>0</td>\n",
              "      <td>1.262073</td>\n",
              "      <td>-0.456099</td>\n",
              "    </tr>\n",
              "    <tr>\n",
              "      <th>17044</th>\n",
              "      <td>0</td>\n",
              "      <td>-0.399828</td>\n",
              "      <td>0.276306</td>\n",
              "    </tr>\n",
              "    <tr>\n",
              "      <th>4249</th>\n",
              "      <td>0</td>\n",
              "      <td>0.846597</td>\n",
              "      <td>-1.553889</td>\n",
              "    </tr>\n",
              "    <tr>\n",
              "      <th>11023</th>\n",
              "      <td>0</td>\n",
              "      <td>0.119516</td>\n",
              "      <td>1.862094</td>\n",
              "    </tr>\n",
              "    <tr>\n",
              "      <th>909</th>\n",
              "      <td>0</td>\n",
              "      <td>-1.957860</td>\n",
              "      <td>0.886099</td>\n",
              "    </tr>\n",
              "    <tr>\n",
              "      <th>9003</th>\n",
              "      <td>0</td>\n",
              "      <td>-1.853992</td>\n",
              "      <td>-0.456099</td>\n",
              "    </tr>\n",
              "    <tr>\n",
              "      <th>11719</th>\n",
              "      <td>0</td>\n",
              "      <td>0.638860</td>\n",
              "      <td>1.130506</td>\n",
              "    </tr>\n",
              "    <tr>\n",
              "      <th>10658</th>\n",
              "      <td>0</td>\n",
              "      <td>-0.503697</td>\n",
              "      <td>0.519896</td>\n",
              "    </tr>\n",
              "    <tr>\n",
              "      <th>3627</th>\n",
              "      <td>0</td>\n",
              "      <td>0.742729</td>\n",
              "      <td>-0.211691</td>\n",
              "    </tr>\n",
              "    <tr>\n",
              "      <th>2402</th>\n",
              "      <td>0</td>\n",
              "      <td>-0.295959</td>\n",
              "      <td>-1.553889</td>\n",
              "    </tr>\n",
              "    <tr>\n",
              "      <th>2502</th>\n",
              "      <td>0</td>\n",
              "      <td>-0.192091</td>\n",
              "      <td>-0.821484</td>\n",
              "    </tr>\n",
              "    <tr>\n",
              "      <th>5082</th>\n",
              "      <td>0</td>\n",
              "      <td>1.365942</td>\n",
              "      <td>1.130506</td>\n",
              "    </tr>\n",
              "    <tr>\n",
              "      <th>2664</th>\n",
              "      <td>0</td>\n",
              "      <td>0.534991</td>\n",
              "      <td>0.886099</td>\n",
              "    </tr>\n",
              "    <tr>\n",
              "      <th>7662</th>\n",
              "      <td>0</td>\n",
              "      <td>-0.088222</td>\n",
              "      <td>-0.821484</td>\n",
              "    </tr>\n",
              "    <tr>\n",
              "      <th>6605</th>\n",
              "      <td>0</td>\n",
              "      <td>0.327253</td>\n",
              "      <td>-1.553889</td>\n",
              "    </tr>\n",
              "    <tr>\n",
              "      <th>5479</th>\n",
              "      <td>0</td>\n",
              "      <td>0.846597</td>\n",
              "      <td>0.886099</td>\n",
              "    </tr>\n",
              "    <tr>\n",
              "      <th>4103</th>\n",
              "      <td>0</td>\n",
              "      <td>1.054335</td>\n",
              "      <td>-0.456099</td>\n",
              "    </tr>\n",
              "    <tr>\n",
              "      <th>3540</th>\n",
              "      <td>0</td>\n",
              "      <td>1.365942</td>\n",
              "      <td>0.519896</td>\n",
              "    </tr>\n",
              "    <tr>\n",
              "      <th>7241</th>\n",
              "      <td>0</td>\n",
              "      <td>-0.815304</td>\n",
              "      <td>-0.821484</td>\n",
              "    </tr>\n",
              "    <tr>\n",
              "      <th>1241</th>\n",
              "      <td>0</td>\n",
              "      <td>-0.815304</td>\n",
              "      <td>1.374096</td>\n",
              "    </tr>\n",
              "    <tr>\n",
              "      <th>8776</th>\n",
              "      <td>0</td>\n",
              "      <td>-0.711435</td>\n",
              "      <td>0.519896</td>\n",
              "    </tr>\n",
              "  </tbody>\n",
              "</table>\n",
              "<p>200 rows × 3 columns</p>\n",
              "</div>"
            ],
            "text/plain": [
              "       overload      temp  windspeed\n",
              "10240         1  0.327253   2.228296\n",
              "16368         1 -0.503697   0.519896\n",
              "11955         1  0.119516  -0.456099\n",
              "13572         1  1.573679   1.130506\n",
              "16382         1 -0.815304  -0.456099\n",
              "16056         1 -0.919172   0.276306\n",
              "15179         1  0.638860   0.519896\n",
              "5564          1  1.262073   0.886099\n",
              "11916         1  1.158204   0.031899\n",
              "14868         1  0.846597  -1.553889\n",
              "13525         1  1.262073  -0.211691\n",
              "15344         1  0.742729   2.716293\n",
              "16392         1 -0.503697  -0.821484\n",
              "14700         1  1.054335   0.519896\n",
              "15961         1 -0.607566   1.130506\n",
              "14026         1  1.365942  -0.456099\n",
              "13909         1  1.365942  -0.211691\n",
              "6219          1  0.846597  -0.211691\n",
              "5443          1  1.365942   2.716293\n",
              "16630         1 -0.711435   0.031899\n",
              "6172          1  0.327253  -0.456099\n",
              "17053         1 -0.607566  -1.553889\n",
              "10766         1  0.119516   1.618504\n",
              "15459         1 -0.607566   1.618504\n",
              "7514          1  0.638860   0.519896\n",
              "14002         1  1.573679   0.764304\n",
              "5515          1  1.262073   1.130506\n",
              "8915          1 -0.919172   0.031899\n",
              "9250          1 -1.126910  -0.821484\n",
              "12468         1  1.365942   0.031899\n",
              "...         ...       ...        ...\n",
              "5827          0  0.846597  -0.456099\n",
              "7322          0 -0.295959  -0.211691\n",
              "14129         0  1.158204  -0.211691\n",
              "10369         0 -0.192091   0.031899\n",
              "9462          0 -1.334648  -0.821484\n",
              "6206          0  0.223385  -0.456099\n",
              "13168         0  1.989154   0.031899\n",
              "4837          0  1.781417   0.031899\n",
              "12626         0  0.327253  -0.211691\n",
              "3552          0  1.262073  -0.456099\n",
              "17044         0 -0.399828   0.276306\n",
              "4249          0  0.846597  -1.553889\n",
              "11023         0  0.119516   1.862094\n",
              "909           0 -1.957860   0.886099\n",
              "9003          0 -1.853992  -0.456099\n",
              "11719         0  0.638860   1.130506\n",
              "10658         0 -0.503697   0.519896\n",
              "3627          0  0.742729  -0.211691\n",
              "2402          0 -0.295959  -1.553889\n",
              "2502          0 -0.192091  -0.821484\n",
              "5082          0  1.365942   1.130506\n",
              "2664          0  0.534991   0.886099\n",
              "7662          0 -0.088222  -0.821484\n",
              "6605          0  0.327253  -1.553889\n",
              "5479          0  0.846597   0.886099\n",
              "4103          0  1.054335  -0.456099\n",
              "3540          0  1.365942   0.519896\n",
              "7241          0 -0.815304  -0.821484\n",
              "1241          0 -0.815304   1.374096\n",
              "8776          0 -0.711435   0.519896\n",
              "\n",
              "[200 rows x 3 columns]"
            ]
          },
          "execution_count": 176,
          "metadata": {},
          "output_type": "execute_result"
        }
      ],
      "source": [
        "df_vis = pd.concat([df1,df0]) \n",
        "df_vis"
      ]
    },
    {
      "cell_type": "code",
      "execution_count": null,
      "metadata": {
        "id": "Ef1eb6ouZfd0"
      },
      "outputs": [],
      "source": [
        "X= df_vis[['temp', 'windspeed']]\n",
        "y= df_vis[['overload']]\n",
        "\n",
        "X_train, X_test, y_train, y_test = train_test_split(X, y, test_size = 0.2, random_state = 101)\n",
        "X_train = scale.fit_transform(X_train)\n",
        "X_test = scale.transform(X_test) "
      ]
    },
    {
      "cell_type": "code",
      "execution_count": null,
      "metadata": {
        "id": "dUESSMlVZfd0"
      },
      "outputs": [],
      "source": [
        "# Feature Scaling\n",
        "from sklearn.preprocessing import StandardScaler\n",
        "sc = StandardScaler()\n",
        "X_train = sc.fit_transform(X_train)\n",
        "X_test = sc.transform(X_test) "
      ]
    },
    {
      "cell_type": "markdown",
      "metadata": {
        "id": "dzgUgyEtZfd0"
      },
      "source": [
        "## Fitting SVM classifier to the Training set"
      ]
    },
    {
      "cell_type": "code",
      "execution_count": null,
      "metadata": {
        "id": "SxaGFc_GZfd0",
        "outputId": "e8f8d298-91f3-4c85-cedd-8eb92d98d428"
      },
      "outputs": [
        {
          "data": {
            "text/plain": [
              "SVC(C=1)"
            ]
          },
          "execution_count": 237,
          "metadata": {},
          "output_type": "execute_result"
        }
      ],
      "source": [
        "SVM_classifier = SVC(C=1, kernel='rbf')\n",
        "SVM_classifier.fit(X_train, y_train.values.reshape(-1,))"
      ]
    },
    {
      "cell_type": "code",
      "execution_count": null,
      "metadata": {
        "id": "1QvKCJz9Zfd1"
      },
      "outputs": [],
      "source": [
        "# Predicting the Test set results\n",
        "y_pred = SVM_classifier.predict(X_test)"
      ]
    },
    {
      "cell_type": "code",
      "execution_count": null,
      "metadata": {
        "id": "GMxtZPrZZfd1",
        "outputId": "83d696f7-df1c-4f48-d8ba-96ab7365559b"
      },
      "outputs": [
        {
          "name": "stderr",
          "output_type": "stream",
          "text": [
            "'c' argument looks like a single numeric RGB or RGBA sequence, which should be avoided as value-mapping will have precedence in case its length matches with 'x' & 'y'.  Please use a 2-D array with a single row if you really want to specify the same RGB or RGBA value for all points.\n",
            "'c' argument looks like a single numeric RGB or RGBA sequence, which should be avoided as value-mapping will have precedence in case its length matches with 'x' & 'y'.  Please use a 2-D array with a single row if you really want to specify the same RGB or RGBA value for all points.\n"
          ]
        },
        {
          "data": {
            "image/png": "[encoded data removed]",
            "text/plain": [
              "<Figure size 864x576 with 1 Axes>"
            ]
          },
          "metadata": {},
          "output_type": "display_data"
        }
      ],
      "source": [
        "# visualization\n",
        "plt.figure(figsize=(12,8))\n",
        "\n",
        "X_set, y_set = X_train, y_train.iloc[:,0].values\n",
        "X1, X2 = np.meshgrid(np.arange(start = X_set[:, 0].min() - 1, stop = X_set[:, 0].max() + 1, step = 0.01),\n",
        "                     np.arange(start = X_set[:, 1].min() - 1, stop = X_set[:, 1].max() + 1, step = 0.01))\n",
        "\n",
        "\n",
        "from matplotlib.colors import ListedColormap\n",
        "plt.contourf( X1, X2 , SVM_classifier.predict(np.array([X1.ravel(), X2.ravel()]).T).reshape(X1.shape),\n",
        "             alpha = 0.75, cmap = ListedColormap(('#FF6347', '#90EE90')))\n",
        "\n",
        "plt.xlim(X1.min(), X1.max())\n",
        "plt.ylim(X2.min(), X2.max())\n",
        "\n",
        "for i, j in enumerate(np.unique(y_set)):\n",
        "    plt.scatter(X_set[y_set == j, 0], X_set[y_set == j, 1],\n",
        "                c = ListedColormap(('red', 'green'))(i), label = j)\n",
        "plt.title('SVM classification (Training set)')\n",
        "plt.xlabel('temperature')\n",
        "plt.ylabel('windspeed')\n",
        "plt.legend()\n",
        "plt.show()"
      ]
    },
    {
      "cell_type": "markdown",
      "metadata": {
        "id": "ErS4Um4JZfd1"
      },
      "source": [
        "### Visualising the Test set results"
      ]
    },
    {
      "cell_type": "code",
      "execution_count": null,
      "metadata": {
        "id": "KajQKMC2Zfd1",
        "outputId": "3662c4ec-fb2d-43a7-b654-24c3be8b8d76"
      },
      "outputs": [
        {
          "name": "stderr",
          "output_type": "stream",
          "text": [
            "'c' argument looks like a single numeric RGB or RGBA sequence, which should be avoided as value-mapping will have precedence in case its length matches with 'x' & 'y'.  Please use a 2-D array with a single row if you really want to specify the same RGB or RGBA value for all points.\n",
            "'c' argument looks like a single numeric RGB or RGBA sequence, which should be avoided as value-mapping will have precedence in case its length matches with 'x' & 'y'.  Please use a 2-D array with a single row if you really want to specify the same RGB or RGBA value for all points.\n"
          ]
        },
        {
          "data": {
            "image/png": "[encoded data removed]",
            "text/plain": [
              "<Figure size 864x576 with 1 Axes>"
            ]
          },
          "metadata": {},
          "output_type": "display_data"
        }
      ],
      "source": [
        "plt.figure(figsize=(12,8))\n",
        "\n",
        "from matplotlib.colors import ListedColormap\n",
        "X_set, y_set = X_test, y_test.iloc[:,0].values\n",
        "X1, X2 = np.meshgrid(np.arange(start = X_set[:, 0].min() - 1, stop = X_set[:, 0].max() + 1, step = 0.01),\n",
        "                     np.arange(start = X_set[:, 1].min() - 1, stop = X_set[:, 1].max() + 1, step = 0.01))\n",
        "plt.contourf(X1, X2, SVM_classifier.predict(np.array([X1.ravel(), X2.ravel()]).T).reshape(X1.shape),\n",
        "             alpha = 0.75, cmap = ListedColormap(('#FF6347', '#90EE90')))\n",
        "plt.xlim(X1.min(), X1.max())\n",
        "plt.ylim(X2.min(), X2.max())\n",
        "for i, j in enumerate(np.unique(y_set)):\n",
        "    plt.scatter(X_set[y_set == j, 0], X_set[y_set == j, 1],\n",
        "                c = ListedColormap(('red', 'green'))(i), label = j)\n",
        "plt.title('SVM Classification (Test set)')\n",
        "plt.xlabel('Temperature')\n",
        "plt.ylabel('Windspeed')\n",
        "plt.legend()\n",
        "plt.show()"
      ]
    },
    {
      "cell_type": "code",
      "execution_count": null,
      "metadata": {
        "id": "igELGDL_Zfd2",
        "outputId": "b1c06c6a-1f9f-4589-a2a2-5e043755f966"
      },
      "outputs": [
        {
          "name": "stdout",
          "output_type": "stream",
          "text": [
            "[[12  8]\n",
            " [10 10]]\n"
          ]
        }
      ],
      "source": [
        "print(confusion_matrix(y_test, y_pred))"
      ]
    },
    {
      "cell_type": "markdown",
      "metadata": {
        "id": "saSrK46PZfd2"
      },
      "source": [
        "**FUN exercise**: now try the following combinations:\n",
        "1. kernel = 'linear' , 'poly'\n",
        "2. kernel= 'rbf', C=1, C=0.0001 and C=100000 \n",
        "3. Kernel= 'rbt' , C=1, gamma= 0.01, gamma = 10 \n",
        "\n"
      ]
    },
    {
      "cell_type": "markdown",
      "metadata": {
        "id": "m7uUIqjnZfd2"
      },
      "source": [
        "---"
      ]
    },
    {
      "cell_type": "markdown",
      "metadata": {
        "id": "jtpaaaz_Zfd2"
      },
      "source": [
        "#### Additional links\n",
        "\n",
        "1. SKlearn documentation : https://scikit-learn.org/stable/modules/svm.html\n",
        "2. Convex Optimization : https://www.amazon.com/dp/0521833787/?coliid=I1FTQ8R03FUUQK&colid=VIHSBPX6N52B&psc=1&ref_=lv_ov_lig_dp_it\n",
        "3. Performance measures (1): https://en.wikipedia.org/wiki/Confusion_matrix\n",
        "4. ROC curve: https://scikit-learn.org/stable/auto_examples/model_selection/plot_roc.html\n",
        "5. Multiple class SVM in Python: https://towardsdatascience.com/multiclass-classification-with-support-vector-machines-svm-kernel-trick-kernel-functions-f9d5377d6f02\n",
        "6. GridsearchCV documentation: https://scikit-learn.org/stable/modules/generated/sklearn.model_selection.GridSearchCV.html\n",
        "7. Decision boundary visualization in Python: https://github.com/MichalOleszak/KnowledgeBank/blob/master/blog_posts/svm_kernels/svm_kernels.ipynb"
      ]
    }
  ],
  "metadata": {
    "kernelspec": {
      "display_name": "Python 3",
      "language": "python",
      "name": "python3"
    },
    "language_info": {
      "codemirror_mode": {
        "name": "ipython",
        "version": 3
      },
      "file_extension": ".py",
      "mimetype": "text/x-python",
      "name": "python",
      "nbconvert_exporter": "python",
      "pygments_lexer": "ipython3",
      "version": "3.7.3"
    },
    "colab": {
      "name": "SVM classification (Python).ipynb",
      "provenance": [],
      "include_colab_link": true
    }
  },
  "nbformat": 4,
  "nbformat_minor": 0
}