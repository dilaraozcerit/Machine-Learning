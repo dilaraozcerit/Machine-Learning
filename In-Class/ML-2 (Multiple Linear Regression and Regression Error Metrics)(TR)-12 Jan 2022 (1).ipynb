{
 "cells": [
  {
   "cell_type": "code",
   "execution_count": null,
   "id": "eea516b3-5188-46aa-8a74-5c4288482711",
   "metadata": {},
   "outputs": [],
   "source": [
    "#residual belli bir pattern izlememeli, ve genel lineara uygun olması gerekir. Bunlardan birini sağlamıyorsa bizim \n",
    "#sistemimiz linear regressiona uygun değildir. "
   ]
  },
  {
   "cell_type": "markdown",
   "id": "354737bb-9d3d-4918-8194-b1636fc419e1",
   "metadata": {},
   "source": [
    "Metrics;\n",
    "\n",
    "Mean Absolute Error (MAE): average absolute value of residuals \n",
    "    Bunda çıkıntı bir değer varsa eğer, karesi alındığı için, hatayı cezalandırmış oluyoruz. \n",
    "    \n",
    "MSE : Square of MAE\n",
    "\n",
    "Root Mean Squared Error (RMSE): burada birim karmaşasını elemek için kullanıyoruz. \n",
    "    yukarıdakinin birimi km2 oluyorken asıl şey km idi. Aradaki farkı elemek için bunu kullanıyorum.\n",
    "    Hatanın standart sapmasıdır. Bunu yorumlaması daha kolay. \n",
    "    Bu daha yaygın kullanılır.\n",
    "    \n",
    "Bu metrikler bize hangi residualin iyi hangisinin kötü olduğunu gösterir. "
   ]
  },
  {
   "cell_type": "markdown",
   "id": "46f12476-da18-4eb8-84ab-158afbca280a",
   "metadata": {},
   "source": [
    "ML with Python\n",
    "\n",
    "X olarak yazıoyruz featureu."
   ]
  },
  {
   "cell_type": "markdown",
   "id": "roman-genesis",
   "metadata": {},
   "source": [
    "## Multiple Linear Regression and Regression Error Metrics"
   ]
  },
  {
   "cell_type": "code",
   "execution_count": null,
   "id": "6c8f4528-3500-4b78-b390-bc88ac3473d9",
   "metadata": {},
   "outputs": [],
   "source": []
  },
  {
   "cell_type": "markdown",
   "id": "complex-president",
   "metadata": {},
   "source": [
    "## Import library"
   ]
  },
  {
   "cell_type": "code",
   "execution_count": 1,
   "id": "portable-subscriber",
   "metadata": {},
   "outputs": [],
   "source": [
    "import numpy as np\n",
    "import pandas as pd\n",
    "import matplotlib.pyplot as plt\n",
    "import seaborn as sns\n",
    "import scipy.stats as stats\n",
    "plt.rcParams[\"figure.figsize\"] = (10,6)\n",
    "import warnings\n",
    "warnings.filterwarnings('ignore')"
   ]
  },
  {
   "cell_type": "markdown",
   "id": "incorporate-denver",
   "metadata": {},
   "source": [
    "## Read Dataset"
   ]
  },
  {
   "cell_type": "code",
   "execution_count": 2,
   "id": "powerful-belfast",
   "metadata": {},
   "outputs": [
    {
     "data": {
      "text/html": [
       "<div>\n",
       "<style scoped>\n",
       "    .dataframe tbody tr th:only-of-type {\n",
       "        vertical-align: middle;\n",
       "    }\n",
       "\n",
       "    .dataframe tbody tr th {\n",
       "        vertical-align: top;\n",
       "    }\n",
       "\n",
       "    .dataframe thead th {\n",
       "        text-align: right;\n",
       "    }\n",
       "</style>\n",
       "<table border=\"1\" class=\"dataframe\">\n",
       "  <thead>\n",
       "    <tr style=\"text-align: right;\">\n",
       "      <th></th>\n",
       "      <th>TV</th>\n",
       "      <th>radio</th>\n",
       "      <th>newspaper</th>\n",
       "      <th>sales</th>\n",
       "    </tr>\n",
       "  </thead>\n",
       "  <tbody>\n",
       "    <tr>\n",
       "      <th>0</th>\n",
       "      <td>230.1</td>\n",
       "      <td>37.8</td>\n",
       "      <td>69.2</td>\n",
       "      <td>22.1</td>\n",
       "    </tr>\n",
       "    <tr>\n",
       "      <th>1</th>\n",
       "      <td>44.5</td>\n",
       "      <td>39.3</td>\n",
       "      <td>45.1</td>\n",
       "      <td>10.4</td>\n",
       "    </tr>\n",
       "    <tr>\n",
       "      <th>2</th>\n",
       "      <td>17.2</td>\n",
       "      <td>45.9</td>\n",
       "      <td>69.3</td>\n",
       "      <td>9.3</td>\n",
       "    </tr>\n",
       "    <tr>\n",
       "      <th>3</th>\n",
       "      <td>151.5</td>\n",
       "      <td>41.3</td>\n",
       "      <td>58.5</td>\n",
       "      <td>18.5</td>\n",
       "    </tr>\n",
       "    <tr>\n",
       "      <th>4</th>\n",
       "      <td>180.8</td>\n",
       "      <td>10.8</td>\n",
       "      <td>58.4</td>\n",
       "      <td>12.9</td>\n",
       "    </tr>\n",
       "    <tr>\n",
       "      <th>...</th>\n",
       "      <td>...</td>\n",
       "      <td>...</td>\n",
       "      <td>...</td>\n",
       "      <td>...</td>\n",
       "    </tr>\n",
       "    <tr>\n",
       "      <th>195</th>\n",
       "      <td>38.2</td>\n",
       "      <td>3.7</td>\n",
       "      <td>13.8</td>\n",
       "      <td>7.6</td>\n",
       "    </tr>\n",
       "    <tr>\n",
       "      <th>196</th>\n",
       "      <td>94.2</td>\n",
       "      <td>4.9</td>\n",
       "      <td>8.1</td>\n",
       "      <td>9.7</td>\n",
       "    </tr>\n",
       "    <tr>\n",
       "      <th>197</th>\n",
       "      <td>177.0</td>\n",
       "      <td>9.3</td>\n",
       "      <td>6.4</td>\n",
       "      <td>12.8</td>\n",
       "    </tr>\n",
       "    <tr>\n",
       "      <th>198</th>\n",
       "      <td>283.6</td>\n",
       "      <td>42.0</td>\n",
       "      <td>66.2</td>\n",
       "      <td>25.5</td>\n",
       "    </tr>\n",
       "    <tr>\n",
       "      <th>199</th>\n",
       "      <td>232.1</td>\n",
       "      <td>8.6</td>\n",
       "      <td>8.7</td>\n",
       "      <td>13.4</td>\n",
       "    </tr>\n",
       "  </tbody>\n",
       "</table>\n",
       "<p>200 rows × 4 columns</p>\n",
       "</div>"
      ],
      "text/plain": [
       "        TV  radio  newspaper  sales\n",
       "0    230.1   37.8       69.2   22.1\n",
       "1     44.5   39.3       45.1   10.4\n",
       "2     17.2   45.9       69.3    9.3\n",
       "3    151.5   41.3       58.5   18.5\n",
       "4    180.8   10.8       58.4   12.9\n",
       "..     ...    ...        ...    ...\n",
       "195   38.2    3.7       13.8    7.6\n",
       "196   94.2    4.9        8.1    9.7\n",
       "197  177.0    9.3        6.4   12.8\n",
       "198  283.6   42.0       66.2   25.5\n",
       "199  232.1    8.6        8.7   13.4\n",
       "\n",
       "[200 rows x 4 columns]"
      ]
     },
     "execution_count": 2,
     "metadata": {},
     "output_type": "execute_result"
    }
   ],
   "source": [
    "df = pd.read_csv(\"Advertising.csv\")\n",
    "df"
   ]
  },
  {
   "cell_type": "markdown",
   "id": "focal-employee",
   "metadata": {},
   "source": [
    "## Data Preparation"
   ]
  },
  {
   "cell_type": "code",
   "execution_count": 3,
   "id": "interpreted-zealand",
   "metadata": {},
   "outputs": [
    {
     "data": {
      "text/plain": [
       "(200, 4)"
      ]
     },
     "execution_count": 3,
     "metadata": {},
     "output_type": "execute_result"
    }
   ],
   "source": [
    "df.shape"
   ]
  },
  {
   "cell_type": "code",
   "execution_count": 4,
   "id": "coated-bowling",
   "metadata": {},
   "outputs": [
    {
     "name": "stdout",
     "output_type": "stream",
     "text": [
      "<class 'pandas.core.frame.DataFrame'>\n",
      "RangeIndex: 200 entries, 0 to 199\n",
      "Data columns (total 4 columns):\n",
      " #   Column     Non-Null Count  Dtype  \n",
      "---  ------     --------------  -----  \n",
      " 0   TV         200 non-null    float64\n",
      " 1   radio      200 non-null    float64\n",
      " 2   newspaper  200 non-null    float64\n",
      " 3   sales      200 non-null    float64\n",
      "dtypes: float64(4)\n",
      "memory usage: 6.4 KB\n"
     ]
    }
   ],
   "source": [
    "df.info()"
   ]
  },
  {
   "cell_type": "code",
   "execution_count": 5,
   "id": "killing-rochester",
   "metadata": {},
   "outputs": [
    {
     "data": {
      "text/html": [
       "<div>\n",
       "<style scoped>\n",
       "    .dataframe tbody tr th:only-of-type {\n",
       "        vertical-align: middle;\n",
       "    }\n",
       "\n",
       "    .dataframe tbody tr th {\n",
       "        vertical-align: top;\n",
       "    }\n",
       "\n",
       "    .dataframe thead th {\n",
       "        text-align: right;\n",
       "    }\n",
       "</style>\n",
       "<table border=\"1\" class=\"dataframe\">\n",
       "  <thead>\n",
       "    <tr style=\"text-align: right;\">\n",
       "      <th></th>\n",
       "      <th>TV</th>\n",
       "      <th>radio</th>\n",
       "      <th>newspaper</th>\n",
       "      <th>sales</th>\n",
       "    </tr>\n",
       "  </thead>\n",
       "  <tbody>\n",
       "    <tr>\n",
       "      <th>count</th>\n",
       "      <td>200.000000</td>\n",
       "      <td>200.000000</td>\n",
       "      <td>200.000000</td>\n",
       "      <td>200.000000</td>\n",
       "    </tr>\n",
       "    <tr>\n",
       "      <th>mean</th>\n",
       "      <td>147.042500</td>\n",
       "      <td>23.264000</td>\n",
       "      <td>30.554000</td>\n",
       "      <td>14.022500</td>\n",
       "    </tr>\n",
       "    <tr>\n",
       "      <th>std</th>\n",
       "      <td>85.854236</td>\n",
       "      <td>14.846809</td>\n",
       "      <td>21.778621</td>\n",
       "      <td>5.217457</td>\n",
       "    </tr>\n",
       "    <tr>\n",
       "      <th>min</th>\n",
       "      <td>0.700000</td>\n",
       "      <td>0.000000</td>\n",
       "      <td>0.300000</td>\n",
       "      <td>1.600000</td>\n",
       "    </tr>\n",
       "    <tr>\n",
       "      <th>25%</th>\n",
       "      <td>74.375000</td>\n",
       "      <td>9.975000</td>\n",
       "      <td>12.750000</td>\n",
       "      <td>10.375000</td>\n",
       "    </tr>\n",
       "    <tr>\n",
       "      <th>50%</th>\n",
       "      <td>149.750000</td>\n",
       "      <td>22.900000</td>\n",
       "      <td>25.750000</td>\n",
       "      <td>12.900000</td>\n",
       "    </tr>\n",
       "    <tr>\n",
       "      <th>75%</th>\n",
       "      <td>218.825000</td>\n",
       "      <td>36.525000</td>\n",
       "      <td>45.100000</td>\n",
       "      <td>17.400000</td>\n",
       "    </tr>\n",
       "    <tr>\n",
       "      <th>max</th>\n",
       "      <td>296.400000</td>\n",
       "      <td>49.600000</td>\n",
       "      <td>114.000000</td>\n",
       "      <td>27.000000</td>\n",
       "    </tr>\n",
       "  </tbody>\n",
       "</table>\n",
       "</div>"
      ],
      "text/plain": [
       "               TV       radio   newspaper       sales\n",
       "count  200.000000  200.000000  200.000000  200.000000\n",
       "mean   147.042500   23.264000   30.554000   14.022500\n",
       "std     85.854236   14.846809   21.778621    5.217457\n",
       "min      0.700000    0.000000    0.300000    1.600000\n",
       "25%     74.375000    9.975000   12.750000   10.375000\n",
       "50%    149.750000   22.900000   25.750000   12.900000\n",
       "75%    218.825000   36.525000   45.100000   17.400000\n",
       "max    296.400000   49.600000  114.000000   27.000000"
      ]
     },
     "execution_count": 5,
     "metadata": {},
     "output_type": "execute_result"
    }
   ],
   "source": [
    "df.describe()\n",
    "\n",
    "#min ve 25% arasında, max ve %75 arasında fazla uçurum olmaması lazım"
   ]
  },
  {
   "cell_type": "code",
   "execution_count": 6,
   "id": "4b75f0c4",
   "metadata": {},
   "outputs": [
    {
     "name": "stdout",
     "output_type": "stream",
     "text": [
      "111.25\n",
      "7.39509972887452\n"
     ]
    }
   ],
   "source": [
    "print(np.mean([100, 110, 120, 115]))\n",
    "print(np.std([100, 110, 120, 115]))\n",
    "\n"
   ]
  },
  {
   "cell_type": "code",
   "execution_count": 7,
   "id": "a69afdfd",
   "metadata": {},
   "outputs": [
    {
     "name": "stdout",
     "output_type": "stream",
     "text": [
      "257.5\n",
      "255.57533136044253\n"
     ]
    }
   ],
   "source": [
    "print(np.mean([100, 110, 120, 700]))\n",
    "print(np.std([100, 110, 120, 700]))\n",
    "\n",
    "#burada verilen sayılar arasında uçurum var. BU da mean ve std a yansıyor."
   ]
  },
  {
   "cell_type": "code",
   "execution_count": 8,
   "id": "e17f38d3",
   "metadata": {},
   "outputs": [
    {
     "name": "stdout",
     "output_type": "stream",
     "text": [
      "307.5\n",
      "342.153109002388\n"
     ]
    }
   ],
   "source": [
    "print(np.mean([100, 110, 120, 900]))\n",
    "print(np.std([100, 110, 120, 900]))\n",
    "\n",
    "#std is larger than mean : problematic (outlier değerler vardır)\n",
    "\n",
    "#1. ve 3. çeyrek arasında uçurum değerler varsa buraya dikkat etmek lazım.\n"
   ]
  },
  {
   "cell_type": "markdown",
   "id": "d0720c89",
   "metadata": {},
   "source": [
    "## Distribution of features"
   ]
  },
  {
   "cell_type": "code",
   "execution_count": 9,
   "id": "secure-interest",
   "metadata": {},
   "outputs": [
    {
     "data": {
      "image/png": "[encoded data removed]",
      "text/plain": [
       "<Figure size 720x720 with 20 Axes>"
      ]
     },
     "metadata": {
      "needs_background": "light"
     },
     "output_type": "display_data"
    }
   ],
   "source": [
    "sns.pairplot(df);\n",
    "\n",
    "#feature ve target arasındaki ilişkiye bakıyorum\n",
    "\n",
    "#buradaki barplotlar ne anlatıyor?: Veri yoğunluğuna bakıyor. Ama çok önemli değil."
   ]
  },
  {
   "cell_type": "code",
   "execution_count": 10,
   "id": "expressed-paraguay",
   "metadata": {},
   "outputs": [
    {
     "data": {
      "text/html": [
       "<div>\n",
       "<style scoped>\n",
       "    .dataframe tbody tr th:only-of-type {\n",
       "        vertical-align: middle;\n",
       "    }\n",
       "\n",
       "    .dataframe tbody tr th {\n",
       "        vertical-align: top;\n",
       "    }\n",
       "\n",
       "    .dataframe thead th {\n",
       "        text-align: right;\n",
       "    }\n",
       "</style>\n",
       "<table border=\"1\" class=\"dataframe\">\n",
       "  <thead>\n",
       "    <tr style=\"text-align: right;\">\n",
       "      <th></th>\n",
       "      <th>TV</th>\n",
       "      <th>radio</th>\n",
       "      <th>newspaper</th>\n",
       "      <th>sales</th>\n",
       "    </tr>\n",
       "  </thead>\n",
       "  <tbody>\n",
       "    <tr>\n",
       "      <th>TV</th>\n",
       "      <td>1.000000</td>\n",
       "      <td>0.054809</td>\n",
       "      <td>0.056648</td>\n",
       "      <td>0.782224</td>\n",
       "    </tr>\n",
       "    <tr>\n",
       "      <th>radio</th>\n",
       "      <td>0.054809</td>\n",
       "      <td>1.000000</td>\n",
       "      <td>0.354104</td>\n",
       "      <td>0.576223</td>\n",
       "    </tr>\n",
       "    <tr>\n",
       "      <th>newspaper</th>\n",
       "      <td>0.056648</td>\n",
       "      <td>0.354104</td>\n",
       "      <td>1.000000</td>\n",
       "      <td>0.228299</td>\n",
       "    </tr>\n",
       "    <tr>\n",
       "      <th>sales</th>\n",
       "      <td>0.782224</td>\n",
       "      <td>0.576223</td>\n",
       "      <td>0.228299</td>\n",
       "      <td>1.000000</td>\n",
       "    </tr>\n",
       "  </tbody>\n",
       "</table>\n",
       "</div>"
      ],
      "text/plain": [
       "                 TV     radio  newspaper     sales\n",
       "TV         1.000000  0.054809   0.056648  0.782224\n",
       "radio      0.054809  1.000000   0.354104  0.576223\n",
       "newspaper  0.056648  0.354104   1.000000  0.228299\n",
       "sales      0.782224  0.576223   0.228299  1.000000"
      ]
     },
     "execution_count": 10,
     "metadata": {},
     "output_type": "execute_result"
    }
   ],
   "source": [
    "df.corr()\n",
    "\n",
    "#target ve feature arasındaki ilişkiye bakıyorduk.\n",
    "#ama burada tek feature yok. Artık Residual şeylerine bakıyorum\n"
   ]
  },
  {
   "cell_type": "code",
   "execution_count": 3,
   "id": "widespread-celebrity",
   "metadata": {},
   "outputs": [
    {
     "data": {
      "image/png": "[encoded data removed]",
      "text/plain": [
       "<Figure size 720x432 with 2 Axes>"
      ]
     },
     "metadata": {
      "needs_background": "light"
     },
     "output_type": "display_data"
    }
   ],
   "source": [
    "sns.heatmap(df.corr(), annot = True);"
   ]
  },
  {
   "cell_type": "code",
   "execution_count": null,
   "id": "freelance-parker",
   "metadata": {},
   "outputs": [],
   "source": []
  },
  {
   "cell_type": "markdown",
   "id": "revised-compiler",
   "metadata": {},
   "source": [
    "## Train-Test Split"
   ]
  },
  {
   "cell_type": "code",
   "execution_count": 10,
   "id": "fancy-designer",
   "metadata": {},
   "outputs": [
    {
     "name": "stdout",
     "output_type": "stream",
     "text": [
      "Requirement already satisfied: scikit-learn in c:\\users\\hp\\anaconda3\\lib\\site-packages (0.24.1)\n",
      "Requirement already satisfied: threadpoolctl>=2.0.0 in c:\\users\\hp\\anaconda3\\lib\\site-packages (from scikit-learn) (2.1.0)\n",
      "Requirement already satisfied: scipy>=0.19.1 in c:\\users\\hp\\anaconda3\\lib\\site-packages (from scikit-learn) (1.6.2)\n",
      "Requirement already satisfied: numpy>=1.13.3 in c:\\users\\hp\\anaconda3\\lib\\site-packages (from scikit-learn) (1.20.1)\n",
      "Requirement already satisfied: joblib>=0.11 in c:\\users\\hp\\anaconda3\\lib\\site-packages (from scikit-learn) (1.0.1)\n"
     ]
    }
   ],
   "source": [
    "!pip install scikit-learn"
   ]
  },
  {
   "cell_type": "code",
   "execution_count": 4,
   "id": "physical-shopping",
   "metadata": {},
   "outputs": [],
   "source": [
    "X = df.drop(columns =\"sales\") #df[[\"TV\", \"radio\", \"newspaper\"]]\n",
    "y = df[\"sales\"]"
   ]
  },
  {
   "cell_type": "code",
   "execution_count": 11,
   "id": "capable-chinese",
   "metadata": {},
   "outputs": [],
   "source": [
    "from sklearn.model_selection import train_test_split\n",
    "\n",
    "#bunları ezberlemeye gerek yok. Bunlar enarda dursun sürekli alacağız."
   ]
  },
  {
   "cell_type": "markdown",
   "id": "229c3322-0866-4955-b3fd-4e2842e0e986",
   "metadata": {},
   "source": [
    "Aslında biz bir datayı alaıp train ediyoruz. Sonrasında test ediyorum. Bulduğum bu yöntem hepsinde çalışıyor mu diye\n",
    "\n",
    "trainin iyi olması için olabildiğince train setine max gözlem verebilmek. Çünkü o kadar çok farklı durum incelemiş olacak. Öğrencinin çok soru çözmesi gibi. "
   ]
  },
  {
   "cell_type": "code",
   "execution_count": 17,
   "id": "controlled-education",
   "metadata": {},
   "outputs": [],
   "source": [
    "X_train, X_test, y_train, y_test = train_test_split(X, y, test_size = 0.3, random_state =42)\n",
    "\n",
    "#0.1, 0.2, 0.3 alabiliyoruz test_sizeı. Az data varsa az size alıyorum.\n",
    "#ne kadar az feature varsa, o kadar az tutacağım test_sizeı\n",
    "\n",
    "#eğer random state aynı olmazsa her seferinde farklı train ve test data alır ve sonuçlar farklı olur. bu yüzden kıyaslamak isityorsam aynı değerden yazmalıyım"
   ]
  },
  {
   "cell_type": "code",
   "execution_count": 19,
   "id": "corrected-battle",
   "metadata": {},
   "outputs": [
    {
     "data": {
      "text/html": [
       "<div>\n",
       "<style scoped>\n",
       "    .dataframe tbody tr th:only-of-type {\n",
       "        vertical-align: middle;\n",
       "    }\n",
       "\n",
       "    .dataframe tbody tr th {\n",
       "        vertical-align: top;\n",
       "    }\n",
       "\n",
       "    .dataframe thead th {\n",
       "        text-align: right;\n",
       "    }\n",
       "</style>\n",
       "<table border=\"1\" class=\"dataframe\">\n",
       "  <thead>\n",
       "    <tr style=\"text-align: right;\">\n",
       "      <th></th>\n",
       "      <th>TV</th>\n",
       "      <th>radio</th>\n",
       "      <th>newspaper</th>\n",
       "      <th>sales</th>\n",
       "    </tr>\n",
       "  </thead>\n",
       "  <tbody>\n",
       "    <tr>\n",
       "      <th>135</th>\n",
       "      <td>48.3</td>\n",
       "      <td>47.0</td>\n",
       "      <td>8.5</td>\n",
       "      <td>11.6</td>\n",
       "    </tr>\n",
       "    <tr>\n",
       "      <th>96</th>\n",
       "      <td>197.6</td>\n",
       "      <td>3.5</td>\n",
       "      <td>5.9</td>\n",
       "      <td>11.7</td>\n",
       "    </tr>\n",
       "    <tr>\n",
       "      <th>43</th>\n",
       "      <td>206.9</td>\n",
       "      <td>8.4</td>\n",
       "      <td>26.4</td>\n",
       "      <td>12.9</td>\n",
       "    </tr>\n",
       "    <tr>\n",
       "      <th>47</th>\n",
       "      <td>239.9</td>\n",
       "      <td>41.5</td>\n",
       "      <td>18.5</td>\n",
       "      <td>23.2</td>\n",
       "    </tr>\n",
       "    <tr>\n",
       "      <th>0</th>\n",
       "      <td>230.1</td>\n",
       "      <td>37.8</td>\n",
       "      <td>69.2</td>\n",
       "      <td>22.1</td>\n",
       "    </tr>\n",
       "    <tr>\n",
       "      <th>112</th>\n",
       "      <td>175.7</td>\n",
       "      <td>15.4</td>\n",
       "      <td>2.4</td>\n",
       "      <td>14.1</td>\n",
       "    </tr>\n",
       "    <tr>\n",
       "      <th>88</th>\n",
       "      <td>88.3</td>\n",
       "      <td>25.5</td>\n",
       "      <td>73.4</td>\n",
       "      <td>12.9</td>\n",
       "    </tr>\n",
       "    <tr>\n",
       "      <th>76</th>\n",
       "      <td>27.5</td>\n",
       "      <td>1.6</td>\n",
       "      <td>20.7</td>\n",
       "      <td>6.9</td>\n",
       "    </tr>\n",
       "    <tr>\n",
       "      <th>133</th>\n",
       "      <td>219.8</td>\n",
       "      <td>33.5</td>\n",
       "      <td>45.1</td>\n",
       "      <td>19.6</td>\n",
       "    </tr>\n",
       "    <tr>\n",
       "      <th>64</th>\n",
       "      <td>131.1</td>\n",
       "      <td>42.8</td>\n",
       "      <td>28.9</td>\n",
       "      <td>18.0</td>\n",
       "    </tr>\n",
       "    <tr>\n",
       "      <th>101</th>\n",
       "      <td>296.4</td>\n",
       "      <td>36.3</td>\n",
       "      <td>100.9</td>\n",
       "      <td>23.8</td>\n",
       "    </tr>\n",
       "    <tr>\n",
       "      <th>65</th>\n",
       "      <td>69.0</td>\n",
       "      <td>9.3</td>\n",
       "      <td>0.9</td>\n",
       "      <td>9.3</td>\n",
       "    </tr>\n",
       "    <tr>\n",
       "      <th>4</th>\n",
       "      <td>180.8</td>\n",
       "      <td>10.8</td>\n",
       "      <td>58.4</td>\n",
       "      <td>12.9</td>\n",
       "    </tr>\n",
       "    <tr>\n",
       "      <th>161</th>\n",
       "      <td>85.7</td>\n",
       "      <td>35.8</td>\n",
       "      <td>49.3</td>\n",
       "      <td>13.3</td>\n",
       "    </tr>\n",
       "    <tr>\n",
       "      <th>75</th>\n",
       "      <td>16.9</td>\n",
       "      <td>43.7</td>\n",
       "      <td>89.4</td>\n",
       "      <td>8.7</td>\n",
       "    </tr>\n",
       "  </tbody>\n",
       "</table>\n",
       "</div>"
      ],
      "text/plain": [
       "        TV  radio  newspaper  sales\n",
       "135   48.3   47.0        8.5   11.6\n",
       "96   197.6    3.5        5.9   11.7\n",
       "43   206.9    8.4       26.4   12.9\n",
       "47   239.9   41.5       18.5   23.2\n",
       "0    230.1   37.8       69.2   22.1\n",
       "112  175.7   15.4        2.4   14.1\n",
       "88    88.3   25.5       73.4   12.9\n",
       "76    27.5    1.6       20.7    6.9\n",
       "133  219.8   33.5       45.1   19.6\n",
       "64   131.1   42.8       28.9   18.0\n",
       "101  296.4   36.3      100.9   23.8\n",
       "65    69.0    9.3        0.9    9.3\n",
       "4    180.8   10.8       58.4   12.9\n",
       "161   85.7   35.8       49.3   13.3\n",
       "75    16.9   43.7       89.4    8.7"
      ]
     },
     "execution_count": 19,
     "metadata": {},
     "output_type": "execute_result"
    }
   ],
   "source": [
    "df.sample(15) \n",
    "\n",
    "#train data olarak belilediğime diyorum ki;\n",
    "#al bu inputu, outputa ulaşmaya çalış. Arka plandaki kuralı bul\n",
    "#tabi ne kadar çok test çözerse o kadar iyi olacak. \n",
    "#yani train test sayısı yeterli miktarda olmalı.\n",
    "\n",
    "#x-trainden aldığımız tahminler: y-pred"
   ]
  },
  {
   "cell_type": "code",
   "execution_count": null,
   "id": "89fa1557-1ae7-4a23-9633-a720ca9a107a",
   "metadata": {},
   "outputs": [],
   "source": [
    "#train aldıktan sonra, test datası alıyorum. BU daha önce vermediğim sorular. ilk kez görüp \n",
    "#çizebiliyor mu diye bakacağım."
   ]
  },
  {
   "cell_type": "code",
   "execution_count": null,
   "id": "b934dcfc-6487-452d-8ef1-a1971f9d08f5",
   "metadata": {},
   "outputs": [],
   "source": [
    "#daha sonra y-prediction değeri ile y-test değerlerine bakacağım\n",
    "\n",
    "#bunlara bakmak için r2 Mse rmse değerlerine bakıyorum"
   ]
  },
  {
   "cell_type": "code",
   "execution_count": 17,
   "id": "dressed-contamination",
   "metadata": {},
   "outputs": [
    {
     "name": "stdout",
     "output_type": "stream",
     "text": [
      "Train features shape :  (140, 3)\n",
      "Train target shape   :  (140,)\n",
      "Test features shape  :  (60, 3)\n",
      "Test target shape    :  (60,)\n"
     ]
    }
   ],
   "source": [
    "print(\"Train features shape : \", X_train.shape)\n",
    "print(\"Train target shape   : \", y_train.shape)\n",
    "print(\"Test features shape  : \", X_test.shape)\n",
    "print(\"Test target shape    : \", y_test.shape)\n",
    "\n",
    "#%30unu aldığımı görmek için yaptım"
   ]
  },
  {
   "cell_type": "code",
   "execution_count": 18,
   "id": "hungarian-confirmation",
   "metadata": {},
   "outputs": [
    {
     "data": {
      "text/html": [
       "<div>\n",
       "<style scoped>\n",
       "    .dataframe tbody tr th:only-of-type {\n",
       "        vertical-align: middle;\n",
       "    }\n",
       "\n",
       "    .dataframe tbody tr th {\n",
       "        vertical-align: top;\n",
       "    }\n",
       "\n",
       "    .dataframe thead th {\n",
       "        text-align: right;\n",
       "    }\n",
       "</style>\n",
       "<table border=\"1\" class=\"dataframe\">\n",
       "  <thead>\n",
       "    <tr style=\"text-align: right;\">\n",
       "      <th></th>\n",
       "      <th>TV</th>\n",
       "      <th>radio</th>\n",
       "      <th>newspaper</th>\n",
       "    </tr>\n",
       "  </thead>\n",
       "  <tbody>\n",
       "    <tr>\n",
       "      <th>169</th>\n",
       "      <td>284.3</td>\n",
       "      <td>10.6</td>\n",
       "      <td>6.4</td>\n",
       "    </tr>\n",
       "    <tr>\n",
       "      <th>97</th>\n",
       "      <td>184.9</td>\n",
       "      <td>21.0</td>\n",
       "      <td>22.0</td>\n",
       "    </tr>\n",
       "    <tr>\n",
       "      <th>31</th>\n",
       "      <td>112.9</td>\n",
       "      <td>17.4</td>\n",
       "      <td>38.6</td>\n",
       "    </tr>\n",
       "    <tr>\n",
       "      <th>12</th>\n",
       "      <td>23.8</td>\n",
       "      <td>35.1</td>\n",
       "      <td>65.9</td>\n",
       "    </tr>\n",
       "    <tr>\n",
       "      <th>35</th>\n",
       "      <td>290.7</td>\n",
       "      <td>4.1</td>\n",
       "      <td>8.5</td>\n",
       "    </tr>\n",
       "    <tr>\n",
       "      <th>...</th>\n",
       "      <td>...</td>\n",
       "      <td>...</td>\n",
       "      <td>...</td>\n",
       "    </tr>\n",
       "    <tr>\n",
       "      <th>106</th>\n",
       "      <td>25.0</td>\n",
       "      <td>11.0</td>\n",
       "      <td>29.7</td>\n",
       "    </tr>\n",
       "    <tr>\n",
       "      <th>14</th>\n",
       "      <td>204.1</td>\n",
       "      <td>32.9</td>\n",
       "      <td>46.0</td>\n",
       "    </tr>\n",
       "    <tr>\n",
       "      <th>92</th>\n",
       "      <td>217.7</td>\n",
       "      <td>33.5</td>\n",
       "      <td>59.0</td>\n",
       "    </tr>\n",
       "    <tr>\n",
       "      <th>179</th>\n",
       "      <td>165.6</td>\n",
       "      <td>10.0</td>\n",
       "      <td>17.6</td>\n",
       "    </tr>\n",
       "    <tr>\n",
       "      <th>102</th>\n",
       "      <td>280.2</td>\n",
       "      <td>10.1</td>\n",
       "      <td>21.4</td>\n",
       "    </tr>\n",
       "  </tbody>\n",
       "</table>\n",
       "<p>140 rows × 3 columns</p>\n",
       "</div>"
      ],
      "text/plain": [
       "        TV  radio  newspaper\n",
       "169  284.3   10.6        6.4\n",
       "97   184.9   21.0       22.0\n",
       "31   112.9   17.4       38.6\n",
       "12    23.8   35.1       65.9\n",
       "35   290.7    4.1        8.5\n",
       "..     ...    ...        ...\n",
       "106   25.0   11.0       29.7\n",
       "14   204.1   32.9       46.0\n",
       "92   217.7   33.5       59.0\n",
       "179  165.6   10.0       17.6\n",
       "102  280.2   10.1       21.4\n",
       "\n",
       "[140 rows x 3 columns]"
      ]
     },
     "execution_count": 18,
     "metadata": {},
     "output_type": "execute_result"
    }
   ],
   "source": [
    "X_train\n",
    "\n",
    "#default olarak karışık geliyor train"
   ]
  },
  {
   "cell_type": "code",
   "execution_count": 19,
   "id": "frozen-improvement",
   "metadata": {},
   "outputs": [
    {
     "data": {
      "text/html": [
       "<div>\n",
       "<style scoped>\n",
       "    .dataframe tbody tr th:only-of-type {\n",
       "        vertical-align: middle;\n",
       "    }\n",
       "\n",
       "    .dataframe tbody tr th {\n",
       "        vertical-align: top;\n",
       "    }\n",
       "\n",
       "    .dataframe thead th {\n",
       "        text-align: right;\n",
       "    }\n",
       "</style>\n",
       "<table border=\"1\" class=\"dataframe\">\n",
       "  <thead>\n",
       "    <tr style=\"text-align: right;\">\n",
       "      <th></th>\n",
       "      <th>TV</th>\n",
       "      <th>radio</th>\n",
       "      <th>newspaper</th>\n",
       "    </tr>\n",
       "  </thead>\n",
       "  <tbody>\n",
       "    <tr>\n",
       "      <th>95</th>\n",
       "      <td>163.3</td>\n",
       "      <td>31.6</td>\n",
       "      <td>52.9</td>\n",
       "    </tr>\n",
       "    <tr>\n",
       "      <th>15</th>\n",
       "      <td>195.4</td>\n",
       "      <td>47.7</td>\n",
       "      <td>52.9</td>\n",
       "    </tr>\n",
       "    <tr>\n",
       "      <th>30</th>\n",
       "      <td>292.9</td>\n",
       "      <td>28.3</td>\n",
       "      <td>43.2</td>\n",
       "    </tr>\n",
       "    <tr>\n",
       "      <th>158</th>\n",
       "      <td>11.7</td>\n",
       "      <td>36.9</td>\n",
       "      <td>45.2</td>\n",
       "    </tr>\n",
       "    <tr>\n",
       "      <th>128</th>\n",
       "      <td>220.3</td>\n",
       "      <td>49.0</td>\n",
       "      <td>3.2</td>\n",
       "    </tr>\n",
       "    <tr>\n",
       "      <th>115</th>\n",
       "      <td>75.1</td>\n",
       "      <td>35.0</td>\n",
       "      <td>52.7</td>\n",
       "    </tr>\n",
       "    <tr>\n",
       "      <th>69</th>\n",
       "      <td>216.8</td>\n",
       "      <td>43.9</td>\n",
       "      <td>27.2</td>\n",
       "    </tr>\n",
       "    <tr>\n",
       "      <th>170</th>\n",
       "      <td>50.0</td>\n",
       "      <td>11.6</td>\n",
       "      <td>18.4</td>\n",
       "    </tr>\n",
       "    <tr>\n",
       "      <th>174</th>\n",
       "      <td>222.4</td>\n",
       "      <td>3.4</td>\n",
       "      <td>13.1</td>\n",
       "    </tr>\n",
       "    <tr>\n",
       "      <th>45</th>\n",
       "      <td>175.1</td>\n",
       "      <td>22.5</td>\n",
       "      <td>31.5</td>\n",
       "    </tr>\n",
       "    <tr>\n",
       "      <th>66</th>\n",
       "      <td>31.5</td>\n",
       "      <td>24.6</td>\n",
       "      <td>2.2</td>\n",
       "    </tr>\n",
       "    <tr>\n",
       "      <th>182</th>\n",
       "      <td>56.2</td>\n",
       "      <td>5.7</td>\n",
       "      <td>29.7</td>\n",
       "    </tr>\n",
       "    <tr>\n",
       "      <th>165</th>\n",
       "      <td>234.5</td>\n",
       "      <td>3.4</td>\n",
       "      <td>84.8</td>\n",
       "    </tr>\n",
       "    <tr>\n",
       "      <th>78</th>\n",
       "      <td>5.4</td>\n",
       "      <td>29.9</td>\n",
       "      <td>9.4</td>\n",
       "    </tr>\n",
       "    <tr>\n",
       "      <th>186</th>\n",
       "      <td>139.5</td>\n",
       "      <td>2.1</td>\n",
       "      <td>26.6</td>\n",
       "    </tr>\n",
       "    <tr>\n",
       "      <th>177</th>\n",
       "      <td>170.2</td>\n",
       "      <td>7.8</td>\n",
       "      <td>35.2</td>\n",
       "    </tr>\n",
       "    <tr>\n",
       "      <th>56</th>\n",
       "      <td>7.3</td>\n",
       "      <td>28.1</td>\n",
       "      <td>41.4</td>\n",
       "    </tr>\n",
       "    <tr>\n",
       "      <th>152</th>\n",
       "      <td>197.6</td>\n",
       "      <td>23.3</td>\n",
       "      <td>14.2</td>\n",
       "    </tr>\n",
       "    <tr>\n",
       "      <th>82</th>\n",
       "      <td>75.3</td>\n",
       "      <td>20.3</td>\n",
       "      <td>32.5</td>\n",
       "    </tr>\n",
       "    <tr>\n",
       "      <th>68</th>\n",
       "      <td>237.4</td>\n",
       "      <td>27.5</td>\n",
       "      <td>11.0</td>\n",
       "    </tr>\n",
       "    <tr>\n",
       "      <th>124</th>\n",
       "      <td>229.5</td>\n",
       "      <td>32.3</td>\n",
       "      <td>74.2</td>\n",
       "    </tr>\n",
       "    <tr>\n",
       "      <th>16</th>\n",
       "      <td>67.8</td>\n",
       "      <td>36.6</td>\n",
       "      <td>114.0</td>\n",
       "    </tr>\n",
       "    <tr>\n",
       "      <th>148</th>\n",
       "      <td>38.0</td>\n",
       "      <td>40.3</td>\n",
       "      <td>11.9</td>\n",
       "    </tr>\n",
       "    <tr>\n",
       "      <th>93</th>\n",
       "      <td>250.9</td>\n",
       "      <td>36.5</td>\n",
       "      <td>72.3</td>\n",
       "    </tr>\n",
       "    <tr>\n",
       "      <th>65</th>\n",
       "      <td>69.0</td>\n",
       "      <td>9.3</td>\n",
       "      <td>0.9</td>\n",
       "    </tr>\n",
       "    <tr>\n",
       "      <th>60</th>\n",
       "      <td>53.5</td>\n",
       "      <td>2.0</td>\n",
       "      <td>21.4</td>\n",
       "    </tr>\n",
       "    <tr>\n",
       "      <th>84</th>\n",
       "      <td>213.5</td>\n",
       "      <td>43.0</td>\n",
       "      <td>33.8</td>\n",
       "    </tr>\n",
       "    <tr>\n",
       "      <th>67</th>\n",
       "      <td>139.3</td>\n",
       "      <td>14.5</td>\n",
       "      <td>10.2</td>\n",
       "    </tr>\n",
       "    <tr>\n",
       "      <th>125</th>\n",
       "      <td>87.2</td>\n",
       "      <td>11.8</td>\n",
       "      <td>25.9</td>\n",
       "    </tr>\n",
       "    <tr>\n",
       "      <th>132</th>\n",
       "      <td>8.4</td>\n",
       "      <td>27.2</td>\n",
       "      <td>2.1</td>\n",
       "    </tr>\n",
       "    <tr>\n",
       "      <th>9</th>\n",
       "      <td>199.8</td>\n",
       "      <td>2.6</td>\n",
       "      <td>21.2</td>\n",
       "    </tr>\n",
       "    <tr>\n",
       "      <th>18</th>\n",
       "      <td>69.2</td>\n",
       "      <td>20.5</td>\n",
       "      <td>18.3</td>\n",
       "    </tr>\n",
       "    <tr>\n",
       "      <th>55</th>\n",
       "      <td>198.9</td>\n",
       "      <td>49.4</td>\n",
       "      <td>60.0</td>\n",
       "    </tr>\n",
       "    <tr>\n",
       "      <th>75</th>\n",
       "      <td>16.9</td>\n",
       "      <td>43.7</td>\n",
       "      <td>89.4</td>\n",
       "    </tr>\n",
       "    <tr>\n",
       "      <th>150</th>\n",
       "      <td>280.7</td>\n",
       "      <td>13.9</td>\n",
       "      <td>37.0</td>\n",
       "    </tr>\n",
       "    <tr>\n",
       "      <th>104</th>\n",
       "      <td>238.2</td>\n",
       "      <td>34.3</td>\n",
       "      <td>5.3</td>\n",
       "    </tr>\n",
       "    <tr>\n",
       "      <th>135</th>\n",
       "      <td>48.3</td>\n",
       "      <td>47.0</td>\n",
       "      <td>8.5</td>\n",
       "    </tr>\n",
       "    <tr>\n",
       "      <th>137</th>\n",
       "      <td>273.7</td>\n",
       "      <td>28.9</td>\n",
       "      <td>59.7</td>\n",
       "    </tr>\n",
       "    <tr>\n",
       "      <th>164</th>\n",
       "      <td>117.2</td>\n",
       "      <td>14.7</td>\n",
       "      <td>5.4</td>\n",
       "    </tr>\n",
       "    <tr>\n",
       "      <th>76</th>\n",
       "      <td>27.5</td>\n",
       "      <td>1.6</td>\n",
       "      <td>20.7</td>\n",
       "    </tr>\n",
       "    <tr>\n",
       "      <th>79</th>\n",
       "      <td>116.0</td>\n",
       "      <td>7.7</td>\n",
       "      <td>23.1</td>\n",
       "    </tr>\n",
       "    <tr>\n",
       "      <th>197</th>\n",
       "      <td>177.0</td>\n",
       "      <td>9.3</td>\n",
       "      <td>6.4</td>\n",
       "    </tr>\n",
       "    <tr>\n",
       "      <th>38</th>\n",
       "      <td>43.1</td>\n",
       "      <td>26.7</td>\n",
       "      <td>35.1</td>\n",
       "    </tr>\n",
       "    <tr>\n",
       "      <th>24</th>\n",
       "      <td>62.3</td>\n",
       "      <td>12.6</td>\n",
       "      <td>18.3</td>\n",
       "    </tr>\n",
       "    <tr>\n",
       "      <th>122</th>\n",
       "      <td>224.0</td>\n",
       "      <td>2.4</td>\n",
       "      <td>15.6</td>\n",
       "    </tr>\n",
       "    <tr>\n",
       "      <th>195</th>\n",
       "      <td>38.2</td>\n",
       "      <td>3.7</td>\n",
       "      <td>13.8</td>\n",
       "    </tr>\n",
       "    <tr>\n",
       "      <th>29</th>\n",
       "      <td>70.6</td>\n",
       "      <td>16.0</td>\n",
       "      <td>40.8</td>\n",
       "    </tr>\n",
       "    <tr>\n",
       "      <th>19</th>\n",
       "      <td>147.3</td>\n",
       "      <td>23.9</td>\n",
       "      <td>19.1</td>\n",
       "    </tr>\n",
       "    <tr>\n",
       "      <th>143</th>\n",
       "      <td>104.6</td>\n",
       "      <td>5.7</td>\n",
       "      <td>34.4</td>\n",
       "    </tr>\n",
       "    <tr>\n",
       "      <th>86</th>\n",
       "      <td>76.3</td>\n",
       "      <td>27.5</td>\n",
       "      <td>16.0</td>\n",
       "    </tr>\n",
       "    <tr>\n",
       "      <th>114</th>\n",
       "      <td>78.2</td>\n",
       "      <td>46.8</td>\n",
       "      <td>34.5</td>\n",
       "    </tr>\n",
       "    <tr>\n",
       "      <th>173</th>\n",
       "      <td>168.4</td>\n",
       "      <td>7.1</td>\n",
       "      <td>12.8</td>\n",
       "    </tr>\n",
       "    <tr>\n",
       "      <th>5</th>\n",
       "      <td>8.7</td>\n",
       "      <td>48.9</td>\n",
       "      <td>75.0</td>\n",
       "    </tr>\n",
       "    <tr>\n",
       "      <th>126</th>\n",
       "      <td>7.8</td>\n",
       "      <td>38.9</td>\n",
       "      <td>50.6</td>\n",
       "    </tr>\n",
       "    <tr>\n",
       "      <th>117</th>\n",
       "      <td>76.4</td>\n",
       "      <td>0.8</td>\n",
       "      <td>14.8</td>\n",
       "    </tr>\n",
       "    <tr>\n",
       "      <th>73</th>\n",
       "      <td>129.4</td>\n",
       "      <td>5.7</td>\n",
       "      <td>31.3</td>\n",
       "    </tr>\n",
       "    <tr>\n",
       "      <th>140</th>\n",
       "      <td>73.4</td>\n",
       "      <td>17.0</td>\n",
       "      <td>12.9</td>\n",
       "    </tr>\n",
       "    <tr>\n",
       "      <th>98</th>\n",
       "      <td>289.7</td>\n",
       "      <td>42.3</td>\n",
       "      <td>51.2</td>\n",
       "    </tr>\n",
       "    <tr>\n",
       "      <th>172</th>\n",
       "      <td>19.6</td>\n",
       "      <td>20.1</td>\n",
       "      <td>17.0</td>\n",
       "    </tr>\n",
       "    <tr>\n",
       "      <th>96</th>\n",
       "      <td>197.6</td>\n",
       "      <td>3.5</td>\n",
       "      <td>5.9</td>\n",
       "    </tr>\n",
       "  </tbody>\n",
       "</table>\n",
       "</div>"
      ],
      "text/plain": [
       "        TV  radio  newspaper\n",
       "95   163.3   31.6       52.9\n",
       "15   195.4   47.7       52.9\n",
       "30   292.9   28.3       43.2\n",
       "158   11.7   36.9       45.2\n",
       "128  220.3   49.0        3.2\n",
       "115   75.1   35.0       52.7\n",
       "69   216.8   43.9       27.2\n",
       "170   50.0   11.6       18.4\n",
       "174  222.4    3.4       13.1\n",
       "45   175.1   22.5       31.5\n",
       "66    31.5   24.6        2.2\n",
       "182   56.2    5.7       29.7\n",
       "165  234.5    3.4       84.8\n",
       "78     5.4   29.9        9.4\n",
       "186  139.5    2.1       26.6\n",
       "177  170.2    7.8       35.2\n",
       "56     7.3   28.1       41.4\n",
       "152  197.6   23.3       14.2\n",
       "82    75.3   20.3       32.5\n",
       "68   237.4   27.5       11.0\n",
       "124  229.5   32.3       74.2\n",
       "16    67.8   36.6      114.0\n",
       "148   38.0   40.3       11.9\n",
       "93   250.9   36.5       72.3\n",
       "65    69.0    9.3        0.9\n",
       "60    53.5    2.0       21.4\n",
       "84   213.5   43.0       33.8\n",
       "67   139.3   14.5       10.2\n",
       "125   87.2   11.8       25.9\n",
       "132    8.4   27.2        2.1\n",
       "9    199.8    2.6       21.2\n",
       "18    69.2   20.5       18.3\n",
       "55   198.9   49.4       60.0\n",
       "75    16.9   43.7       89.4\n",
       "150  280.7   13.9       37.0\n",
       "104  238.2   34.3        5.3\n",
       "135   48.3   47.0        8.5\n",
       "137  273.7   28.9       59.7\n",
       "164  117.2   14.7        5.4\n",
       "76    27.5    1.6       20.7\n",
       "79   116.0    7.7       23.1\n",
       "197  177.0    9.3        6.4\n",
       "38    43.1   26.7       35.1\n",
       "24    62.3   12.6       18.3\n",
       "122  224.0    2.4       15.6\n",
       "195   38.2    3.7       13.8\n",
       "29    70.6   16.0       40.8\n",
       "19   147.3   23.9       19.1\n",
       "143  104.6    5.7       34.4\n",
       "86    76.3   27.5       16.0\n",
       "114   78.2   46.8       34.5\n",
       "173  168.4    7.1       12.8\n",
       "5      8.7   48.9       75.0\n",
       "126    7.8   38.9       50.6\n",
       "117   76.4    0.8       14.8\n",
       "73   129.4    5.7       31.3\n",
       "140   73.4   17.0       12.9\n",
       "98   289.7   42.3       51.2\n",
       "172   19.6   20.1       17.0\n",
       "96   197.6    3.5        5.9"
      ]
     },
     "execution_count": 19,
     "metadata": {},
     "output_type": "execute_result"
    }
   ],
   "source": [
    "X_test"
   ]
  },
  {
   "cell_type": "code",
   "execution_count": 20,
   "id": "piano-daisy",
   "metadata": {},
   "outputs": [
    {
     "data": {
      "text/plain": [
       "169    15.0\n",
       "97     15.5\n",
       "31     11.9\n",
       "12      9.2\n",
       "35     12.8\n",
       "       ... \n",
       "106     7.2\n",
       "14     19.0\n",
       "92     19.4\n",
       "179    12.6\n",
       "102    14.8\n",
       "Name: sales, Length: 140, dtype: float64"
      ]
     },
     "execution_count": 20,
     "metadata": {},
     "output_type": "execute_result"
    }
   ],
   "source": [
    "y_train \n",
    "#tek bi sutün olduğu için df değil"
   ]
  },
  {
   "cell_type": "markdown",
   "id": "valuable-sapphire",
   "metadata": {},
   "source": [
    "## Model Fitting and Compare Actual and Predicted Labels"
   ]
  },
  {
   "cell_type": "code",
   "execution_count": 12,
   "id": "thick-institution",
   "metadata": {},
   "outputs": [],
   "source": [
    "from sklearn.linear_model import LinearRegression"
   ]
  },
  {
   "cell_type": "code",
   "execution_count": 13,
   "id": "working-drink",
   "metadata": {},
   "outputs": [],
   "source": [
    "model = LinearRegression()\n",
    "\n",
    "#instance oluştuuryoruz. Yeni bir örnek"
   ]
  },
  {
   "cell_type": "code",
   "execution_count": 14,
   "id": "answering-right",
   "metadata": {},
   "outputs": [
    {
     "ename": "NameError",
     "evalue": "name 'X_train' is not defined",
     "output_type": "error",
     "traceback": [
      "\u001b[1;31m---------------------------------------------------------------------------\u001b[0m",
      "\u001b[1;31mNameError\u001b[0m                                 Traceback (most recent call last)",
      "\u001b[1;32m<ipython-input-14-d768f88d541e>\u001b[0m in \u001b[0;36m<module>\u001b[1;34m\u001b[0m\n\u001b[1;32m----> 1\u001b[1;33m \u001b[0mmodel\u001b[0m\u001b[1;33m.\u001b[0m\u001b[0mfit\u001b[0m\u001b[1;33m(\u001b[0m\u001b[0mX_train\u001b[0m\u001b[1;33m,\u001b[0m \u001b[0my_train\u001b[0m\u001b[1;33m)\u001b[0m\u001b[1;33m\u001b[0m\u001b[1;33m\u001b[0m\u001b[0m\n\u001b[0m",
      "\u001b[1;31mNameError\u001b[0m: name 'X_train' is not defined"
     ]
    }
   ],
   "source": [
    "model.fit(X_train, y_train)"
   ]
  },
  {
   "cell_type": "code",
   "execution_count": 24,
   "id": "3632af9a",
   "metadata": {},
   "outputs": [
    {
     "data": {
      "text/plain": [
       "array([16.5653963 , 21.18822792, 21.55107058, 10.88923816, 22.20231988,\n",
       "       13.35556872, 21.19692502,  7.35028523, 13.27547079, 15.12449511,\n",
       "        9.01443026,  6.52542825, 14.30205991,  8.97026042,  9.45679576,\n",
       "       12.00454351,  8.91549403, 16.15619251, 10.29582883, 18.72473553,\n",
       "       19.76821818, 13.77469028, 12.49638908, 21.53501762,  7.60860741,\n",
       "        5.6119801 , 20.91759483, 11.80627665,  9.08076637,  8.51412012,\n",
       "       12.17604891,  9.9691939 , 21.73008956, 12.77770578, 18.1011362 ,\n",
       "       20.07590796, 14.26202556, 20.93826535, 10.83938827,  4.38190607,\n",
       "        9.51332406, 12.40486324, 10.17045434,  8.09081363, 13.16388427,\n",
       "        5.2243552 ,  9.28893833, 14.09330719,  8.69024497, 11.66119763,\n",
       "       15.71848432, 11.63156862, 13.35360735, 11.1531472 ,  6.33636845,\n",
       "        9.76157954,  9.4195714 , 24.25516546,  7.69519137, 12.15317572])"
      ]
     },
     "execution_count": 24,
     "metadata": {},
     "output_type": "execute_result"
    }
   ],
   "source": [
    "y_pred = model.predict(X_test)\n",
    "y_pred\n",
    "\n",
    "#artık test etmeye başlıyorum\n",
    "#üni sınavı aşaması"
   ]
  },
  {
   "cell_type": "code",
   "execution_count": 25,
   "id": "cae09423",
   "metadata": {},
   "outputs": [
    {
     "data": {
      "text/plain": [
       "array([0.04405928, 0.1992875 , 0.00688245])"
      ]
     },
     "execution_count": 25,
     "metadata": {},
     "output_type": "execute_result"
    }
   ],
   "source": [
    "model.coef_\n",
    "\n",
    "#tv,raido,newspaper model katsayılarını veriyor sırasıyla\n",
    "#y-pred içinde buna ihtiyaç olduğu için buldum"
   ]
  },
  {
   "cell_type": "code",
   "execution_count": 26,
   "id": "372505fb",
   "metadata": {},
   "outputs": [
    {
     "data": {
      "text/plain": [
       "2.7089490925159048"
      ]
     },
     "execution_count": 26,
     "metadata": {},
     "output_type": "execute_result"
    }
   ],
   "source": [
    "model.intercept_\n",
    "#y-pred içinde buna ihtiyaç olduğu için buldum"
   ]
  },
  {
   "cell_type": "markdown",
   "id": "cfde6d0f-6e67-4f62-88f0-a603830ea7ef",
   "metadata": {},
   "source": [
    "# y_pred = b1 * TV + b2 * radio + b3 * newspaper + b0"
   ]
  },
  {
   "cell_type": "code",
   "execution_count": null,
   "id": "e5e4f6a6-8b69-441d-b6c9-5a2482030868",
   "metadata": {},
   "outputs": [],
   "source": [
    "sum(X_test.loc[95]*model.coef_)"
   ]
  },
  {
   "cell_type": "code",
   "execution_count": 28,
   "id": "d8abe44e",
   "metadata": {},
   "outputs": [
    {
     "data": {
      "text/plain": [
       "16.565396297434837"
      ]
     },
     "execution_count": 28,
     "metadata": {},
     "output_type": "execute_result"
    }
   ],
   "source": [
    "sum(X_test.loc[95] * model.coef_) + model.intercept_\n",
    "\n",
    "#X_test'in ilk satırın index'i 95 olduğu için\n",
    "#y_pred'in ilk değeri ile aldığım manuel değeri karşılaştırdım\n"
   ]
  },
  {
   "cell_type": "code",
   "execution_count": 29,
   "id": "accompanied-contact",
   "metadata": {},
   "outputs": [],
   "source": [
    "my_dict = {\"Actual\": y_test, \"Pred\": y_pred, \"Residual\":y_test-y_pred}"
   ]
  },
  {
   "cell_type": "code",
   "execution_count": 30,
   "id": "enhanced-layer",
   "metadata": {},
   "outputs": [
    {
     "data": {
      "text/html": [
       "<div>\n",
       "<style scoped>\n",
       "    .dataframe tbody tr th:only-of-type {\n",
       "        vertical-align: middle;\n",
       "    }\n",
       "\n",
       "    .dataframe tbody tr th {\n",
       "        vertical-align: top;\n",
       "    }\n",
       "\n",
       "    .dataframe thead th {\n",
       "        text-align: right;\n",
       "    }\n",
       "</style>\n",
       "<table border=\"1\" class=\"dataframe\">\n",
       "  <thead>\n",
       "    <tr style=\"text-align: right;\">\n",
       "      <th></th>\n",
       "      <th>Actual</th>\n",
       "      <th>Pred</th>\n",
       "      <th>Residual</th>\n",
       "    </tr>\n",
       "  </thead>\n",
       "  <tbody>\n",
       "    <tr>\n",
       "      <th>95</th>\n",
       "      <td>16.9</td>\n",
       "      <td>16.565396</td>\n",
       "      <td>0.334604</td>\n",
       "    </tr>\n",
       "    <tr>\n",
       "      <th>15</th>\n",
       "      <td>22.4</td>\n",
       "      <td>21.188228</td>\n",
       "      <td>1.211772</td>\n",
       "    </tr>\n",
       "    <tr>\n",
       "      <th>30</th>\n",
       "      <td>21.4</td>\n",
       "      <td>21.551071</td>\n",
       "      <td>-0.151071</td>\n",
       "    </tr>\n",
       "    <tr>\n",
       "      <th>158</th>\n",
       "      <td>7.3</td>\n",
       "      <td>10.889238</td>\n",
       "      <td>-3.589238</td>\n",
       "    </tr>\n",
       "    <tr>\n",
       "      <th>128</th>\n",
       "      <td>24.7</td>\n",
       "      <td>22.202320</td>\n",
       "      <td>2.497680</td>\n",
       "    </tr>\n",
       "    <tr>\n",
       "      <th>115</th>\n",
       "      <td>12.6</td>\n",
       "      <td>13.355569</td>\n",
       "      <td>-0.755569</td>\n",
       "    </tr>\n",
       "    <tr>\n",
       "      <th>69</th>\n",
       "      <td>22.3</td>\n",
       "      <td>21.196925</td>\n",
       "      <td>1.103075</td>\n",
       "    </tr>\n",
       "    <tr>\n",
       "      <th>170</th>\n",
       "      <td>8.4</td>\n",
       "      <td>7.350285</td>\n",
       "      <td>1.049715</td>\n",
       "    </tr>\n",
       "    <tr>\n",
       "      <th>174</th>\n",
       "      <td>11.5</td>\n",
       "      <td>13.275471</td>\n",
       "      <td>-1.775471</td>\n",
       "    </tr>\n",
       "    <tr>\n",
       "      <th>45</th>\n",
       "      <td>14.9</td>\n",
       "      <td>15.124495</td>\n",
       "      <td>-0.224495</td>\n",
       "    </tr>\n",
       "    <tr>\n",
       "      <th>66</th>\n",
       "      <td>9.5</td>\n",
       "      <td>9.014430</td>\n",
       "      <td>0.485570</td>\n",
       "    </tr>\n",
       "    <tr>\n",
       "      <th>182</th>\n",
       "      <td>8.7</td>\n",
       "      <td>6.525428</td>\n",
       "      <td>2.174572</td>\n",
       "    </tr>\n",
       "    <tr>\n",
       "      <th>165</th>\n",
       "      <td>11.9</td>\n",
       "      <td>14.302060</td>\n",
       "      <td>-2.402060</td>\n",
       "    </tr>\n",
       "    <tr>\n",
       "      <th>78</th>\n",
       "      <td>5.3</td>\n",
       "      <td>8.970260</td>\n",
       "      <td>-3.670260</td>\n",
       "    </tr>\n",
       "    <tr>\n",
       "      <th>186</th>\n",
       "      <td>10.3</td>\n",
       "      <td>9.456796</td>\n",
       "      <td>0.843204</td>\n",
       "    </tr>\n",
       "    <tr>\n",
       "      <th>177</th>\n",
       "      <td>11.7</td>\n",
       "      <td>12.004544</td>\n",
       "      <td>-0.304544</td>\n",
       "    </tr>\n",
       "    <tr>\n",
       "      <th>56</th>\n",
       "      <td>5.5</td>\n",
       "      <td>8.915494</td>\n",
       "      <td>-3.415494</td>\n",
       "    </tr>\n",
       "    <tr>\n",
       "      <th>152</th>\n",
       "      <td>16.6</td>\n",
       "      <td>16.156193</td>\n",
       "      <td>0.443807</td>\n",
       "    </tr>\n",
       "    <tr>\n",
       "      <th>82</th>\n",
       "      <td>11.3</td>\n",
       "      <td>10.295829</td>\n",
       "      <td>1.004171</td>\n",
       "    </tr>\n",
       "    <tr>\n",
       "      <th>68</th>\n",
       "      <td>18.9</td>\n",
       "      <td>18.724736</td>\n",
       "      <td>0.175264</td>\n",
       "    </tr>\n",
       "    <tr>\n",
       "      <th>124</th>\n",
       "      <td>19.7</td>\n",
       "      <td>19.768218</td>\n",
       "      <td>-0.068218</td>\n",
       "    </tr>\n",
       "    <tr>\n",
       "      <th>16</th>\n",
       "      <td>12.5</td>\n",
       "      <td>13.774690</td>\n",
       "      <td>-1.274690</td>\n",
       "    </tr>\n",
       "    <tr>\n",
       "      <th>148</th>\n",
       "      <td>10.9</td>\n",
       "      <td>12.496389</td>\n",
       "      <td>-1.596389</td>\n",
       "    </tr>\n",
       "    <tr>\n",
       "      <th>93</th>\n",
       "      <td>22.2</td>\n",
       "      <td>21.535018</td>\n",
       "      <td>0.664982</td>\n",
       "    </tr>\n",
       "    <tr>\n",
       "      <th>65</th>\n",
       "      <td>9.3</td>\n",
       "      <td>7.608607</td>\n",
       "      <td>1.691393</td>\n",
       "    </tr>\n",
       "    <tr>\n",
       "      <th>60</th>\n",
       "      <td>8.1</td>\n",
       "      <td>5.611980</td>\n",
       "      <td>2.488020</td>\n",
       "    </tr>\n",
       "    <tr>\n",
       "      <th>84</th>\n",
       "      <td>21.7</td>\n",
       "      <td>20.917595</td>\n",
       "      <td>0.782405</td>\n",
       "    </tr>\n",
       "    <tr>\n",
       "      <th>67</th>\n",
       "      <td>13.4</td>\n",
       "      <td>11.806277</td>\n",
       "      <td>1.593723</td>\n",
       "    </tr>\n",
       "    <tr>\n",
       "      <th>125</th>\n",
       "      <td>10.6</td>\n",
       "      <td>9.080766</td>\n",
       "      <td>1.519234</td>\n",
       "    </tr>\n",
       "    <tr>\n",
       "      <th>132</th>\n",
       "      <td>5.7</td>\n",
       "      <td>8.514120</td>\n",
       "      <td>-2.814120</td>\n",
       "    </tr>\n",
       "    <tr>\n",
       "      <th>9</th>\n",
       "      <td>10.6</td>\n",
       "      <td>12.176049</td>\n",
       "      <td>-1.576049</td>\n",
       "    </tr>\n",
       "    <tr>\n",
       "      <th>18</th>\n",
       "      <td>11.3</td>\n",
       "      <td>9.969194</td>\n",
       "      <td>1.330806</td>\n",
       "    </tr>\n",
       "    <tr>\n",
       "      <th>55</th>\n",
       "      <td>23.7</td>\n",
       "      <td>21.730090</td>\n",
       "      <td>1.969910</td>\n",
       "    </tr>\n",
       "    <tr>\n",
       "      <th>75</th>\n",
       "      <td>8.7</td>\n",
       "      <td>12.777706</td>\n",
       "      <td>-4.077706</td>\n",
       "    </tr>\n",
       "    <tr>\n",
       "      <th>150</th>\n",
       "      <td>16.1</td>\n",
       "      <td>18.101136</td>\n",
       "      <td>-2.001136</td>\n",
       "    </tr>\n",
       "    <tr>\n",
       "      <th>104</th>\n",
       "      <td>20.7</td>\n",
       "      <td>20.075908</td>\n",
       "      <td>0.624092</td>\n",
       "    </tr>\n",
       "    <tr>\n",
       "      <th>135</th>\n",
       "      <td>11.6</td>\n",
       "      <td>14.262026</td>\n",
       "      <td>-2.662026</td>\n",
       "    </tr>\n",
       "    <tr>\n",
       "      <th>137</th>\n",
       "      <td>20.8</td>\n",
       "      <td>20.938265</td>\n",
       "      <td>-0.138265</td>\n",
       "    </tr>\n",
       "    <tr>\n",
       "      <th>164</th>\n",
       "      <td>11.9</td>\n",
       "      <td>10.839388</td>\n",
       "      <td>1.060612</td>\n",
       "    </tr>\n",
       "    <tr>\n",
       "      <th>76</th>\n",
       "      <td>6.9</td>\n",
       "      <td>4.381906</td>\n",
       "      <td>2.518094</td>\n",
       "    </tr>\n",
       "    <tr>\n",
       "      <th>79</th>\n",
       "      <td>11.0</td>\n",
       "      <td>9.513324</td>\n",
       "      <td>1.486676</td>\n",
       "    </tr>\n",
       "    <tr>\n",
       "      <th>197</th>\n",
       "      <td>12.8</td>\n",
       "      <td>12.404863</td>\n",
       "      <td>0.395137</td>\n",
       "    </tr>\n",
       "    <tr>\n",
       "      <th>38</th>\n",
       "      <td>10.1</td>\n",
       "      <td>10.170454</td>\n",
       "      <td>-0.070454</td>\n",
       "    </tr>\n",
       "    <tr>\n",
       "      <th>24</th>\n",
       "      <td>9.7</td>\n",
       "      <td>8.090814</td>\n",
       "      <td>1.609186</td>\n",
       "    </tr>\n",
       "    <tr>\n",
       "      <th>122</th>\n",
       "      <td>11.6</td>\n",
       "      <td>13.163884</td>\n",
       "      <td>-1.563884</td>\n",
       "    </tr>\n",
       "    <tr>\n",
       "      <th>195</th>\n",
       "      <td>7.6</td>\n",
       "      <td>5.224355</td>\n",
       "      <td>2.375645</td>\n",
       "    </tr>\n",
       "    <tr>\n",
       "      <th>29</th>\n",
       "      <td>10.5</td>\n",
       "      <td>9.288938</td>\n",
       "      <td>1.211062</td>\n",
       "    </tr>\n",
       "    <tr>\n",
       "      <th>19</th>\n",
       "      <td>14.6</td>\n",
       "      <td>14.093307</td>\n",
       "      <td>0.506693</td>\n",
       "    </tr>\n",
       "    <tr>\n",
       "      <th>143</th>\n",
       "      <td>10.4</td>\n",
       "      <td>8.690245</td>\n",
       "      <td>1.709755</td>\n",
       "    </tr>\n",
       "    <tr>\n",
       "      <th>86</th>\n",
       "      <td>12.0</td>\n",
       "      <td>11.661198</td>\n",
       "      <td>0.338802</td>\n",
       "    </tr>\n",
       "    <tr>\n",
       "      <th>114</th>\n",
       "      <td>14.6</td>\n",
       "      <td>15.718484</td>\n",
       "      <td>-1.118484</td>\n",
       "    </tr>\n",
       "    <tr>\n",
       "      <th>173</th>\n",
       "      <td>11.7</td>\n",
       "      <td>11.631569</td>\n",
       "      <td>0.068431</td>\n",
       "    </tr>\n",
       "    <tr>\n",
       "      <th>5</th>\n",
       "      <td>7.2</td>\n",
       "      <td>13.353607</td>\n",
       "      <td>-6.153607</td>\n",
       "    </tr>\n",
       "    <tr>\n",
       "      <th>126</th>\n",
       "      <td>6.6</td>\n",
       "      <td>11.153147</td>\n",
       "      <td>-4.553147</td>\n",
       "    </tr>\n",
       "    <tr>\n",
       "      <th>117</th>\n",
       "      <td>9.4</td>\n",
       "      <td>6.336368</td>\n",
       "      <td>3.063632</td>\n",
       "    </tr>\n",
       "    <tr>\n",
       "      <th>73</th>\n",
       "      <td>11.0</td>\n",
       "      <td>9.761580</td>\n",
       "      <td>1.238420</td>\n",
       "    </tr>\n",
       "    <tr>\n",
       "      <th>140</th>\n",
       "      <td>10.9</td>\n",
       "      <td>9.419571</td>\n",
       "      <td>1.480429</td>\n",
       "    </tr>\n",
       "    <tr>\n",
       "      <th>98</th>\n",
       "      <td>25.4</td>\n",
       "      <td>24.255165</td>\n",
       "      <td>1.144835</td>\n",
       "    </tr>\n",
       "    <tr>\n",
       "      <th>172</th>\n",
       "      <td>7.6</td>\n",
       "      <td>7.695191</td>\n",
       "      <td>-0.095191</td>\n",
       "    </tr>\n",
       "    <tr>\n",
       "      <th>96</th>\n",
       "      <td>11.7</td>\n",
       "      <td>12.153176</td>\n",
       "      <td>-0.453176</td>\n",
       "    </tr>\n",
       "  </tbody>\n",
       "</table>\n",
       "</div>"
      ],
      "text/plain": [
       "     Actual       Pred  Residual\n",
       "95     16.9  16.565396  0.334604\n",
       "15     22.4  21.188228  1.211772\n",
       "30     21.4  21.551071 -0.151071\n",
       "158     7.3  10.889238 -3.589238\n",
       "128    24.7  22.202320  2.497680\n",
       "115    12.6  13.355569 -0.755569\n",
       "69     22.3  21.196925  1.103075\n",
       "170     8.4   7.350285  1.049715\n",
       "174    11.5  13.275471 -1.775471\n",
       "45     14.9  15.124495 -0.224495\n",
       "66      9.5   9.014430  0.485570\n",
       "182     8.7   6.525428  2.174572\n",
       "165    11.9  14.302060 -2.402060\n",
       "78      5.3   8.970260 -3.670260\n",
       "186    10.3   9.456796  0.843204\n",
       "177    11.7  12.004544 -0.304544\n",
       "56      5.5   8.915494 -3.415494\n",
       "152    16.6  16.156193  0.443807\n",
       "82     11.3  10.295829  1.004171\n",
       "68     18.9  18.724736  0.175264\n",
       "124    19.7  19.768218 -0.068218\n",
       "16     12.5  13.774690 -1.274690\n",
       "148    10.9  12.496389 -1.596389\n",
       "93     22.2  21.535018  0.664982\n",
       "65      9.3   7.608607  1.691393\n",
       "60      8.1   5.611980  2.488020\n",
       "84     21.7  20.917595  0.782405\n",
       "67     13.4  11.806277  1.593723\n",
       "125    10.6   9.080766  1.519234\n",
       "132     5.7   8.514120 -2.814120\n",
       "9      10.6  12.176049 -1.576049\n",
       "18     11.3   9.969194  1.330806\n",
       "55     23.7  21.730090  1.969910\n",
       "75      8.7  12.777706 -4.077706\n",
       "150    16.1  18.101136 -2.001136\n",
       "104    20.7  20.075908  0.624092\n",
       "135    11.6  14.262026 -2.662026\n",
       "137    20.8  20.938265 -0.138265\n",
       "164    11.9  10.839388  1.060612\n",
       "76      6.9   4.381906  2.518094\n",
       "79     11.0   9.513324  1.486676\n",
       "197    12.8  12.404863  0.395137\n",
       "38     10.1  10.170454 -0.070454\n",
       "24      9.7   8.090814  1.609186\n",
       "122    11.6  13.163884 -1.563884\n",
       "195     7.6   5.224355  2.375645\n",
       "29     10.5   9.288938  1.211062\n",
       "19     14.6  14.093307  0.506693\n",
       "143    10.4   8.690245  1.709755\n",
       "86     12.0  11.661198  0.338802\n",
       "114    14.6  15.718484 -1.118484\n",
       "173    11.7  11.631569  0.068431\n",
       "5       7.2  13.353607 -6.153607\n",
       "126     6.6  11.153147 -4.553147\n",
       "117     9.4   6.336368  3.063632\n",
       "73     11.0   9.761580  1.238420\n",
       "140    10.9   9.419571  1.480429\n",
       "98     25.4  24.255165  1.144835\n",
       "172     7.6   7.695191 -0.095191\n",
       "96     11.7  12.153176 -0.453176"
      ]
     },
     "execution_count": 30,
     "metadata": {},
     "output_type": "execute_result"
    }
   ],
   "source": [
    "comparing = pd.DataFrame(my_dict)\n",
    "comparing"
   ]
  },
  {
   "cell_type": "code",
   "execution_count": 31,
   "id": "thick-pastor",
   "metadata": {},
   "outputs": [
    {
     "data": {
      "text/html": [
       "<div>\n",
       "<style scoped>\n",
       "    .dataframe tbody tr th:only-of-type {\n",
       "        vertical-align: middle;\n",
       "    }\n",
       "\n",
       "    .dataframe tbody tr th {\n",
       "        vertical-align: top;\n",
       "    }\n",
       "\n",
       "    .dataframe thead th {\n",
       "        text-align: right;\n",
       "    }\n",
       "</style>\n",
       "<table border=\"1\" class=\"dataframe\">\n",
       "  <thead>\n",
       "    <tr style=\"text-align: right;\">\n",
       "      <th></th>\n",
       "      <th>Actual</th>\n",
       "      <th>Pred</th>\n",
       "      <th>Residual</th>\n",
       "    </tr>\n",
       "  </thead>\n",
       "  <tbody>\n",
       "    <tr>\n",
       "      <th>95</th>\n",
       "      <td>16.9</td>\n",
       "      <td>16.565396</td>\n",
       "      <td>0.334604</td>\n",
       "    </tr>\n",
       "    <tr>\n",
       "      <th>15</th>\n",
       "      <td>22.4</td>\n",
       "      <td>21.188228</td>\n",
       "      <td>1.211772</td>\n",
       "    </tr>\n",
       "    <tr>\n",
       "      <th>30</th>\n",
       "      <td>21.4</td>\n",
       "      <td>21.551071</td>\n",
       "      <td>-0.151071</td>\n",
       "    </tr>\n",
       "    <tr>\n",
       "      <th>158</th>\n",
       "      <td>7.3</td>\n",
       "      <td>10.889238</td>\n",
       "      <td>-3.589238</td>\n",
       "    </tr>\n",
       "    <tr>\n",
       "      <th>128</th>\n",
       "      <td>24.7</td>\n",
       "      <td>22.202320</td>\n",
       "      <td>2.497680</td>\n",
       "    </tr>\n",
       "    <tr>\n",
       "      <th>115</th>\n",
       "      <td>12.6</td>\n",
       "      <td>13.355569</td>\n",
       "      <td>-0.755569</td>\n",
       "    </tr>\n",
       "    <tr>\n",
       "      <th>69</th>\n",
       "      <td>22.3</td>\n",
       "      <td>21.196925</td>\n",
       "      <td>1.103075</td>\n",
       "    </tr>\n",
       "    <tr>\n",
       "      <th>170</th>\n",
       "      <td>8.4</td>\n",
       "      <td>7.350285</td>\n",
       "      <td>1.049715</td>\n",
       "    </tr>\n",
       "    <tr>\n",
       "      <th>174</th>\n",
       "      <td>11.5</td>\n",
       "      <td>13.275471</td>\n",
       "      <td>-1.775471</td>\n",
       "    </tr>\n",
       "    <tr>\n",
       "      <th>45</th>\n",
       "      <td>14.9</td>\n",
       "      <td>15.124495</td>\n",
       "      <td>-0.224495</td>\n",
       "    </tr>\n",
       "    <tr>\n",
       "      <th>66</th>\n",
       "      <td>9.5</td>\n",
       "      <td>9.014430</td>\n",
       "      <td>0.485570</td>\n",
       "    </tr>\n",
       "    <tr>\n",
       "      <th>182</th>\n",
       "      <td>8.7</td>\n",
       "      <td>6.525428</td>\n",
       "      <td>2.174572</td>\n",
       "    </tr>\n",
       "    <tr>\n",
       "      <th>165</th>\n",
       "      <td>11.9</td>\n",
       "      <td>14.302060</td>\n",
       "      <td>-2.402060</td>\n",
       "    </tr>\n",
       "    <tr>\n",
       "      <th>78</th>\n",
       "      <td>5.3</td>\n",
       "      <td>8.970260</td>\n",
       "      <td>-3.670260</td>\n",
       "    </tr>\n",
       "    <tr>\n",
       "      <th>186</th>\n",
       "      <td>10.3</td>\n",
       "      <td>9.456796</td>\n",
       "      <td>0.843204</td>\n",
       "    </tr>\n",
       "    <tr>\n",
       "      <th>177</th>\n",
       "      <td>11.7</td>\n",
       "      <td>12.004544</td>\n",
       "      <td>-0.304544</td>\n",
       "    </tr>\n",
       "    <tr>\n",
       "      <th>56</th>\n",
       "      <td>5.5</td>\n",
       "      <td>8.915494</td>\n",
       "      <td>-3.415494</td>\n",
       "    </tr>\n",
       "    <tr>\n",
       "      <th>152</th>\n",
       "      <td>16.6</td>\n",
       "      <td>16.156193</td>\n",
       "      <td>0.443807</td>\n",
       "    </tr>\n",
       "    <tr>\n",
       "      <th>82</th>\n",
       "      <td>11.3</td>\n",
       "      <td>10.295829</td>\n",
       "      <td>1.004171</td>\n",
       "    </tr>\n",
       "    <tr>\n",
       "      <th>68</th>\n",
       "      <td>18.9</td>\n",
       "      <td>18.724736</td>\n",
       "      <td>0.175264</td>\n",
       "    </tr>\n",
       "    <tr>\n",
       "      <th>124</th>\n",
       "      <td>19.7</td>\n",
       "      <td>19.768218</td>\n",
       "      <td>-0.068218</td>\n",
       "    </tr>\n",
       "    <tr>\n",
       "      <th>16</th>\n",
       "      <td>12.5</td>\n",
       "      <td>13.774690</td>\n",
       "      <td>-1.274690</td>\n",
       "    </tr>\n",
       "    <tr>\n",
       "      <th>148</th>\n",
       "      <td>10.9</td>\n",
       "      <td>12.496389</td>\n",
       "      <td>-1.596389</td>\n",
       "    </tr>\n",
       "    <tr>\n",
       "      <th>93</th>\n",
       "      <td>22.2</td>\n",
       "      <td>21.535018</td>\n",
       "      <td>0.664982</td>\n",
       "    </tr>\n",
       "    <tr>\n",
       "      <th>65</th>\n",
       "      <td>9.3</td>\n",
       "      <td>7.608607</td>\n",
       "      <td>1.691393</td>\n",
       "    </tr>\n",
       "  </tbody>\n",
       "</table>\n",
       "</div>"
      ],
      "text/plain": [
       "     Actual       Pred  Residual\n",
       "95     16.9  16.565396  0.334604\n",
       "15     22.4  21.188228  1.211772\n",
       "30     21.4  21.551071 -0.151071\n",
       "158     7.3  10.889238 -3.589238\n",
       "128    24.7  22.202320  2.497680\n",
       "115    12.6  13.355569 -0.755569\n",
       "69     22.3  21.196925  1.103075\n",
       "170     8.4   7.350285  1.049715\n",
       "174    11.5  13.275471 -1.775471\n",
       "45     14.9  15.124495 -0.224495\n",
       "66      9.5   9.014430  0.485570\n",
       "182     8.7   6.525428  2.174572\n",
       "165    11.9  14.302060 -2.402060\n",
       "78      5.3   8.970260 -3.670260\n",
       "186    10.3   9.456796  0.843204\n",
       "177    11.7  12.004544 -0.304544\n",
       "56      5.5   8.915494 -3.415494\n",
       "152    16.6  16.156193  0.443807\n",
       "82     11.3  10.295829  1.004171\n",
       "68     18.9  18.724736  0.175264\n",
       "124    19.7  19.768218 -0.068218\n",
       "16     12.5  13.774690 -1.274690\n",
       "148    10.9  12.496389 -1.596389\n",
       "93     22.2  21.535018  0.664982\n",
       "65      9.3   7.608607  1.691393"
      ]
     },
     "execution_count": 31,
     "metadata": {},
     "output_type": "execute_result"
    }
   ],
   "source": [
    "result_sample = comparing.head(25)\n",
    "result_sample\n",
    "\n",
    "#kalabalık data istemediğim için, daha aza indirgedim"
   ]
  },
  {
   "cell_type": "code",
   "execution_count": 32,
   "id": "hybrid-incentive",
   "metadata": {},
   "outputs": [
    {
     "data": {
      "image/png": "[encoded data removed]",
      "text/plain": [
       "<Figure size 1080x648 with 1 Axes>"
      ]
     },
     "metadata": {
      "needs_background": "light"
     },
     "output_type": "display_data"
    }
   ],
   "source": [
    "result_sample.plot(kind =\"bar\", figsize=(15,9))\n",
    "plt.show()\n",
    "\n",
    "#%5 hata payımız vardır. Altın kuveti bilmek zorunda da değilim! :D \n",
    "\n",
    "#acilen satılan bir araç fiyatı ekstra düşük olabilimsi"
   ]
  },
  {
   "cell_type": "markdown",
   "id": "frozen-space",
   "metadata": {},
   "source": [
    "## Error Metrics"
   ]
  },
  {
   "cell_type": "code",
   "execution_count": 33,
   "id": "local-stupid",
   "metadata": {},
   "outputs": [],
   "source": [
    "from sklearn.metrics import mean_absolute_error, mean_squared_error, r2_score\n",
    "\n",
    "#genelde rmse kullanılır"
   ]
  },
  {
   "cell_type": "code",
   "execution_count": 34,
   "id": "coordinate-worse",
   "metadata": {},
   "outputs": [
    {
     "data": {
      "text/plain": [
       "0.8609466508230367"
      ]
     },
     "execution_count": 34,
     "metadata": {},
     "output_type": "execute_result"
    }
   ],
   "source": [
    "R2_score = r2_score(y_test, y_pred)\n",
    "R2_score\n",
    "\n",
    "#%86 oranında tutarlı. sen linear reg. yapabilirsin\n"
   ]
  },
  {
   "cell_type": "code",
   "execution_count": 35,
   "id": "turkish-edward",
   "metadata": {},
   "outputs": [
    {
     "data": {
      "text/plain": [
       "1.511669222454909"
      ]
     },
     "execution_count": 35,
     "metadata": {},
     "output_type": "execute_result"
    }
   ],
   "source": [
    "mae = mean_absolute_error(y_test, y_pred)\n",
    "mae\n",
    "\n",
    "#bu absorb edebiliyor. o yüzden çok güvnilir olmadı diğerlerine ihtiyaç duydum ?"
   ]
  },
  {
   "cell_type": "code",
   "execution_count": 36,
   "id": "sacred-dylan",
   "metadata": {},
   "outputs": [
    {
     "data": {
      "text/plain": [
       "3.7967972367152223"
      ]
     },
     "execution_count": 36,
     "metadata": {},
     "output_type": "execute_result"
    }
   ],
   "source": [
    "mse = mean_squared_error(y_test, y_pred)\n",
    "mse\n",
    "\n",
    "#residualin karesini alıp topluyor. Toplam gözlem sayısına bölüyor\n",
    "#ama birimler tutmuyor, target ile aynı birimde olan yeni bir metrik belirliyorlar. rmse budur işte"
   ]
  },
  {
   "cell_type": "code",
   "execution_count": 37,
   "id": "naked-medicaid",
   "metadata": {},
   "outputs": [
    {
     "data": {
      "text/plain": [
       "1.9485372043446392"
      ]
     },
     "execution_count": 37,
     "metadata": {},
     "output_type": "execute_result"
    }
   ],
   "source": [
    "rmse = np.sqrt(mean_squared_error(y_test, y_pred))\n",
    "rmse\n",
    "\n",
    "#mse ve rmse arasında eğer uçurum varsa, modelimde hata var demektir. \n",
    "#ama eğer yakınsa modelim iyi tahminleme yapıyor demektir. "
   ]
  },
  {
   "cell_type": "code",
   "execution_count": 38,
   "id": "right-stylus",
   "metadata": {},
   "outputs": [
    {
     "data": {
      "text/plain": [
       "14.022500000000003"
      ]
     },
     "execution_count": 38,
     "metadata": {},
     "output_type": "execute_result"
    }
   ],
   "source": [
    "sales_mean = df[\"sales\"].mean()\n",
    "sales_mean"
   ]
  },
  {
   "cell_type": "code",
   "execution_count": 39,
   "id": "threatened-simon",
   "metadata": {},
   "outputs": [
    {
     "data": {
      "text/plain": [
       "0.10780311802138769"
      ]
     },
     "execution_count": 39,
     "metadata": {},
     "output_type": "execute_result"
    }
   ],
   "source": [
    "mae / sales_mean\n",
    "\n",
    "#%10 oranında hatalı, %90 tutarlı tahminleme yapıyor ortalamada"
   ]
  },
  {
   "cell_type": "code",
   "execution_count": 40,
   "id": "absent-bandwidth",
   "metadata": {},
   "outputs": [
    {
     "data": {
      "text/plain": [
       "0.138957903679418"
      ]
     },
     "execution_count": 40,
     "metadata": {},
     "output_type": "execute_result"
    }
   ],
   "source": [
    "rmse / sales_mean\n",
    "\n",
    "#daha gerçekçi çıktı hata payı\n",
    "\n",
    "#minimize etmeye gerek var. Bize ciddi hataların olup olmadığını gösteririr ve hangi modeli seçeceğimize karar verir.\n"
   ]
  },
  {
   "cell_type": "code",
   "execution_count": 20,
   "id": "889c988d-87c2-4316-bf1d-2847bac40ecf",
   "metadata": {},
   "outputs": [
    {
     "data": {
      "text/plain": [
       "0.13905334917696333"
      ]
     },
     "execution_count": 20,
     "metadata": {},
     "output_type": "execute_result"
    }
   ],
   "source": [
    "1-0.8609466508230367  \n",
    "\n",
    "#R2 score ile neredeyse aynı"
   ]
  },
  {
   "cell_type": "markdown",
   "id": "a7b7c0ac",
   "metadata": {},
   "source": [
    "## Adjusted R2 score "
   ]
  },
  {
   "cell_type": "code",
   "execution_count": 111,
   "id": "headed-turner",
   "metadata": {},
   "outputs": [],
   "source": [
    "def adj_r2(y_test, y_pred, df):\n",
    "    r2 = r2_score(y_test, y_pred)\n",
    "    n = df.shape[0]   # number of observations\n",
    "    p = df.shape[1]-1 # number of independent variables \n",
    "    adj_r2 = 1 - (1-r2)*(n-1)/(n-p-1)\n",
    "    return adj_r2\n",
    "\n",
    "#feature arttıkça burada yalancı bir iyileşme artış olur ama bu yalancı bir durum\n",
    "\n",
    "#getdummies de satır değil sütun sayısı artıyor yani yalancı\n",
    "\n",
    "#gözlem sayısnı arttırmadan feature sayısını arttırrısan yalancı bir iyileşme olur"
   ]
  },
  {
   "cell_type": "code",
   "execution_count": 112,
   "id": "parental-depression",
   "metadata": {},
   "outputs": [
    {
     "data": {
      "text/plain": [
       "0.8588182832335933"
      ]
     },
     "execution_count": 112,
     "metadata": {},
     "output_type": "execute_result"
    }
   ],
   "source": [
    "adj_r2(y_test, y_pred, df)\n",
    "\n",
    "#https://towardsdatascience.com/demystifying-r-squared-and-adjusted-r-squared-52903c006a60\n",
    "\n",
    "#tavsiye makale\n",
    "\n",
    "#%86 olan değer %85 olmuş yani çok büyük bir değişim değil. Yani yalancı değişim yok gibi\n",
    "#özellikle dummies featurlar ile feature sayım çok arttıysa veya datamın orjinalinde çok fazla featura varsa bu fonksiyon ile gerçek r2 scoreunu alıyorum\n",
    "#diğer datalar için bu scora bakmaya gerek yok\n"
   ]
  },
  {
   "cell_type": "markdown",
   "id": "purple-cornwall",
   "metadata": {},
   "source": [
    "## What is the concept of punishment for RMSE error metric?"
   ]
  },
  {
   "cell_type": "code",
   "execution_count": 41,
   "id": "minor-election",
   "metadata": {},
   "outputs": [],
   "source": [
    "variables = {\"Actual\": [1000, 2000, 3000, 4000, 5000], \"pred\": [1100, 2200, 3200, 4200, 5300]}"
   ]
  },
  {
   "cell_type": "code",
   "execution_count": 42,
   "id": "surprising-bidder",
   "metadata": {},
   "outputs": [
    {
     "data": {
      "text/html": [
       "<div>\n",
       "<style scoped>\n",
       "    .dataframe tbody tr th:only-of-type {\n",
       "        vertical-align: middle;\n",
       "    }\n",
       "\n",
       "    .dataframe tbody tr th {\n",
       "        vertical-align: top;\n",
       "    }\n",
       "\n",
       "    .dataframe thead th {\n",
       "        text-align: right;\n",
       "    }\n",
       "</style>\n",
       "<table border=\"1\" class=\"dataframe\">\n",
       "  <thead>\n",
       "    <tr style=\"text-align: right;\">\n",
       "      <th></th>\n",
       "      <th>Actual</th>\n",
       "      <th>pred</th>\n",
       "    </tr>\n",
       "  </thead>\n",
       "  <tbody>\n",
       "    <tr>\n",
       "      <th>0</th>\n",
       "      <td>1000</td>\n",
       "      <td>1100</td>\n",
       "    </tr>\n",
       "    <tr>\n",
       "      <th>1</th>\n",
       "      <td>2000</td>\n",
       "      <td>2200</td>\n",
       "    </tr>\n",
       "    <tr>\n",
       "      <th>2</th>\n",
       "      <td>3000</td>\n",
       "      <td>3200</td>\n",
       "    </tr>\n",
       "    <tr>\n",
       "      <th>3</th>\n",
       "      <td>4000</td>\n",
       "      <td>4200</td>\n",
       "    </tr>\n",
       "    <tr>\n",
       "      <th>4</th>\n",
       "      <td>5000</td>\n",
       "      <td>5300</td>\n",
       "    </tr>\n",
       "  </tbody>\n",
       "</table>\n",
       "</div>"
      ],
      "text/plain": [
       "   Actual  pred\n",
       "0    1000  1100\n",
       "1    2000  2200\n",
       "2    3000  3200\n",
       "3    4000  4200\n",
       "4    5000  5300"
      ]
     },
     "execution_count": 42,
     "metadata": {},
     "output_type": "execute_result"
    }
   ],
   "source": [
    "df_2 = pd.DataFrame(variables)\n",
    "df_2"
   ]
  },
  {
   "cell_type": "code",
   "execution_count": 43,
   "id": "listed-webcam",
   "metadata": {},
   "outputs": [],
   "source": [
    "df_2[\"residual\"] = abs(df_2.Actual - df_2.pred)\n",
    "\n",
    "#absolute değerlerini aldım"
   ]
  },
  {
   "cell_type": "code",
   "execution_count": 44,
   "id": "foster-maple",
   "metadata": {},
   "outputs": [
    {
     "data": {
      "text/html": [
       "<div>\n",
       "<style scoped>\n",
       "    .dataframe tbody tr th:only-of-type {\n",
       "        vertical-align: middle;\n",
       "    }\n",
       "\n",
       "    .dataframe tbody tr th {\n",
       "        vertical-align: top;\n",
       "    }\n",
       "\n",
       "    .dataframe thead th {\n",
       "        text-align: right;\n",
       "    }\n",
       "</style>\n",
       "<table border=\"1\" class=\"dataframe\">\n",
       "  <thead>\n",
       "    <tr style=\"text-align: right;\">\n",
       "      <th></th>\n",
       "      <th>Actual</th>\n",
       "      <th>pred</th>\n",
       "      <th>residual</th>\n",
       "    </tr>\n",
       "  </thead>\n",
       "  <tbody>\n",
       "    <tr>\n",
       "      <th>0</th>\n",
       "      <td>1000</td>\n",
       "      <td>1100</td>\n",
       "      <td>100</td>\n",
       "    </tr>\n",
       "    <tr>\n",
       "      <th>1</th>\n",
       "      <td>2000</td>\n",
       "      <td>2200</td>\n",
       "      <td>200</td>\n",
       "    </tr>\n",
       "    <tr>\n",
       "      <th>2</th>\n",
       "      <td>3000</td>\n",
       "      <td>3200</td>\n",
       "      <td>200</td>\n",
       "    </tr>\n",
       "    <tr>\n",
       "      <th>3</th>\n",
       "      <td>4000</td>\n",
       "      <td>4200</td>\n",
       "      <td>200</td>\n",
       "    </tr>\n",
       "    <tr>\n",
       "      <th>4</th>\n",
       "      <td>5000</td>\n",
       "      <td>5300</td>\n",
       "      <td>300</td>\n",
       "    </tr>\n",
       "  </tbody>\n",
       "</table>\n",
       "</div>"
      ],
      "text/plain": [
       "   Actual  pred  residual\n",
       "0    1000  1100       100\n",
       "1    2000  2200       200\n",
       "2    3000  3200       200\n",
       "3    4000  4200       200\n",
       "4    5000  5300       300"
      ]
     },
     "execution_count": 44,
     "metadata": {},
     "output_type": "execute_result"
    }
   ],
   "source": [
    "df_2"
   ]
  },
  {
   "cell_type": "code",
   "execution_count": 45,
   "id": "statistical-society",
   "metadata": {},
   "outputs": [
    {
     "data": {
      "text/plain": [
       "200.0"
      ]
     },
     "execution_count": 45,
     "metadata": {},
     "output_type": "execute_result"
    }
   ],
   "source": [
    "#mae\n",
    "df_2.residual.sum()/5 #200"
   ]
  },
  {
   "cell_type": "code",
   "execution_count": 46,
   "id": "equivalent-exhibition",
   "metadata": {},
   "outputs": [
    {
     "data": {
      "text/plain": [
       "209.76176963403032"
      ]
     },
     "execution_count": 46,
     "metadata": {},
     "output_type": "execute_result"
    }
   ],
   "source": [
    "#rmse\n",
    "((df_2.residual**2).sum()/5)**0.5 #209.76"
   ]
  },
  {
   "cell_type": "code",
   "execution_count": null,
   "id": "aware-connectivity",
   "metadata": {},
   "outputs": [],
   "source": []
  },
  {
   "cell_type": "markdown",
   "id": "adjustable-presence",
   "metadata": {},
   "source": [
    "## Evaluation Model"
   ]
  },
  {
   "cell_type": "code",
   "execution_count": 47,
   "id": "maritime-physiology",
   "metadata": {},
   "outputs": [],
   "source": [
    "def eval_metric(actual, pred):\n",
    "    mae = mean_absolute_error(actual, pred)\n",
    "    mse = mean_squared_error(actual, pred)\n",
    "    rmse = np.sqrt(mean_squared_error(actual, pred))\n",
    "    R2_score = r2_score(actual, pred)\n",
    "    print(\"Model testing performance:\")\n",
    "    print(\"--------------------------\")\n",
    "    print(f\"R2_score \\t: {R2_score}\")\n",
    "    print(f\"MAE \\t\\t: {mae}\")\n",
    "    print(f\"MSE \\t\\t: {mse}\")\n",
    "    print(f\"RMSE \\t\\t: {rmse}\")\n",
    "    \n",
    "#çok temiz yazılmış, mükkk :D"
   ]
  },
  {
   "cell_type": "code",
   "execution_count": 48,
   "id": "flying-economy",
   "metadata": {},
   "outputs": [
    {
     "name": "stdout",
     "output_type": "stream",
     "text": [
      "Model testing performance:\n",
      "--------------------------\n",
      "R2_score \t: 0.8609466508230367\n",
      "MAE \t\t: 1.511669222454909\n",
      "MSE \t\t: 3.7967972367152223\n",
      "RMSE \t\t: 1.9485372043446392\n"
     ]
    }
   ],
   "source": [
    "eval_metric(y_test, y_pred)\n",
    "\n",
    "#yukarıdaki tanımlanmış def i çağırdık"
   ]
  },
  {
   "cell_type": "code",
   "execution_count": 49,
   "id": "aboriginal-kelly",
   "metadata": {},
   "outputs": [],
   "source": [
    "y_train_pred = model.predict(X_train)\n",
    "\n",
    "#train ettiğim datayı bir de kendisi ile test ediyorum .\n",
    "\n",
    "#train ile test yakın olmalı, yoksa memorizing gibimsi olur"
   ]
  },
  {
   "cell_type": "code",
   "execution_count": 50,
   "id": "located-mountain",
   "metadata": {},
   "outputs": [
    {
     "name": "stdout",
     "output_type": "stream",
     "text": [
      "Model testing performance:\n",
      "--------------------------\n",
      "R2_score \t: 0.9055159502227753\n",
      "MAE \t\t: 1.1581502948072533\n",
      "MSE \t\t: 2.4793551789057866\n",
      "RMSE \t\t: 1.574596830590544\n"
     ]
    }
   ],
   "source": [
    "eval_metric(y_train, y_train_pred)"
   ]
  },
  {
   "cell_type": "code",
   "execution_count": null,
   "id": "legitimate-treat",
   "metadata": {},
   "outputs": [],
   "source": [
    "#kendi train setinde aldığı değer ile test setindeki scorlera tutarlı değilse bu ezberlemektir yani overfitting oluyor. "
   ]
  },
  {
   "cell_type": "markdown",
   "id": "amended-pension",
   "metadata": {},
   "source": [
    "## Is data suitable for linear regression?\n",
    "\n",
    "https://stats.stackexchange.com/questions/12262/what-if-residuals-are-normally-distributed-but-y-is-not"
   ]
  },
  {
   "cell_type": "markdown",
   "id": "lesbian-announcement",
   "metadata": {},
   "source": [
    "## Plotting residuals"
   ]
  },
  {
   "cell_type": "code",
   "execution_count": 51,
   "id": "through-junction",
   "metadata": {},
   "outputs": [],
   "source": [
    "residuals = y_test-y_pred"
   ]
  },
  {
   "cell_type": "code",
   "execution_count": 102,
   "id": "entitled-wallace",
   "metadata": {},
   "outputs": [
    {
     "data": {
      "image/png": "[encoded data removed]",
      "text/plain": [
       "<Figure size 720x432 with 1 Axes>"
      ]
     },
     "metadata": {},
     "output_type": "display_data"
    }
   ],
   "source": [
    "plt.figure(figsize = (10,6))\n",
    "sns.scatterplot(x = y_test, y = residuals) #-residuals\n",
    "plt.axhline(y = 0, color =\"r\", linestyle = \"--\")\n",
    "plt.ylabel(\"residuals\")\n",
    "plt.show()\n",
    "\n",
    "#ratgele dağılması lazım hem de belli bir pattern izlememesi gerekiyor.\n",
    "#normal dağılıma ne kadar uygunsa, o kadar linear reg a uygundur"
   ]
  },
  {
   "cell_type": "code",
   "execution_count": 53,
   "id": "amateur-reminder",
   "metadata": {},
   "outputs": [
    {
     "data": {
      "text/plain": [
       "<AxesSubplot:xlabel='sales', ylabel='Density'>"
      ]
     },
     "execution_count": 53,
     "metadata": {},
     "output_type": "execute_result"
    },
    {
     "data": {
      "image/png": "[encoded data removed]",
      "text/plain": [
       "<Figure size 720x432 with 1 Axes>"
      ]
     },
     "metadata": {
      "needs_background": "light"
     },
     "output_type": "display_data"
    }
   ],
   "source": [
    "sns.kdeplot(residuals)"
   ]
  },
  {
   "cell_type": "code",
   "execution_count": 101,
   "id": "breathing-douglas",
   "metadata": {},
   "outputs": [
    {
     "data": {
      "image/png": "[encoded data removed]",
      "text/plain": [
       "<Figure size 576x396 with 1 Axes>"
      ]
     },
     "metadata": {},
     "output_type": "display_data"
    }
   ],
   "source": [
    "stats.probplot(residuals, dist =\"norm\", plot =plt);\n",
    "\n",
    "#alternatif gösterim. Genelde bu kullanılıyor. Kırmızı çizginin etrafında sarmaşık gibi dolanıyorsa normal dağılıma yakın demektir."
   ]
  },
  {
   "cell_type": "code",
   "execution_count": 55,
   "id": "compound-workshop",
   "metadata": {},
   "outputs": [
    {
     "data": {
      "text/plain": [
       "-0.9865673346742734"
      ]
     },
     "execution_count": 55,
     "metadata": {},
     "output_type": "execute_result"
    }
   ],
   "source": [
    "from scipy.stats import skew\n",
    "skew(residuals)\n",
    "\n",
    "#skewness değerlendirmesi"
   ]
  },
  {
   "cell_type": "code",
   "execution_count": 56,
   "id": "38803f6f",
   "metadata": {},
   "outputs": [],
   "source": [
    "#pip install yellowbrick\n",
    "\n",
    "#hep kullanılacak. Görsellik için kullanılan bir kütüphanedir."
   ]
  },
  {
   "cell_type": "code",
   "execution_count": 98,
   "id": "macro-sunday",
   "metadata": {},
   "outputs": [
    {
     "data": {
      "image/png": "[encoded data removed]",
      "text/plain": [
       "<Figure size 576x396 with 2 Axes>"
      ]
     },
     "metadata": {},
     "output_type": "display_data"
    }
   ],
   "source": [
    "from yellowbrick.regressor import ResidualsPlot\n",
    "\n",
    "# Instantiate the linear model and visualizer\n",
    "model = LinearRegression()\n",
    "visualizer = ResidualsPlot(model)\n",
    "\n",
    "visualizer.fit(X_train, y_train)  # Fit the training data to the visualizer\n",
    "visualizer.score(X_test, y_test)  # Evaluate the model on the test data\n",
    "visualizer.show();        # Finalize and render the figure\n",
    "\n",
    "#???"
   ]
  },
  {
   "cell_type": "markdown",
   "id": "imperial-seafood",
   "metadata": {},
   "source": [
    "## Prediction Error for LinearRegression"
   ]
  },
  {
   "cell_type": "code",
   "execution_count": 81,
   "id": "south-pocket",
   "metadata": {},
   "outputs": [
    {
     "data": {
      "image/png": "[encoded data removed]",
      "text/plain": [
       "<Figure size 576x396 with 1 Axes>"
      ]
     },
     "metadata": {},
     "output_type": "display_data"
    }
   ],
   "source": [
    "from yellowbrick.regressor import PredictionError\n",
    "# Instantiate the linear model and visualizer\n",
    "model = LinearRegression()\n",
    "visualizer = PredictionError(model)\n",
    "\n",
    "visualizer.fit(X_train, y_train)  # Fit the training data to the visualizer\n",
    "visualizer.score(X_test, y_test)  # Evaluate the model on the test data\n",
    "visualizer.show();    "
   ]
  },
  {
   "cell_type": "markdown",
   "id": "06c90dbf-13cc-40d9-bfb1-81042111c1e5",
   "metadata": {},
   "source": [
    "iki kesikli çizgi birbirine ne kadar yakınsa, modelimiz o kadar başarılıdır"
   ]
  },
  {
   "cell_type": "code",
   "execution_count": null,
   "id": "together-presentation",
   "metadata": {},
   "outputs": [],
   "source": []
  },
  {
   "cell_type": "markdown",
   "id": "conservative-orbit",
   "metadata": {},
   "source": [
    "## Retraining Model on Full Data"
   ]
  },
  {
   "cell_type": "code",
   "execution_count": 22,
   "id": "appointed-redhead",
   "metadata": {},
   "outputs": [],
   "source": [
    "final_model = LinearRegression()\n",
    "\n",
    "#ne kadar ekmek o kadar köfte, eğitim ne kadar sağlam ve çok yapılırsa o kadar iyi"
   ]
  },
  {
   "cell_type": "code",
   "execution_count": 23,
   "id": "cellular-iceland",
   "metadata": {},
   "outputs": [
    {
     "data": {
      "text/plain": [
       "LinearRegression()"
      ]
     },
     "execution_count": 23,
     "metadata": {},
     "output_type": "execute_result"
    }
   ],
   "source": [
    "final_model.fit(X, y)"
   ]
  },
  {
   "cell_type": "markdown",
   "id": "collective-apollo",
   "metadata": {},
   "source": [
    "## Coefficients"
   ]
  },
  {
   "cell_type": "code",
   "execution_count": 61,
   "id": "incident-disabled",
   "metadata": {},
   "outputs": [
    {
     "data": {
      "text/plain": [
       "array([ 0.04576465,  0.18853002, -0.00103749])"
      ]
     },
     "execution_count": 61,
     "metadata": {},
     "output_type": "execute_result"
    }
   ],
   "source": [
    "final_model.coef_ \n",
    "\n",
    "#her birinin targetı nasıl etkilediğine bakıyorum\n",
    "# katsayıları kullanma sebebimiz : birbirlerini nasıl etkilediklerini görmek\n"
   ]
  },
  {
   "cell_type": "code",
   "execution_count": 62,
   "id": "stone-cooking",
   "metadata": {},
   "outputs": [
    {
     "data": {
      "text/plain": [
       "2.9388893694594085"
      ]
     },
     "execution_count": 62,
     "metadata": {},
     "output_type": "execute_result"
    }
   ],
   "source": [
    "final_model.intercept_"
   ]
  },
  {
   "cell_type": "code",
   "execution_count": 63,
   "id": "spare-meaning",
   "metadata": {},
   "outputs": [
    {
     "data": {
      "text/html": [
       "<div>\n",
       "<style scoped>\n",
       "    .dataframe tbody tr th:only-of-type {\n",
       "        vertical-align: middle;\n",
       "    }\n",
       "\n",
       "    .dataframe tbody tr th {\n",
       "        vertical-align: top;\n",
       "    }\n",
       "\n",
       "    .dataframe thead th {\n",
       "        text-align: right;\n",
       "    }\n",
       "</style>\n",
       "<table border=\"1\" class=\"dataframe\">\n",
       "  <thead>\n",
       "    <tr style=\"text-align: right;\">\n",
       "      <th></th>\n",
       "      <th>TV</th>\n",
       "      <th>radio</th>\n",
       "      <th>newspaper</th>\n",
       "      <th>sales</th>\n",
       "    </tr>\n",
       "  </thead>\n",
       "  <tbody>\n",
       "    <tr>\n",
       "      <th>0</th>\n",
       "      <td>230.1</td>\n",
       "      <td>37.8</td>\n",
       "      <td>69.2</td>\n",
       "      <td>22.1</td>\n",
       "    </tr>\n",
       "    <tr>\n",
       "      <th>1</th>\n",
       "      <td>44.5</td>\n",
       "      <td>39.3</td>\n",
       "      <td>45.1</td>\n",
       "      <td>10.4</td>\n",
       "    </tr>\n",
       "    <tr>\n",
       "      <th>2</th>\n",
       "      <td>17.2</td>\n",
       "      <td>45.9</td>\n",
       "      <td>69.3</td>\n",
       "      <td>9.3</td>\n",
       "    </tr>\n",
       "    <tr>\n",
       "      <th>3</th>\n",
       "      <td>151.5</td>\n",
       "      <td>41.3</td>\n",
       "      <td>58.5</td>\n",
       "      <td>18.5</td>\n",
       "    </tr>\n",
       "    <tr>\n",
       "      <th>4</th>\n",
       "      <td>180.8</td>\n",
       "      <td>10.8</td>\n",
       "      <td>58.4</td>\n",
       "      <td>12.9</td>\n",
       "    </tr>\n",
       "  </tbody>\n",
       "</table>\n",
       "</div>"
      ],
      "text/plain": [
       "      TV  radio  newspaper  sales\n",
       "0  230.1   37.8       69.2   22.1\n",
       "1   44.5   39.3       45.1   10.4\n",
       "2   17.2   45.9       69.3    9.3\n",
       "3  151.5   41.3       58.5   18.5\n",
       "4  180.8   10.8       58.4   12.9"
      ]
     },
     "execution_count": 63,
     "metadata": {},
     "output_type": "execute_result"
    }
   ],
   "source": [
    "df.head()"
   ]
  },
  {
   "cell_type": "code",
   "execution_count": 64,
   "id": "vertical-heart",
   "metadata": {},
   "outputs": [],
   "source": [
    "coeff_df = pd.DataFrame(final_model.coef_, index = X.columns, columns = [\"Coefficient\"] )"
   ]
  },
  {
   "cell_type": "code",
   "execution_count": 65,
   "id": "brave-assumption",
   "metadata": {},
   "outputs": [
    {
     "data": {
      "text/html": [
       "<div>\n",
       "<style scoped>\n",
       "    .dataframe tbody tr th:only-of-type {\n",
       "        vertical-align: middle;\n",
       "    }\n",
       "\n",
       "    .dataframe tbody tr th {\n",
       "        vertical-align: top;\n",
       "    }\n",
       "\n",
       "    .dataframe thead th {\n",
       "        text-align: right;\n",
       "    }\n",
       "</style>\n",
       "<table border=\"1\" class=\"dataframe\">\n",
       "  <thead>\n",
       "    <tr style=\"text-align: right;\">\n",
       "      <th></th>\n",
       "      <th>Coefficient</th>\n",
       "    </tr>\n",
       "  </thead>\n",
       "  <tbody>\n",
       "    <tr>\n",
       "      <th>TV</th>\n",
       "      <td>0.045765</td>\n",
       "    </tr>\n",
       "    <tr>\n",
       "      <th>radio</th>\n",
       "      <td>0.188530</td>\n",
       "    </tr>\n",
       "    <tr>\n",
       "      <th>newspaper</th>\n",
       "      <td>-0.001037</td>\n",
       "    </tr>\n",
       "  </tbody>\n",
       "</table>\n",
       "</div>"
      ],
      "text/plain": [
       "           Coefficient\n",
       "TV            0.045765\n",
       "radio         0.188530\n",
       "newspaper    -0.001037"
      ]
     },
     "execution_count": 65,
     "metadata": {},
     "output_type": "execute_result"
    }
   ],
   "source": [
    "coeff_df"
   ]
  },
  {
   "cell_type": "code",
   "execution_count": null,
   "id": "honest-causing",
   "metadata": {},
   "outputs": [],
   "source": []
  },
  {
   "cell_type": "markdown",
   "id": "handmade-intent",
   "metadata": {},
   "source": [
    "## Prediction on New Data"
   ]
  },
  {
   "cell_type": "code",
   "execution_count": 66,
   "id": "stable-kansas",
   "metadata": {},
   "outputs": [],
   "source": [
    "adv = [[150, 20, 15]]\n",
    "\n",
    "#iki boyutlu olduğunu belirtmek için çift parantez kullanırım.\n",
    "#yapmazsak zaten uyarı alırız\n"
   ]
  },
  {
   "cell_type": "code",
   "execution_count": 67,
   "id": "interpreted-packet",
   "metadata": {},
   "outputs": [
    {
     "data": {
      "text/plain": [
       "[[150, 20, 15]]"
      ]
     },
     "execution_count": 67,
     "metadata": {},
     "output_type": "execute_result"
    }
   ],
   "source": [
    "adv"
   ]
  },
  {
   "cell_type": "code",
   "execution_count": 68,
   "id": "liberal-lexington",
   "metadata": {},
   "outputs": [
    {
     "data": {
      "text/plain": [
       "array([13.55862413])"
      ]
     },
     "execution_count": 68,
     "metadata": {},
     "output_type": "execute_result"
    }
   ],
   "source": [
    "final_model.predict(adv) \n",
    "\n",
    "#y-pred"
   ]
  },
  {
   "cell_type": "code",
   "execution_count": 69,
   "id": "5b539d3e",
   "metadata": {},
   "outputs": [
    {
     "data": {
      "text/plain": [
       "array([ 0.04576465,  0.18853002, -0.00103749])"
      ]
     },
     "execution_count": 69,
     "metadata": {},
     "output_type": "execute_result"
    }
   ],
   "source": [
    "final_model.coef_"
   ]
  },
  {
   "cell_type": "code",
   "execution_count": 70,
   "id": "ad81401d",
   "metadata": {},
   "outputs": [
    {
     "data": {
      "text/plain": [
       "2.9388893694594085"
      ]
     },
     "execution_count": 70,
     "metadata": {},
     "output_type": "execute_result"
    }
   ],
   "source": [
    "final_model.intercept_"
   ]
  },
  {
   "cell_type": "code",
   "execution_count": 71,
   "id": "921ef42b",
   "metadata": {},
   "outputs": [
    {
     "data": {
      "text/plain": [
       "13.558624130495996"
      ]
     },
     "execution_count": 71,
     "metadata": {},
     "output_type": "execute_result"
    }
   ],
   "source": [
    "sum(final_model.coef_ * [150, 20, 15]) + final_model.intercept_ #y-pred"
   ]
  },
  {
   "cell_type": "code",
   "execution_count": null,
   "id": "699a8de1",
   "metadata": {},
   "outputs": [],
   "source": []
  },
  {
   "cell_type": "code",
   "execution_count": 73,
   "id": "handy-producer",
   "metadata": {},
   "outputs": [],
   "source": [
    "adv_2 = [[150, 20, 15], [160, 20, 15]]"
   ]
  },
  {
   "cell_type": "code",
   "execution_count": 74,
   "id": "medium-firmware",
   "metadata": {},
   "outputs": [
    {
     "data": {
      "text/plain": [
       "array([13.55862413, 14.01627059])"
      ]
     },
     "execution_count": 74,
     "metadata": {},
     "output_type": "execute_result"
    }
   ],
   "source": [
    "final_model.predict(adv_2)"
   ]
  },
  {
   "cell_type": "code",
   "execution_count": 75,
   "id": "4d19fe9b",
   "metadata": {},
   "outputs": [
    {
     "data": {
      "text/plain": [
       "0.4576464599999994"
      ]
     },
     "execution_count": 75,
     "metadata": {},
     "output_type": "execute_result"
    }
   ],
   "source": [
    "14.01627059 - 13.55862413"
   ]
  },
  {
   "cell_type": "markdown",
   "id": "brown-clothing",
   "metadata": {},
   "source": [
    "## The effect of features on the predicted label"
   ]
  },
  {
   "cell_type": "code",
   "execution_count": 76,
   "id": "chubby-representation",
   "metadata": {},
   "outputs": [
    {
     "data": {
      "text/html": [
       "<div>\n",
       "<style scoped>\n",
       "    .dataframe tbody tr th:only-of-type {\n",
       "        vertical-align: middle;\n",
       "    }\n",
       "\n",
       "    .dataframe tbody tr th {\n",
       "        vertical-align: top;\n",
       "    }\n",
       "\n",
       "    .dataframe thead th {\n",
       "        text-align: right;\n",
       "    }\n",
       "</style>\n",
       "<table border=\"1\" class=\"dataframe\">\n",
       "  <thead>\n",
       "    <tr style=\"text-align: right;\">\n",
       "      <th></th>\n",
       "      <th>Coefficient</th>\n",
       "    </tr>\n",
       "  </thead>\n",
       "  <tbody>\n",
       "    <tr>\n",
       "      <th>TV</th>\n",
       "      <td>0.045765</td>\n",
       "    </tr>\n",
       "    <tr>\n",
       "      <th>radio</th>\n",
       "      <td>0.188530</td>\n",
       "    </tr>\n",
       "    <tr>\n",
       "      <th>newspaper</th>\n",
       "      <td>-0.001037</td>\n",
       "    </tr>\n",
       "  </tbody>\n",
       "</table>\n",
       "</div>"
      ],
      "text/plain": [
       "           Coefficient\n",
       "TV            0.045765\n",
       "radio         0.188530\n",
       "newspaper    -0.001037"
      ]
     },
     "execution_count": 76,
     "metadata": {},
     "output_type": "execute_result"
    }
   ],
   "source": [
    "coeff_df\n",
    "\n",
    "#hangi feature önemli hangisi önemsiz onu gösterecek"
   ]
  },
  {
   "cell_type": "code",
   "execution_count": 93,
   "id": "bc2b8d54",
   "metadata": {},
   "outputs": [
    {
     "data": {
      "text/plain": [
       "TV           6.864697\n",
       "radio        3.770600\n",
       "newspaper   -0.015562\n",
       "Name: Coefficient, dtype: float64"
      ]
     },
     "execution_count": 93,
     "metadata": {},
     "output_type": "execute_result"
    }
   ],
   "source": [
    "coeff_df.Coefficient * adv[0]\n",
    "\n",
    "#y-pred= b1*x + b2*x + b3*x +b0 = 13.55"
   ]
  },
  {
   "cell_type": "code",
   "execution_count": 79,
   "id": "absent-samuel",
   "metadata": {},
   "outputs": [
    {
     "data": {
      "text/plain": [
       "0.5062974630892729"
      ]
     },
     "execution_count": 79,
     "metadata": {},
     "output_type": "execute_result"
    }
   ],
   "source": [
    "6.864697 / 13.55862413"
   ]
  },
  {
   "cell_type": "code",
   "execution_count": 80,
   "id": "frank-apparel",
   "metadata": {},
   "outputs": [
    {
     "data": {
      "text/plain": [
       "0.2780960637191142"
      ]
     },
     "execution_count": 80,
     "metadata": {},
     "output_type": "execute_result"
    }
   ],
   "source": [
    "3.770600 / 13.55862413"
   ]
  },
  {
   "cell_type": "code",
   "execution_count": 83,
   "id": "unique-hamburg",
   "metadata": {},
   "outputs": [
    {
     "data": {
      "text/plain": [
       "-0.0011477565755043907"
      ]
     },
     "execution_count": 83,
     "metadata": {},
     "output_type": "execute_result"
    }
   ],
   "source": [
    "-0.015562 / 13.55862413"
   ]
  },
  {
   "cell_type": "code",
   "execution_count": null,
   "id": "e49722f4",
   "metadata": {},
   "outputs": [],
   "source": []
  }
 ],
 "metadata": {
  "kernelspec": {
   "display_name": "Python 3",
   "language": "python",
   "name": "python3"
  },
  "language_info": {
   "codemirror_mode": {
    "name": "ipython",
    "version": 3
   },
   "file_extension": ".py",
   "mimetype": "text/x-python",
   "name": "python",
   "nbconvert_exporter": "python",
   "pygments_lexer": "ipython3",
   "version": "3.8.8"
  }
 },
 "nbformat": 4,
 "nbformat_minor": 5
}
